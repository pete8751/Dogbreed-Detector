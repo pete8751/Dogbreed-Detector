{
  "cells": [
    {
      "cell_type": "markdown",
      "metadata": {
        "id": "6_GFU2qsSNUd"
      },
      "source": [
        "Importing the tensorflow_datasets library."
      ]
    },
    {
      "cell_type": "code",
      "execution_count": null,
      "metadata": {
        "id": "qsREzHyZSNi9"
      },
      "outputs": [],
      "source": [
        "from tensorflow.keras import layers, models, preprocessing, applications\n",
        "import numpy as np\n",
        "import tensorflow as tf\n",
        "from keras.src.utils import to_categorical\n",
        "import tensorflow_datasets as tfds\n",
        "import matplotlib.pyplot as plt\n",
        "import cv2"
      ]
    },
    {
      "cell_type": "markdown",
      "metadata": {
        "id": "eRkoSYfySSr1"
      },
      "source": [
        "Loading in the stanford_dogs dataset, and splitting into train and test dataset. Train and Test dataset has images and labels."
      ]
    },
    {
      "cell_type": "code",
      "execution_count": null,
      "metadata": {
        "colab": {
          "base_uri": "https://localhost:8080/",
          "height": 249,
          "referenced_widgets": [
            "67430c24348c474b944e33459567c907",
            "09204eae9ad14b50a73f13467c2c6024",
            "0511ba828c184ec8a0a30be3fa04a1cf",
            "da37e8a901e746d2a23a0df9cbc92114",
            "ccf1cef901424eb79c7d011758ad9ba1",
            "c2498c88c337481483265d2bffe234d6",
            "56fb237cea434c9d9ebccac06c9f8fbe",
            "01aacce8c30145429eac2d2c11b5571d",
            "f9b559bbd90f4100b7aa7a0e6ef21979",
            "cbbd07713627417a89f4b17f5677547e",
            "5615eadd0e16415eb62efbbd0cde6a92",
            "cae2bc7eb7654e349661a17a2f7d8ee3",
            "36097c7b3f0947b68fb62668b84344c0",
            "86b4b8a52dbf42e78be46146bf674ece",
            "087f45bcae35465b84c6456b0ae3b6ec",
            "d31c74e55afb471f9362f82e251bb96e",
            "74846cf04dbf482a922981d8a2e63389",
            "41a1a7e0129048fbb092dfc09149496b",
            "3b6674164d964addbfa75c21ee612eef",
            "43d29bbc3ba7457fa769a6b8458b517c",
            "a74c2ba536e24c279c9d74cfba8c8fae",
            "dc383ae286c343819179c804e0faa280",
            "28c1ea8049ce45b58df8e991f6026e1a",
            "1534594942e74562b16559d10e251559",
            "dd3de3ef371b4e1e9765812a0c891646",
            "218c8150912044d5a2984af4c8471234",
            "5481732e3f12442ea0494cf7a05f909f",
            "60cd62572ef74284ae6059b8fd026cf2",
            "1ac2146e616d43a9b1ae9fedef72c271",
            "9323209a8f294541b82ca117dc103018",
            "315d52bb2e584f6fb1180360371588a8",
            "dbbf9e3da6f941f8b08ab33bee2a631f",
            "34f3d9b0c11e44f28a34dbf725a379bc",
            "dfbd8e5acbb14368b982fc33765c730d",
            "79e731d3b5b24348ac518ebba9587185",
            "6766ee3f2f9e4e4da9849604ca7147fa",
            "668da3c12ce4455ab4f5514071dcf3a0",
            "6856ea8b2a314fbbac61151e5db136bf",
            "dc2ebedc0330425796572d9028c83a43",
            "581369af4d9b43ddb72b460ad8e90631",
            "bd3ccc7210e64770b1cc6c60b946faf1",
            "9e8e94c7bf284b6da3460efeea81d194",
            "83a955d1556c416e81d97be12820e3b4",
            "f9aa471a0b3e4bca9e9df23a01bc099a",
            "21599de239924c5b8ef0094a28ec7c56",
            "6406406ad2274ada923c7ef0fbe526f2",
            "a5e306b7cecd43d3a8482ae9d3a2f476",
            "1543e748aa5b44cd9ada328affffbe15",
            "9f4e6d5c0389425384896fbd62f7ae69",
            "04cc91ae3f154b6ba757e052e00145c2",
            "5356040d9fd443b08bb4724455d7d3fd",
            "d1ff27b06b9e4870bf2fdd68a6185bc8",
            "0a9a1ec2d1da4bff8d284ee4e5e375bd",
            "5c148c3122ff4f17aa898c294a2ef025",
            "44be9b6ef5cd4a78ac23789bde1849a7",
            "8c6507bc34324f41977c28a679ab7a53",
            "1fb72544384d4ec79ac66b8ea25d245c",
            "13921209eaa94cf78ffe089138826d5d",
            "a176124de048480281b63859f513f2ce",
            "02577e810236408faa05529d3344bbbd",
            "d131943eebab427eb84d3eb76608ee67",
            "de77f613a9704487946020efaa43bd73",
            "e970aa3973b8403a833d6816dc70a956",
            "90a28cf7265f4532b46f0a32c31f747d",
            "26288ca2207b41f5b26523a07909c0ea",
            "dbd8c0d646b64b7a9af883c1e3962970",
            "a7bbe0363aca4dae81332ef1ff7199dd",
            "6f74fd122632481cb58de69aedbe4b9c",
            "c96a26b48a9d40a19057e46928b718ad",
            "0a630fe2faf244c8a0adfa4b756696d2",
            "cd6fc7d8671a44ee9cc63b52f231328b",
            "46484b443c074a71adc4504170cf9ee2",
            "b4c8824f38c54044977a80ce26e44c2f",
            "c81c78b77faf41f3aa64c2d9e17637dc",
            "9ee77bf6232a4d8fb46a9bdc7adf2f15",
            "35533484745d47fcba73f0e46895aaf4",
            "d5f57575f7144058adfa9d039d6eacd2",
            "9886a1b0d5854108a68fc5f9610f88b7",
            "7450df08994c42258d9bb30467be3106",
            "cdbcae5a2a554d30b5c688b8c1b1439c",
            "56f3467cd1934fa7a6749100f080c178",
            "d762f1e3ff4f4916bb48b08a50008fd7",
            "e24a8b3a63fd45108579f914058dc8b9",
            "dab81300eea94af680780db877ae5383",
            "40d95b28619046a8b23ca2141597e5df",
            "ab8b73420c9748bcbe0853c34e52cbe2",
            "8d00724b1bc9461393fff4168fef4755",
            "ea55bef5984c4634a18f302f9a16de29",
            "17ac1b52d4eb430f96a3818292a5fc86",
            "2fe639c1a7f646c1b62970f2dfbb9847",
            "1fc53baed5ca447380987b79af0a5f0a",
            "9af0fa20edf64b5db86492594902f7e1",
            "3bf5104275f14b62b5e7f08a53a73995",
            "8c6eccac806c4f0783f32147e800f2ed",
            "68a530ccbe5346808371a821ca4327d4",
            "e921738cd3b44a9fa26d7756334c9382",
            "d420ff3f41cf4b7f8aedc7bd116e09d3",
            "20aeb270738e4d69a41682dd3eaecd54",
            "a93edf8b21454870a7d43d094c20e881",
            "caf33a3df3714ff58e062c2d2ccba89f",
            "055aaf8ccd6c4a9c870acef804d8c071",
            "698298627f18446d8a6e335354c0008c",
            "9efb7d49ebc3411d8ab98aa5e30a6494",
            "feb5994d054948d5a4441d2fa23997bf",
            "3891c85cd5b8466885549c8aad582e77",
            "43352324164642bcbf49a9f810253314",
            "0b8890427d0c448ca5ffb2cf517d452b",
            "09184ee49ded4e96b2a72eb2ebc964ee",
            "4886353eeca944d7a76d8b9c96581271",
            "e47fd95bc93c41a497448c9062eadd46"
          ]
        },
        "id": "3OIxL0w5SQyN",
        "outputId": "06eb70e8-a6cb-435d-848e-354685ca4944"
      },
      "outputs": [
        {
          "output_type": "stream",
          "name": "stdout",
          "text": [
            "Downloading and preparing dataset 778.12 MiB (download: 778.12 MiB, generated: Unknown size, total: 778.12 MiB) to /root/tensorflow_datasets/stanford_dogs/0.2.0...\n"
          ]
        },
        {
          "output_type": "display_data",
          "data": {
            "text/plain": [
              "Dl Completed...: 0 url [00:00, ? url/s]"
            ],
            "application/vnd.jupyter.widget-view+json": {
              "version_major": 2,
              "version_minor": 0,
              "model_id": "67430c24348c474b944e33459567c907"
            }
          },
          "metadata": {}
        },
        {
          "output_type": "display_data",
          "data": {
            "text/plain": [
              "Dl Size...: 0 MiB [00:00, ? MiB/s]"
            ],
            "application/vnd.jupyter.widget-view+json": {
              "version_major": 2,
              "version_minor": 0,
              "model_id": "cae2bc7eb7654e349661a17a2f7d8ee3"
            }
          },
          "metadata": {}
        },
        {
          "output_type": "display_data",
          "data": {
            "text/plain": [
              "Dl Completed...: 0 url [00:00, ? url/s]"
            ],
            "application/vnd.jupyter.widget-view+json": {
              "version_major": 2,
              "version_minor": 0,
              "model_id": "28c1ea8049ce45b58df8e991f6026e1a"
            }
          },
          "metadata": {}
        },
        {
          "output_type": "display_data",
          "data": {
            "text/plain": [
              "Dl Size...: 0 MiB [00:00, ? MiB/s]"
            ],
            "application/vnd.jupyter.widget-view+json": {
              "version_major": 2,
              "version_minor": 0,
              "model_id": "dfbd8e5acbb14368b982fc33765c730d"
            }
          },
          "metadata": {}
        },
        {
          "output_type": "display_data",
          "data": {
            "text/plain": [
              "Extraction completed...: 0 file [00:00, ? file/s]"
            ],
            "application/vnd.jupyter.widget-view+json": {
              "version_major": 2,
              "version_minor": 0,
              "model_id": "21599de239924c5b8ef0094a28ec7c56"
            }
          },
          "metadata": {}
        },
        {
          "output_type": "display_data",
          "data": {
            "text/plain": [
              "Generating splits...:   0%|          | 0/2 [00:00<?, ? splits/s]"
            ],
            "application/vnd.jupyter.widget-view+json": {
              "version_major": 2,
              "version_minor": 0,
              "model_id": "8c6507bc34324f41977c28a679ab7a53"
            }
          },
          "metadata": {}
        },
        {
          "output_type": "display_data",
          "data": {
            "text/plain": [
              "Generating train examples...:   0%|          | 0/12000 [00:00<?, ? examples/s]"
            ],
            "application/vnd.jupyter.widget-view+json": {
              "version_major": 2,
              "version_minor": 0,
              "model_id": "a7bbe0363aca4dae81332ef1ff7199dd"
            }
          },
          "metadata": {}
        },
        {
          "output_type": "display_data",
          "data": {
            "text/plain": [
              "Shuffling /root/tensorflow_datasets/stanford_dogs/0.2.0.incomplete5KE13X/stanford_dogs-train.tfrecord*...:   0…"
            ],
            "application/vnd.jupyter.widget-view+json": {
              "version_major": 2,
              "version_minor": 0,
              "model_id": "9886a1b0d5854108a68fc5f9610f88b7"
            }
          },
          "metadata": {}
        },
        {
          "output_type": "display_data",
          "data": {
            "text/plain": [
              "Generating test examples...:   0%|          | 0/8580 [00:00<?, ? examples/s]"
            ],
            "application/vnd.jupyter.widget-view+json": {
              "version_major": 2,
              "version_minor": 0,
              "model_id": "17ac1b52d4eb430f96a3818292a5fc86"
            }
          },
          "metadata": {}
        },
        {
          "output_type": "display_data",
          "data": {
            "text/plain": [
              "Shuffling /root/tensorflow_datasets/stanford_dogs/0.2.0.incomplete5KE13X/stanford_dogs-test.tfrecord*...:   0%…"
            ],
            "application/vnd.jupyter.widget-view+json": {
              "version_major": 2,
              "version_minor": 0,
              "model_id": "caf33a3df3714ff58e062c2d2ccba89f"
            }
          },
          "metadata": {}
        },
        {
          "output_type": "stream",
          "name": "stdout",
          "text": [
            "Dataset stanford_dogs downloaded and prepared to /root/tensorflow_datasets/stanford_dogs/0.2.0. Subsequent calls will reuse this data.\n",
            "<_PrefetchDataset element_spec=(TensorSpec(shape=(None, None, 3), dtype=tf.uint8, name=None), TensorSpec(shape=(), dtype=tf.int64, name=None))>\n"
          ]
        }
      ],
      "source": [
        "dataset, metadata = tfds.load('stanford_dogs', as_supervised=True, with_info=True)\n",
        "train_dataset, test_dataset = dataset['train'], dataset['test']\n",
        "\n",
        "# trainData = list(train_dataset.as_numpy_iterator())\n",
        "# print(trainData)\n",
        "print(test_dataset)"
      ]
    },
    {
      "cell_type": "markdown",
      "metadata": {
        "id": "obokmbRfYyII"
      },
      "source": [
        "Extracting metadata information: class names, number of training and test data."
      ]
    },
    {
      "cell_type": "code",
      "execution_count": null,
      "metadata": {
        "colab": {
          "base_uri": "https://localhost:8080/"
        },
        "id": "PrbEcsZrYyYX",
        "outputId": "b494f457-5515-43c0-d5c8-430d78e97466"
      },
      "outputs": [
        {
          "output_type": "stream",
          "name": "stdout",
          "text": [
            "12000\n",
            "8580\n",
            "['n02085620-chihuahua', 'n02085782-japanese_spaniel', 'n02085936-maltese_dog', 'n02086079-pekinese', 'n02086240-shih-tzu', 'n02086646-blenheim_spaniel', 'n02086910-papillon', 'n02087046-toy_terrier', 'n02087394-rhodesian_ridgeback', 'n02088094-afghan_hound', 'n02088238-basset', 'n02088364-beagle', 'n02088466-bloodhound', 'n02088632-bluetick', 'n02089078-black-and-tan_coonhound', 'n02089867-walker_hound', 'n02089973-english_foxhound', 'n02090379-redbone', 'n02090622-borzoi', 'n02090721-irish_wolfhound', 'n02091032-italian_greyhound', 'n02091134-whippet', 'n02091244-ibizan_hound', 'n02091467-norwegian_elkhound', 'n02091635-otterhound', 'n02091831-saluki', 'n02092002-scottish_deerhound', 'n02092339-weimaraner', 'n02093256-staffordshire_bullterrier', 'n02093428-american_staffordshire_terrier', 'n02093647-bedlington_terrier', 'n02093754-border_terrier', 'n02093859-kerry_blue_terrier', 'n02093991-irish_terrier', 'n02094114-norfolk_terrier', 'n02094258-norwich_terrier', 'n02094433-yorkshire_terrier', 'n02095314-wire-haired_fox_terrier', 'n02095570-lakeland_terrier', 'n02095889-sealyham_terrier', 'n02096051-airedale', 'n02096177-cairn', 'n02096294-australian_terrier', 'n02096437-dandie_dinmont', 'n02096585-boston_bull', 'n02097047-miniature_schnauzer', 'n02097130-giant_schnauzer', 'n02097209-standard_schnauzer', 'n02097298-scotch_terrier', 'n02097474-tibetan_terrier', 'n02097658-silky_terrier', 'n02098105-soft-coated_wheaten_terrier', 'n02098286-west_highland_white_terrier', 'n02098413-lhasa', 'n02099267-flat-coated_retriever', 'n02099429-curly-coated_retriever', 'n02099601-golden_retriever', 'n02099712-labrador_retriever', 'n02099849-chesapeake_bay_retriever', 'n02100236-german_short-haired_pointer', 'n02100583-vizsla', 'n02100735-english_setter', 'n02100877-irish_setter', 'n02101006-gordon_setter', 'n02101388-brittany_spaniel', 'n02101556-clumber', 'n02102040-english_springer', 'n02102177-welsh_springer_spaniel', 'n02102318-cocker_spaniel', 'n02102480-sussex_spaniel', 'n02102973-irish_water_spaniel', 'n02104029-kuvasz', 'n02104365-schipperke', 'n02105056-groenendael', 'n02105162-malinois', 'n02105251-briard', 'n02105412-kelpie', 'n02105505-komondor', 'n02105641-old_english_sheepdog', 'n02105855-shetland_sheepdog', 'n02106030-collie', 'n02106166-border_collie', 'n02106382-bouvier_des_flandres', 'n02106550-rottweiler', 'n02106662-german_shepherd', 'n02107142-doberman', 'n02107312-miniature_pinscher', 'n02107574-greater_swiss_mountain_dog', 'n02107683-bernese_mountain_dog', 'n02107908-appenzeller', 'n02108000-entlebucher', 'n02108089-boxer', 'n02108422-bull_mastiff', 'n02108551-tibetan_mastiff', 'n02108915-french_bulldog', 'n02109047-great_dane', 'n02109525-saint_bernard', 'n02109961-eskimo_dog', 'n02110063-malamute', 'n02110185-siberian_husky', 'n02110627-affenpinscher', 'n02110806-basenji', 'n02110958-pug', 'n02111129-leonberg', 'n02111277-newfoundland', 'n02111500-great_pyrenees', 'n02111889-samoyed', 'n02112018-pomeranian', 'n02112137-chow', 'n02112350-keeshond', 'n02112706-brabancon_griffon', 'n02113023-pembroke', 'n02113186-cardigan', 'n02113624-toy_poodle', 'n02113712-miniature_poodle', 'n02113799-standard_poodle', 'n02113978-mexican_hairless', 'n02115641-dingo', 'n02115913-dhole', 'n02116738-african_hunting_dog']\n"
          ]
        }
      ],
      "source": [
        "num_train_examples = metadata.splits['train'].num_examples\n",
        "num_test_examples = metadata.splits['test'].num_examples\n",
        "class_names = metadata.features['label'].names\n",
        "\n",
        "# np.save('/content/class_names.npy', class_names)\n",
        "\n",
        "# print(training_labels)\n",
        "print(num_train_examples)\n",
        "print(num_test_examples)\n",
        "print(class_names)"
      ]
    },
    {
      "cell_type": "markdown",
      "source": [
        "Writing classnames to a python list so i can download and use it later. (I use regex to change format of names, for example in class_list, we have n02089078-black-and-tan_coonhound, but I will convert to Black-and-tan Coonhound."
      ],
      "metadata": {
        "id": "0XvaHUYDShem"
      }
    },
    {
      "cell_type": "code",
      "source": [
        "\n",
        "formatted_class_names = []\n",
        "\n",
        "for class_name in class_names:\n",
        "    # Remove the first 10 characters\n",
        "    stripped_name = class_name[10:]\n",
        "\n",
        "    # Replace underscores with spaces and capitalize appropriately\n",
        "    formatted_name = stripped_name.replace(\"_\", \" \").title()\n",
        "\n",
        "    formatted_class_names.append(formatted_name)\n",
        "\n",
        "with open('/content/class_labels.txt', 'w') as file:\n",
        "    for item in formatted_class_names:\n",
        "        file.write(f\"{item}\\n\")"
      ],
      "metadata": {
        "id": "3Hki5Y0iShtq"
      },
      "execution_count": null,
      "outputs": []
    },
    {
      "cell_type": "markdown",
      "metadata": {
        "id": "pEFNGX8yv-f8"
      },
      "source": [
        "Extracting data, resizing and putting it into python lists of labels and image data."
      ]
    },
    {
      "cell_type": "code",
      "execution_count": null,
      "metadata": {
        "id": "VU3nLuVbHIls"
      },
      "outputs": [],
      "source": [
        "#Helper function extracting images, and labels, and resizing images, then returning list of labels and images.\n",
        "\n",
        "def extractData(dataset):\n",
        "    image_list = []\n",
        "    label_list = []\n",
        "\n",
        "    for batch_data in dataset.batch(batch_size=1).as_numpy_iterator():\n",
        "        image, label = batch_data\n",
        "        img = cv2.resize(image[0], target_shape, interpolation=cv2.INTER_AREA)\n",
        "        # img2 = applications.xception.preprocess_input(img)\n",
        "        # print(img2.shape)\n",
        "        image_list.append(img)\n",
        "        label_list.append(label[0])\n",
        "\n",
        "    return (image_list, label_list)\n",
        "\n",
        "# Convert the lists to NumPy arrays\n",
        "target_shape = (299, 299)\n",
        "\n",
        "training_images_array, training_labels_array = extractData(train_dataset)\n",
        "testing_images_array, testing_labels_array = extractData(test_dataset)"
      ]
    },
    {
      "cell_type": "markdown",
      "metadata": {
        "id": "qHBqWkrCZxi-"
      },
      "source": [
        "Splitting into training, validation, and testing data and labels."
      ]
    },
    {
      "cell_type": "code",
      "execution_count": null,
      "metadata": {
        "id": "OR9LLBRwZxyk"
      },
      "outputs": [],
      "source": [
        "#I wanted to add an extra 1000 images for training, so I removed these from validation, and added them to training.\n",
        "#I give 4000 images for validation, and around 3500 images for testing.\n",
        "\n",
        "extra_training, extra_training_labels = testing_images_array[:1000], testing_labels_array[:1000]\n",
        "training_images_array = training_images_array + extra_training\n",
        "training_labels_array = training_labels_array + extra_training_labels\n",
        "\n",
        "validation_images_array, validation_labels_array = testing_images_array[1000:5000], testing_labels_array[1000:5000]\n",
        "testing_images_array, testing_labels_array = testing_images_array[5000:], testing_labels_array[5000:]"
      ]
    },
    {
      "cell_type": "markdown",
      "metadata": {
        "id": "G1ULzVJLLBtB"
      },
      "source": [
        "Saving Raw Data for easier access."
      ]
    },
    {
      "cell_type": "code",
      "execution_count": null,
      "metadata": {
        "id": "FrvTV6P1LB1i"
      },
      "outputs": [],
      "source": [
        "# training_images_array, validation_images_array = np.array(training_images_array), np.array(validation_images_array)\n",
        "# print(training_images_array.shape)\n",
        "# print(validation_images_array.shape)\n",
        "# training_images_array, validation_images_array = 0, 0\n",
        "testing_images_array = np.array(testing_images_array)\n",
        "\n",
        "# np.save('/content/raw_training.npy', training_images_array)\n",
        "# np.save('/content/raw_validation.npy', validation_images_array)\n",
        "np.save('/content/raw_testing.npy', testing_images_array)"
      ]
    },
    {
      "cell_type": "markdown",
      "metadata": {
        "id": "e8whUVUPgH32"
      },
      "source": [
        "Saving Labels Data for easier access."
      ]
    },
    {
      "cell_type": "code",
      "execution_count": null,
      "metadata": {
        "id": "74sxlWIKgH_d"
      },
      "outputs": [],
      "source": [
        "training_labels_array, validation_labels_array, testing_labels_array = np.array(training_labels_array), np.array(validation_labels_array), np.array(testing_labels_array)\n",
        "\n",
        "np.save('/content/training_labels.npy', training_labels_array)\n",
        "np.save('/content/validation_labels.npy', validation_labels_array)\n",
        "np.save('/content/testing_labels.npy', testing_labels_array)"
      ]
    },
    {
      "cell_type": "markdown",
      "metadata": {
        "id": "V2sqJAcPMF_L"
      },
      "source": [
        "Raw Data and Labels Retrieval"
      ]
    },
    {
      "cell_type": "code",
      "execution_count": null,
      "metadata": {
        "id": "H6t7u26MMGIh"
      },
      "outputs": [],
      "source": [
        "# training_images_array = np.load('/content/raw_training.npy')\n",
        "# validation_images_array = np.load('/content/raw_validation.npy')\n",
        "# testing_images_array = np.load('/content/raw_testing.npy')\n",
        "\n",
        "training_labels = np.load('/content/training_labels.npy')\n",
        "validation_labels = np.load('/content/validation_labels.npy')\n",
        "# testing_labels = np.load('/content/testing_labels.npy')"
      ]
    },
    {
      "cell_type": "markdown",
      "metadata": {
        "id": "WuOQ4EoMUEF7"
      },
      "source": [
        "Storing validation and training data for generators."
      ]
    },
    {
      "cell_type": "code",
      "execution_count": null,
      "metadata": {
        "id": "-6sZ6cWFUDYy"
      },
      "outputs": [],
      "source": [
        "i = 0\n",
        "for img in training_images_array:\n",
        "  padded_number = f'{i:05}'\n",
        "  np.save(f'/content/training_data/{padded_number}', img)\n",
        "  i += 1\n",
        "\n",
        "i = 0\n",
        "for img in validation_images_array:\n",
        "  padded_number = f'{i:04}'\n",
        "  np.save(f'/content/validation_data/{padded_number}', img)\n",
        "  i += 1\n"
      ]
    },
    {
      "cell_type": "markdown",
      "metadata": {
        "id": "rrPMVIG1Fv-v"
      },
      "source": [
        "Code to preprocess Data, and store them back in the directories."
      ]
    },
    {
      "cell_type": "code",
      "execution_count": null,
      "metadata": {
        "id": "csSJGaymFwK3",
        "colab": {
          "base_uri": "https://localhost:8080/"
        },
        "outputId": "ba540912-68bd-4aa7-c6ab-19c56b248b41"
      },
      "outputs": [
        {
          "output_type": "stream",
          "name": "stdout",
          "text": [
            "/physical_device:CPU:0\n",
            "/physical_device:GPU:0\n"
          ]
        }
      ],
      "source": [
        "# for i in range(0, len(training_labels)):\n",
        "#   padded_number = padded_number = f'{i:05}'\n",
        "#   npimg = np.load(f'/content/training_data/{padded_number}.npy')\n",
        "#   processed = applications.inception_v3.preprocess_input(npimg)\n",
        "#   np.save(f'/content/training_data/{padded_number}', processed)\n",
        "\n",
        "# for i in range(0, len(validation_labels)):\n",
        "#   padded_number = padded_number = f'{i:04}'\n",
        "#   npimg = np.load(f'/content/validation_data/{padded_number}.npy')\n",
        "#   processed = applications.inception_v3.preprocess_input(npimg)\n",
        "#   np.save(f'/content/validation_data/{padded_number}', processed)\n",
        "# import os\n",
        "# os.system('rm -rf /content/training_data/*')\n",
        "# os.system('rm -rf /content/validation_data/*')\n",
        "devices = tf.config.experimental.list_physical_devices()\n",
        "for device in devices:\n",
        "  print(device.name)"
      ]
    },
    {
      "cell_type": "markdown",
      "metadata": {
        "id": "WzSiD_XhQAKn"
      },
      "source": [
        "Function to process data in batches and return result (conserves ram)."
      ]
    },
    {
      "cell_type": "code",
      "execution_count": null,
      "metadata": {
        "id": "ysSwThmPQAS2"
      },
      "outputs": [],
      "source": [
        "# def batch_processer(image_array, batch_size):\n",
        "#   num_batches = (len(image_array) + batch_size - 1) // batch_size\n",
        "#   final_preprocessed_data = np.empty((0, 299, 299, 3))\n",
        "\n",
        "#   for i in range(num_batches):\n",
        "#     startind = i * batch_size\n",
        "#     endind = min((i + 1) * batch_size, len(image_array))\n",
        "#     batch_images = image_array[startind:endind]\n",
        "\n",
        "#     preprocessed_batch = applications.xception.preprocess_input(batch_images)\n",
        "\n",
        "#     final_preprocessed_data = np.concatenate((final_preprocessed_data, preprocessed_batch), axis=0)\n",
        "\n",
        "#   return final_preprocessed_data"
      ]
    },
    {
      "cell_type": "markdown",
      "metadata": {
        "id": "J3MPLDR5tU-j"
      },
      "source": [
        "Processing Data, and saving the processed data,"
      ]
    },
    {
      "cell_type": "code",
      "execution_count": null,
      "metadata": {
        "id": "nirm7AcCtVLD"
      },
      "outputs": [],
      "source": [
        "with tf.device('/gpu:0'):\n",
        "  def batch_processer(image_array, batch_size):\n",
        "    num_batches = (len(image_array) + batch_size - 1) // batch_size\n",
        "    final_preprocessed_data = []\n",
        "\n",
        "    for i in range(num_batches):\n",
        "      startind = i * batch_size\n",
        "      endind = min((i + 1) * batch_size, len(image_array))\n",
        "      batch_images = image_array[startind:endind]\n",
        "\n",
        "      preprocessed_batch = applications.xception.preprocess_input(batch_images)\n",
        "\n",
        "      final_preprocessed_data.append(preprocessed_batch)\n",
        "\n",
        "    return final_preprocessed_data\n",
        "\n",
        "  processed_training_images = batch_processer(training_images_array, 32)\n",
        "  processed_validation_images = batch_processer(validation_images_array, 32)\n",
        "\n",
        "  np.save('/content/processed_training.npy', processed_training_images)\n",
        "  np.save('/content/processed_testing.npy', processed_validation_images)"
      ]
    },
    {
      "cell_type": "markdown",
      "metadata": {
        "id": "j6X3CUnnBrXE"
      },
      "source": [
        "Converting to nparrays. Finding Mean and Standard Deviation, and then normalizing training and testing image arrays."
      ]
    },
    {
      "cell_type": "code",
      "execution_count": null,
      "metadata": {
        "id": "qF7Yt4MWBrlH"
      },
      "outputs": [],
      "source": [
        "# training_images_array, testing_images_array = np.array(training_images_array), np.array(testing_images_array)\n",
        "\n",
        "# Calculating means and standard deviations for each feature.\n",
        "train_mean, train_std = np.mean(training_images_array), np.std(training_images_array)\n",
        "test_mean, test_std = np.mean(testing_images_array), np.std(testing_images_array)\n",
        "\n",
        "# Normalizing. I add epsilon incase std is exactly 0.\n",
        "epsilon = 0.0001\n",
        "training_norm_data = (training_images_array - train_mean) / (train_std + epsilon)\n",
        "testing_norm_data = (testing_images_array - test_mean) / (test_std + epsilon)"
      ]
    },
    {
      "cell_type": "markdown",
      "metadata": {
        "id": "K_XJaQnRKMj9"
      },
      "source": [
        "Saving processed data for quicker access later."
      ]
    },
    {
      "cell_type": "code",
      "execution_count": null,
      "metadata": {
        "id": "l2NSMaRFKM0j"
      },
      "outputs": [],
      "source": [
        "# np.save('/content/train_dataset.npy', training_norm_data)\n",
        "np.save('/content/train_labels.npy', training_labels_array)\n",
        "# np.save('/content/testing_dataset.npy', testing_norm_data)\n",
        "np.save('/content/testing_labels.npy', testing_labels_array)"
      ]
    },
    {
      "cell_type": "markdown",
      "metadata": {
        "id": "IgXn59vAR7SE"
      },
      "source": [
        "Retrieving Personally processed Data."
      ]
    },
    {
      "cell_type": "code",
      "execution_count": null,
      "metadata": {
        "id": "ZiMtGS6iR7ZW"
      },
      "outputs": [],
      "source": [
        "# print(training_norm_data[0])\n",
        "# print(training_norm_data.shape)\n",
        "\n",
        "# training_norm_data = np.load('/content/train_dataset.npy')\n",
        "# training_labels_array = np.load('/content/train_labels.npy')\n",
        "# testing_norm_data = np.load('/content/testing_dataset.npy')\n",
        "# testing_labels_array = np.load('/content/testing_labels.npy')\n",
        "# class_names = np.load('/content/class_names.npy')\n",
        "# print(training_norm_data[0])\n",
        "# print(training_norm_data.shape)"
      ]
    },
    {
      "cell_type": "markdown",
      "metadata": {
        "id": "rrIS1a-rQcoM"
      },
      "source": [
        "Retrieving data preprocessed for pre-trained model."
      ]
    },
    {
      "cell_type": "code",
      "execution_count": null,
      "metadata": {
        "id": "12MvJNvhQcwe"
      },
      "outputs": [],
      "source": [
        "# training_norm_data = np.load('/content/processed_training.npy')\n",
        "training_norm_data = training_images_array\n",
        "training_labels_array = np.load('/content/train_labels.npy')\n",
        "# testing_norm_data = np.load('/content/processed_testing.npy')\n",
        "testing_norm_data = testing_images_array\n",
        "testing_labels_array = np.load('/content/testing_labels.npy')\n",
        "class_names = np.load('/content/class_names.npy')"
      ]
    },
    {
      "cell_type": "markdown",
      "metadata": {
        "id": "Kn70Rwv2LI0N"
      },
      "source": [
        "Displaying some test images with labels."
      ]
    },
    {
      "cell_type": "code",
      "execution_count": null,
      "metadata": {
        "id": "KAyBePLTKIP6"
      },
      "outputs": [],
      "source": [
        "def display_image(image_array):\n",
        "    plt.imshow(image_array)\n",
        "    plt.axis('off')\n",
        "    plt.show()\n",
        "\n",
        "image = validation_images_array[0]\n",
        "# print(image.shape)\n",
        "\n",
        "print(validation_images_array.shape)\n",
        "\n",
        "image_test = testing_norm_data[0]\n",
        "\n",
        "# Comparing Training images and label list.\n",
        "display_image(image)\n",
        "print(class_names[validation_labels_array[0]])\n",
        "\n",
        "#Comparing testing images and label list\n",
        "display_image(image_test)\n",
        "print(class_names[testing_labels_array[0]])"
      ]
    },
    {
      "cell_type": "markdown",
      "metadata": {
        "id": "RczhpPvXNJvr"
      },
      "source": [
        "Training the Model."
      ]
    },
    {
      "cell_type": "code",
      "execution_count": null,
      "metadata": {
        "id": "CGKzzf_ONJ-z"
      },
      "outputs": [],
      "source": [
        "model = models.Sequential()\n",
        "model.add(layers.Conv2D(32, (3, 3), activation='relu', input_shape=(100, 100, 3)))\n",
        "model.add(layers.MaxPooling2D(2, 2))\n",
        "model.add(layers.Conv2D(64, (3, 3), activation='relu'))\n",
        "model.add(layers.MaxPooling2D(2, 2))\n",
        "model.add(layers.Conv2D(128, (3, 3), activation='relu'))\n",
        "model.add(layers.Flatten())\n",
        "model.add(layers.Dense(128, activation='relu'))\n",
        "model.add(layers.Dense(120, activation='softmax'))"
      ]
    },
    {
      "cell_type": "markdown",
      "metadata": {
        "id": "4rpbh8b13SL4"
      },
      "source": [
        "Model Fitting and Compiling"
      ]
    },
    {
      "cell_type": "code",
      "execution_count": null,
      "metadata": {
        "id": "a-i5kpBg3SU9"
      },
      "outputs": [],
      "source": [
        "model.compile(optimizer='adam', loss='sparse_categorical_crossentropy', metrics=['accuracy'])\n",
        "model.fit(training_norm_data, training_labels_array, epochs=10, validation_data=(validation_images_array, validation_labels_array))"
      ]
    },
    {
      "cell_type": "markdown",
      "metadata": {
        "id": "MsqA-O_Ohg4c"
      },
      "source": [
        "Implementing the generator method to reduce overfitting."
      ]
    },
    {
      "cell_type": "code",
      "execution_count": null,
      "metadata": {
        "id": "gTxvOGR9hhDz"
      },
      "outputs": [],
      "source": [
        "# Creating the train_generator\n",
        "train_datagen = preprocessing.image.ImageDataGenerator(\n",
        "        # rescale=1./255,\n",
        "        rotation_range=20,\n",
        "        shear_range=0.2,\n",
        "        zoom_range=0.2,\n",
        "        horizontal_flip=True,)\n",
        "\n",
        "# Creating the validation_generator\n",
        "validation_datagen = preprocessing.image.ImageDataGenerator(\n",
        "        # rescale=1./255,\n",
        "        shear_range=0.2,\n",
        "        zoom_range=0.2,\n",
        "        horizontal_flip=True,)\n",
        "with tf.device('/gpu:0'):\n",
        "  train_generator = train_datagen.flow(training_images_array, training_labels, batch_size=32, shuffle=True)\n",
        "  validation_generator = validation_datagen.flow(validation_images_array, validation_labels, batch_size = 32, shuffle=True)"
      ]
    },
    {
      "cell_type": "markdown",
      "metadata": {
        "id": "pPYW40itizcX"
      },
      "source": [
        "Generator from directory."
      ]
    },
    {
      "cell_type": "code",
      "execution_count": null,
      "metadata": {
        "id": "2TibPUTpizkC"
      },
      "outputs": [],
      "source": [
        "def custom_data_generator(file_paths, labels, batch_size=32, shuffle=False, drop_remainder=False):\n",
        "\n",
        "    num_samples = len(file_paths)\n",
        "    steps_per_epoch = (num_samples + batch_size - 1) // batch_size\n",
        "\n",
        "    while True:\n",
        "        for i in range(steps_per_epoch):\n",
        "            start_idx = i * batch_size\n",
        "            end_idx = min((i + 1) * batch_size, num_samples)\n",
        "            batch_file_paths = file_paths[start_idx:end_idx]\n",
        "            batch_labels = labels[start_idx:end_idx]\n",
        "\n",
        "            batch_images = [process_file_path(file_path) for file_path in batch_file_paths]\n",
        "            yield np.array(batch_images), batch_labels\n",
        "\n",
        "def process_file_path(file_path):\n",
        "  npimg = np.load(f'{file_path}')\n",
        "  # return npimg\n",
        "  return applications.inception_v3.preprocess_input(npimg)\n",
        "  # return applications.ception.preprocess_input(npimg)\n",
        "\n",
        "\n",
        "# Example: Using the custom generator\n",
        "# file_paths_training = [f'/content/training_data/{i:05}.npy' for i in range(0, 15000)]\n",
        "# labels_array = training_labels_array\n",
        "\n",
        "# generator = custom_data_generator(file_paths_training, labels_array)"
      ]
    },
    {
      "cell_type": "markdown",
      "metadata": {
        "id": "Zy3jLUfMsvUu"
      },
      "source": [
        "Making validation, and training generators from the above generator."
      ]
    },
    {
      "cell_type": "code",
      "execution_count": null,
      "metadata": {
        "id": "KPDqzDslsvb3",
        "colab": {
          "base_uri": "https://localhost:8080/"
        },
        "outputId": "d417914c-dcff-4c8b-d03b-1ce7838404b2"
      },
      "outputs": [
        {
          "output_type": "stream",
          "name": "stdout",
          "text": [
            "13000\n"
          ]
        }
      ],
      "source": [
        "file_paths_training = [f'/content/training_data/{i:05}.npy' for i in range(0, len(training_labels))]\n",
        "print(len(file_paths_training))\n",
        "file_paths_validation = [f'/content/validation_data/{i:04}.npy' for i in range(0, len(validation_labels))]\n",
        "\n",
        "training_generator = custom_data_generator(file_paths_training, training_labels)\n",
        "validation_generator = custom_data_generator(file_paths_validation, validation_labels)\n",
        "# training_images_array = 0\n",
        "# validation_images_array = 0\n",
        "# testing_images_array = 0\n",
        "\n",
        "# for _ in range(5):  # Replace 5 with the desired number of steps\n",
        "#     images, labels = next(validation_generator)\n",
        "#     print(images.shape)\n",
        "#     print(labels.shape)\n",
        "#     # Now 'images' and 'labels' contain the data for the current batch"
      ]
    },
    {
      "cell_type": "markdown",
      "metadata": {
        "id": "6Eqy2QXfozpE"
      },
      "source": [
        "Building the new Model."
      ]
    },
    {
      "cell_type": "code",
      "execution_count": null,
      "metadata": {
        "id": "C8iU1741ozxs"
      },
      "outputs": [],
      "source": [
        "model = models.Sequential()\n",
        "model.add(layers.Conv2D(32, (3, 3), input_shape=(100, 100, 3)))\n",
        "model.add(layers.Activation('relu'))\n",
        "model.add(layers.MaxPooling2D(pool_size=(2, 2)))\n",
        "\n",
        "model.add(layers.Conv2D(64, (3, 3)))\n",
        "model.add(layers.Activation('relu'))\n",
        "model.add(layers.MaxPooling2D(pool_size=(2, 2)))\n",
        "\n",
        "model.add(layers.Conv2D(64, (3, 3)))\n",
        "model.add(layers.Activation('relu'))\n",
        "model.add(layers.MaxPooling2D(pool_size=(2, 2)))\n",
        "\n",
        "model.add(layers.Flatten())  # this converts our 3D feature maps to 1D feature vectors\n",
        "model.add(layers.Dense(64))\n",
        "model.add(layers.Activation('relu'))\n",
        "model.add(layers.Dropout(0.5))\n",
        "model.add(layers.Dense(120))\n",
        "model.add(layers.Activation('sigmoid'))"
      ]
    },
    {
      "cell_type": "markdown",
      "source": [
        "Setting up a checkpoint"
      ],
      "metadata": {
        "id": "mMbsMeFXI6XZ"
      }
    },
    {
      "cell_type": "code",
      "source": [
        "from tensorflow.keras.callbacks import ModelCheckpoint\n",
        "checkpoint_path = '/content/dogbreed_best_model_light'\n",
        "\n",
        "checkpoint = ModelCheckpoint(checkpoint_path,\n",
        "                             monitor='val_loss',  # or 'val_accuracy' for accuracy\n",
        "                             save_best_only=True,\n",
        "                             mode='min',  # or 'max' for accuracy\n",
        "                             verbose=1)"
      ],
      "metadata": {
        "id": "T3kQxCQQI6h0"
      },
      "execution_count": null,
      "outputs": []
    },
    {
      "cell_type": "markdown",
      "metadata": {
        "id": "PwLMoqMao_6k"
      },
      "source": [
        "Compiling and Running the Model."
      ]
    },
    {
      "cell_type": "code",
      "execution_count": null,
      "metadata": {
        "colab": {
          "base_uri": "https://localhost:8080/"
        },
        "id": "_2xLsThmpABs",
        "outputId": "e179d030-9d05-4882-c9af-742e323e6338"
      },
      "outputs": [
        {
          "output_type": "stream",
          "name": "stdout",
          "text": [
            "Epoch 1/10\n",
            "407/407 [==============================] - ETA: 0s - loss: 1.0534 - accuracy: 0.7577\n",
            "Epoch 1: val_loss improved from 6.78150 to 0.45015, saving model to /content/dogbreed_best_model_light\n",
            "407/407 [==============================] - 163s 382ms/step - loss: 1.0534 - accuracy: 0.7577 - val_loss: 0.4502 - val_accuracy: 0.8575\n",
            "Epoch 2/10\n",
            "407/407 [==============================] - ETA: 0s - loss: 0.2945 - accuracy: 0.9146\n",
            "Epoch 2: val_loss did not improve from 0.45015\n",
            "407/407 [==============================] - 147s 360ms/step - loss: 0.2945 - accuracy: 0.9146 - val_loss: 0.4526 - val_accuracy: 0.8640\n",
            "Epoch 3/10\n",
            "407/407 [==============================] - ETA: 0s - loss: 0.1573 - accuracy: 0.9559\n",
            "Epoch 3: val_loss improved from 0.45015 to 0.43348, saving model to /content/dogbreed_best_model_light\n",
            "407/407 [==============================] - 165s 405ms/step - loss: 0.1573 - accuracy: 0.9559 - val_loss: 0.4335 - val_accuracy: 0.8777\n",
            "Epoch 4/10\n",
            "407/407 [==============================] - ETA: 0s - loss: 0.0837 - accuracy: 0.9786\n",
            "Epoch 4: val_loss did not improve from 0.43348\n",
            "407/407 [==============================] - 146s 360ms/step - loss: 0.0837 - accuracy: 0.9786 - val_loss: 0.4574 - val_accuracy: 0.8765\n",
            "Epoch 5/10\n",
            "407/407 [==============================] - ETA: 0s - loss: 0.0739 - accuracy: 0.9795\n",
            "Epoch 5: val_loss did not improve from 0.43348\n",
            "407/407 [==============================] - 137s 336ms/step - loss: 0.0739 - accuracy: 0.9795 - val_loss: 0.5288 - val_accuracy: 0.8725\n",
            "Epoch 6/10\n",
            "407/407 [==============================] - ETA: 0s - loss: 0.0667 - accuracy: 0.9807\n",
            "Epoch 6: val_loss did not improve from 0.43348\n",
            "407/407 [==============================] - 147s 361ms/step - loss: 0.0667 - accuracy: 0.9807 - val_loss: 0.5327 - val_accuracy: 0.8690\n",
            "Epoch 7/10\n",
            "407/407 [==============================] - ETA: 0s - loss: 0.0767 - accuracy: 0.9778\n",
            "Epoch 7: val_loss did not improve from 0.43348\n",
            "407/407 [==============================] - 136s 335ms/step - loss: 0.0767 - accuracy: 0.9778 - val_loss: 0.5738 - val_accuracy: 0.8662\n",
            "Epoch 8/10\n",
            "407/407 [==============================] - ETA: 0s - loss: 0.0776 - accuracy: 0.9772\n",
            "Epoch 8: val_loss did not improve from 0.43348\n",
            "407/407 [==============================] - 147s 360ms/step - loss: 0.0776 - accuracy: 0.9772 - val_loss: 0.6258 - val_accuracy: 0.8633\n",
            "Epoch 9/10\n",
            "407/407 [==============================] - ETA: 0s - loss: 0.0657 - accuracy: 0.9795\n",
            "Epoch 9: val_loss did not improve from 0.43348\n",
            "407/407 [==============================] - 136s 335ms/step - loss: 0.0657 - accuracy: 0.9795 - val_loss: 0.6447 - val_accuracy: 0.8705\n",
            "Epoch 10/10\n",
            "407/407 [==============================] - ETA: 0s - loss: 0.0586 - accuracy: 0.9825\n",
            "Epoch 10: val_loss did not improve from 0.43348\n",
            "407/407 [==============================] - 147s 361ms/step - loss: 0.0586 - accuracy: 0.9825 - val_loss: 0.6302 - val_accuracy: 0.8700\n"
          ]
        }
      ],
      "source": [
        "import pickle\n",
        "\n",
        "# Assuming 'history' is the result of model.fit\n",
        "history_path = \"training_history.pkl\"\n",
        "\n",
        "model.compile(optimizer='adam', loss='sparse_categorical_crossentropy', metrics=['accuracy'])\n",
        "# print(validation_images_array.shape)\n",
        "# print(validation_labels_array.shape)\n",
        "#now we can fit the model\n",
        "with tf.device('/gpu:0'):\n",
        "  history = model.fit(training_generator, epochs=10, steps_per_epoch = 407, validation_data=validation_generator, validation_steps = 125, callbacks=[checkpoint])\n",
        "\n",
        "# Save history to file\n",
        "with open('/content/history', 'wb') as file:\n",
        "    pickle.dump(history.history, file)"
      ]
    },
    {
      "cell_type": "markdown",
      "metadata": {
        "id": "MvFSXRk0Ys3E"
      },
      "source": [
        "Building the Xception based transfer learning Model."
      ]
    },
    {
      "cell_type": "code",
      "execution_count": null,
      "metadata": {
        "id": "iDtuVK3lYtFT"
      },
      "outputs": [],
      "source": [
        "from tensorflow.keras import layers, models, applications\n",
        "\n",
        "base_model = applications.Xception(\n",
        "    input_shape=(299, 299, 3),\n",
        "    include_top=False,\n",
        "    weights=\"imagenet\",\n",
        "    pooling=None,  # Global average pooling for flattening\n",
        ")\n",
        "\n",
        "model = models.Sequential()\n",
        "model.add(base_model)\n",
        "model.layers[0].trainable = False\n",
        "# model.add(layers.Flatten())\n",
        "# model.add(layers.Dense(120, activation='softmax'))\n",
        "model.add(layers.Flatten())\n",
        "model.add(layers.Dense(256, activation='relu'))\n",
        "model.add(layers.BatchNormalization())\n",
        "model.add(layers.Dense(256, activation='relu'))\n",
        "model.add(layers.Dropout(0.3))\n",
        "model.add(layers.BatchNormalization())\n",
        "model.add(layers.Dense(120, activation='softmax'))\n",
        "model.load_weights('/content/best_full_weights.h5')"
      ]
    },
    {
      "cell_type": "markdown",
      "metadata": {
        "id": "4h03oFICgUgH"
      },
      "source": [
        "Testing with Inception based Transfer Model."
      ]
    },
    {
      "cell_type": "code",
      "execution_count": null,
      "metadata": {
        "id": "qDDekXNNgUmx"
      },
      "outputs": [],
      "source": [
        "base_model = applications.InceptionV3(\n",
        "    input_shape=(299, 299, 3),\n",
        "    include_top=False,\n",
        "    weights=\"imagenet\",\n",
        "    pooling=None,\n",
        ")\n",
        "\n",
        "model = models.Sequential()\n",
        "model.add(base_model)\n",
        "model.layers[0].trainable = False\n",
        "model.add(layers.Flatten())\n",
        "model.add(layers.Dense(120, activation='softmax'))\n",
        "# model.add(layers.Flatten(input_shape=train_features.shape[1:]))"
      ]
    },
    {
      "cell_type": "markdown",
      "metadata": {
        "id": "BhXg_Od2782v"
      },
      "source": [
        "Determining and saving set of features of pre-trained model for training data."
      ]
    },
    {
      "cell_type": "code",
      "execution_count": null,
      "metadata": {
        "id": "8J1BOiDl789z"
      },
      "outputs": [],
      "source": [
        "# pre_trained_validation = model.predict(validation_images_array)\n",
        "# np.save('/content/pre_trained_validation.npy', pre_trained_validation)\n",
        "with tf.device('/gpu:0'):\n",
        "  pre_trained_data = model.predict(training_generator, steps = 1300)\n",
        "\n",
        "np.save('/content/pre_trained_validation.npy', pre_trained_data)\n",
        "# np.save('/content/pre_trained_bottleneck_features_inceptionv3.npy', model.predict(training_generator, steps = 469))"
      ]
    },
    {
      "cell_type": "markdown",
      "metadata": {
        "id": "pBpxpTxmFxkp"
      },
      "source": [
        "Determining and saving set of features of pre-trained model for Validation data."
      ]
    },
    {
      "cell_type": "code",
      "execution_count": null,
      "metadata": {
        "id": "YeBpsYpsYCR-"
      },
      "outputs": [],
      "source": [
        "# pre_trained_validation = model.predict(validation_generator)\n",
        "np.save('/content/pre_trained_validation_inceptionv3.npy', model.predict(validation_generator, steps = 125))"
      ]
    },
    {
      "cell_type": "markdown",
      "metadata": {
        "id": "LNNe22XXYCfl"
      },
      "source": []
    },
    {
      "cell_type": "code",
      "execution_count": null,
      "metadata": {
        "colab": {
          "base_uri": "https://localhost:8080/"
        },
        "id": "yqFksTPx9Lzl",
        "outputId": "99d07848-b122-49b6-cd3a-fd85b2c3dec7"
      },
      "outputs": [
        {
          "name": "stdout",
          "output_type": "stream",
          "text": [
            "(15000, 1, 1, 2048)\n"
          ]
        }
      ],
      "source": [
        "train_features = np.load('/content/pre_trained_bottleneck_features_inceptionv3.npy')\n",
        "validation_features = np.load('/content/pre_trained_validation_inceptionv3.npy')\n",
        "print(train_features.shape)"
      ]
    },
    {
      "cell_type": "markdown",
      "metadata": {
        "id": "apHX3ftBzkRf"
      },
      "source": [
        "Code to summarize and save models."
      ]
    },
    {
      "cell_type": "code",
      "execution_count": null,
      "metadata": {
        "colab": {
          "base_uri": "https://localhost:8080/"
        },
        "id": "sPHEecIKzkgr",
        "outputId": "f52535d6-59ca-420d-da8e-ae24aa676d38"
      },
      "outputs": [
        {
          "name": "stdout",
          "output_type": "stream",
          "text": [
            "(3, 3, 2048)\n"
          ]
        }
      ],
      "source": [
        "# train_data = np.load(open('/content/pre_trained_output_headless.npy', 'rb'))\n",
        "print(train_data.shape[1:])\n",
        "# model.summary()\n",
        "# model.save('/content/DogBreed Models')"
      ]
    },
    {
      "cell_type": "markdown",
      "source": [
        "Code to save models to my google drive."
      ],
      "metadata": {
        "id": "1kLIqa-INPss"
      }
    },
    {
      "cell_type": "code",
      "source": [
        "from google.colab import drive\n",
        "import shutil\n",
        "\n",
        "# drive.mount('/content/gdrive', force_remount=True)\n",
        "source_folder = '/content/history'  # Replace with the path to your source folder\n",
        "destination_folder = '/content/gdrive/MyDrive/breed_models/history_full'  # Replace with the path to your destination folder in Google Drive\n",
        "\n",
        "shutil.copytree(source_folder, destination_folder)"
      ],
      "metadata": {
        "id": "Bi0bSCrkNP1C"
      },
      "execution_count": null,
      "outputs": []
    },
    {
      "cell_type": "markdown",
      "source": [
        "Saving model weights."
      ],
      "metadata": {
        "id": "CxSN8PgV4qZN"
      }
    },
    {
      "cell_type": "code",
      "source": [
        "from google.colab import drive\n",
        "from tensorflow import keras\n",
        "\n",
        "drive.mount('/content/gdrive')\n",
        "model_folder_path = '/content/gdrive/MyDrive/breed_models/best_full'\n",
        "model = keras.models.load_model(model_folder_path)\n",
        "model.summary()\n",
        "# model.save_weights('/content/best_full_weights.h5')"
      ],
      "metadata": {
        "id": "FYr-Ghx54qiK"
      },
      "execution_count": null,
      "outputs": []
    },
    {
      "cell_type": "markdown",
      "source": [
        "Converting to Tflite format and saving file for lower memory usage in deployment"
      ],
      "metadata": {
        "id": "MFQksO8eh6Zc"
      }
    },
    {
      "cell_type": "code",
      "source": [
        "converter = tf.lite.TFLiteConverter.from_keras_model(model)\n",
        "\n",
        "# Experiment with different optimization options\n",
        "converter.optimizations = [tf.lite.Optimize.DEFAULT]\n",
        "converter.target_spec.supported_types = [tf.float16]\n",
        "\n",
        "# Convert the model to TFLite format\n",
        "tflite_model = converter.convert()\n",
        "\n",
        "with open(\"/content/quantized_model.tflite\", \"wb\") as f:\n",
        "    f.write(tflite_model)"
      ],
      "metadata": {
        "id": "_Po6JVKgh6gb"
      },
      "execution_count": null,
      "outputs": []
    },
    {
      "cell_type": "markdown",
      "source": [
        "Checking file sizes"
      ],
      "metadata": {
        "id": "nkjuNO8sjdxi"
      }
    },
    {
      "cell_type": "code",
      "source": [
        "import os\n",
        "\n",
        "# Specify the path to the file\n",
        "file_path = \"/content/quantized_model.tflite\"\n",
        "\n",
        "# Get the file size\n",
        "file_size = os.path.getsize(file_path)\n",
        "\n",
        "# Print the file size\n",
        "print(f\"File Size: {file_size / (1024 * 1024):.2f} MB\")"
      ],
      "metadata": {
        "colab": {
          "base_uri": "https://localhost:8080/"
        },
        "id": "ZdcQBlJyjd4a",
        "outputId": "3f1ab40b-11e2-4a8f-b145-0132f426b2be"
      },
      "execution_count": null,
      "outputs": [
        {
          "output_type": "stream",
          "name": "stdout",
          "text": [
            "File Size: 139.89 MB\n"
          ]
        }
      ]
    }
  ],
  "metadata": {
    "colab": {
      "provenance": [],
      "gpuType": "T4"
    },
    "kernelspec": {
      "display_name": "Python 3",
      "name": "python3"
    },
    "language_info": {
      "name": "python"
    },
    "accelerator": "GPU",
    "widgets": {
      "application/vnd.jupyter.widget-state+json": {
        "67430c24348c474b944e33459567c907": {
          "model_module": "@jupyter-widgets/controls",
          "model_name": "HBoxModel",
          "model_module_version": "1.5.0",
          "state": {
            "_dom_classes": [],
            "_model_module": "@jupyter-widgets/controls",
            "_model_module_version": "1.5.0",
            "_model_name": "HBoxModel",
            "_view_count": null,
            "_view_module": "@jupyter-widgets/controls",
            "_view_module_version": "1.5.0",
            "_view_name": "HBoxView",
            "box_style": "",
            "children": [
              "IPY_MODEL_09204eae9ad14b50a73f13467c2c6024",
              "IPY_MODEL_0511ba828c184ec8a0a30be3fa04a1cf",
              "IPY_MODEL_da37e8a901e746d2a23a0df9cbc92114"
            ],
            "layout": "IPY_MODEL_ccf1cef901424eb79c7d011758ad9ba1"
          }
        },
        "09204eae9ad14b50a73f13467c2c6024": {
          "model_module": "@jupyter-widgets/controls",
          "model_name": "HTMLModel",
          "model_module_version": "1.5.0",
          "state": {
            "_dom_classes": [],
            "_model_module": "@jupyter-widgets/controls",
            "_model_module_version": "1.5.0",
            "_model_name": "HTMLModel",
            "_view_count": null,
            "_view_module": "@jupyter-widgets/controls",
            "_view_module_version": "1.5.0",
            "_view_name": "HTMLView",
            "description": "",
            "description_tooltip": null,
            "layout": "IPY_MODEL_c2498c88c337481483265d2bffe234d6",
            "placeholder": "​",
            "style": "IPY_MODEL_56fb237cea434c9d9ebccac06c9f8fbe",
            "value": "Dl Completed...: "
          }
        },
        "0511ba828c184ec8a0a30be3fa04a1cf": {
          "model_module": "@jupyter-widgets/controls",
          "model_name": "FloatProgressModel",
          "model_module_version": "1.5.0",
          "state": {
            "_dom_classes": [],
            "_model_module": "@jupyter-widgets/controls",
            "_model_module_version": "1.5.0",
            "_model_name": "FloatProgressModel",
            "_view_count": null,
            "_view_module": "@jupyter-widgets/controls",
            "_view_module_version": "1.5.0",
            "_view_name": "ProgressView",
            "bar_style": "success",
            "description": "",
            "description_tooltip": null,
            "layout": "IPY_MODEL_01aacce8c30145429eac2d2c11b5571d",
            "max": 1,
            "min": 0,
            "orientation": "horizontal",
            "style": "IPY_MODEL_f9b559bbd90f4100b7aa7a0e6ef21979",
            "value": 1
          }
        },
        "da37e8a901e746d2a23a0df9cbc92114": {
          "model_module": "@jupyter-widgets/controls",
          "model_name": "HTMLModel",
          "model_module_version": "1.5.0",
          "state": {
            "_dom_classes": [],
            "_model_module": "@jupyter-widgets/controls",
            "_model_module_version": "1.5.0",
            "_model_name": "HTMLModel",
            "_view_count": null,
            "_view_module": "@jupyter-widgets/controls",
            "_view_module_version": "1.5.0",
            "_view_name": "HTMLView",
            "description": "",
            "description_tooltip": null,
            "layout": "IPY_MODEL_cbbd07713627417a89f4b17f5677547e",
            "placeholder": "​",
            "style": "IPY_MODEL_5615eadd0e16415eb62efbbd0cde6a92",
            "value": " 2/? [00:34&lt;00:00, 17.41s/ url]"
          }
        },
        "ccf1cef901424eb79c7d011758ad9ba1": {
          "model_module": "@jupyter-widgets/base",
          "model_name": "LayoutModel",
          "model_module_version": "1.2.0",
          "state": {
            "_model_module": "@jupyter-widgets/base",
            "_model_module_version": "1.2.0",
            "_model_name": "LayoutModel",
            "_view_count": null,
            "_view_module": "@jupyter-widgets/base",
            "_view_module_version": "1.2.0",
            "_view_name": "LayoutView",
            "align_content": null,
            "align_items": null,
            "align_self": null,
            "border": null,
            "bottom": null,
            "display": null,
            "flex": null,
            "flex_flow": null,
            "grid_area": null,
            "grid_auto_columns": null,
            "grid_auto_flow": null,
            "grid_auto_rows": null,
            "grid_column": null,
            "grid_gap": null,
            "grid_row": null,
            "grid_template_areas": null,
            "grid_template_columns": null,
            "grid_template_rows": null,
            "height": null,
            "justify_content": null,
            "justify_items": null,
            "left": null,
            "margin": null,
            "max_height": null,
            "max_width": null,
            "min_height": null,
            "min_width": null,
            "object_fit": null,
            "object_position": null,
            "order": null,
            "overflow": null,
            "overflow_x": null,
            "overflow_y": null,
            "padding": null,
            "right": null,
            "top": null,
            "visibility": null,
            "width": null
          }
        },
        "c2498c88c337481483265d2bffe234d6": {
          "model_module": "@jupyter-widgets/base",
          "model_name": "LayoutModel",
          "model_module_version": "1.2.0",
          "state": {
            "_model_module": "@jupyter-widgets/base",
            "_model_module_version": "1.2.0",
            "_model_name": "LayoutModel",
            "_view_count": null,
            "_view_module": "@jupyter-widgets/base",
            "_view_module_version": "1.2.0",
            "_view_name": "LayoutView",
            "align_content": null,
            "align_items": null,
            "align_self": null,
            "border": null,
            "bottom": null,
            "display": null,
            "flex": null,
            "flex_flow": null,
            "grid_area": null,
            "grid_auto_columns": null,
            "grid_auto_flow": null,
            "grid_auto_rows": null,
            "grid_column": null,
            "grid_gap": null,
            "grid_row": null,
            "grid_template_areas": null,
            "grid_template_columns": null,
            "grid_template_rows": null,
            "height": null,
            "justify_content": null,
            "justify_items": null,
            "left": null,
            "margin": null,
            "max_height": null,
            "max_width": null,
            "min_height": null,
            "min_width": null,
            "object_fit": null,
            "object_position": null,
            "order": null,
            "overflow": null,
            "overflow_x": null,
            "overflow_y": null,
            "padding": null,
            "right": null,
            "top": null,
            "visibility": null,
            "width": null
          }
        },
        "56fb237cea434c9d9ebccac06c9f8fbe": {
          "model_module": "@jupyter-widgets/controls",
          "model_name": "DescriptionStyleModel",
          "model_module_version": "1.5.0",
          "state": {
            "_model_module": "@jupyter-widgets/controls",
            "_model_module_version": "1.5.0",
            "_model_name": "DescriptionStyleModel",
            "_view_count": null,
            "_view_module": "@jupyter-widgets/base",
            "_view_module_version": "1.2.0",
            "_view_name": "StyleView",
            "description_width": ""
          }
        },
        "01aacce8c30145429eac2d2c11b5571d": {
          "model_module": "@jupyter-widgets/base",
          "model_name": "LayoutModel",
          "model_module_version": "1.2.0",
          "state": {
            "_model_module": "@jupyter-widgets/base",
            "_model_module_version": "1.2.0",
            "_model_name": "LayoutModel",
            "_view_count": null,
            "_view_module": "@jupyter-widgets/base",
            "_view_module_version": "1.2.0",
            "_view_name": "LayoutView",
            "align_content": null,
            "align_items": null,
            "align_self": null,
            "border": null,
            "bottom": null,
            "display": null,
            "flex": null,
            "flex_flow": null,
            "grid_area": null,
            "grid_auto_columns": null,
            "grid_auto_flow": null,
            "grid_auto_rows": null,
            "grid_column": null,
            "grid_gap": null,
            "grid_row": null,
            "grid_template_areas": null,
            "grid_template_columns": null,
            "grid_template_rows": null,
            "height": null,
            "justify_content": null,
            "justify_items": null,
            "left": null,
            "margin": null,
            "max_height": null,
            "max_width": null,
            "min_height": null,
            "min_width": null,
            "object_fit": null,
            "object_position": null,
            "order": null,
            "overflow": null,
            "overflow_x": null,
            "overflow_y": null,
            "padding": null,
            "right": null,
            "top": null,
            "visibility": null,
            "width": "20px"
          }
        },
        "f9b559bbd90f4100b7aa7a0e6ef21979": {
          "model_module": "@jupyter-widgets/controls",
          "model_name": "ProgressStyleModel",
          "model_module_version": "1.5.0",
          "state": {
            "_model_module": "@jupyter-widgets/controls",
            "_model_module_version": "1.5.0",
            "_model_name": "ProgressStyleModel",
            "_view_count": null,
            "_view_module": "@jupyter-widgets/base",
            "_view_module_version": "1.2.0",
            "_view_name": "StyleView",
            "bar_color": null,
            "description_width": ""
          }
        },
        "cbbd07713627417a89f4b17f5677547e": {
          "model_module": "@jupyter-widgets/base",
          "model_name": "LayoutModel",
          "model_module_version": "1.2.0",
          "state": {
            "_model_module": "@jupyter-widgets/base",
            "_model_module_version": "1.2.0",
            "_model_name": "LayoutModel",
            "_view_count": null,
            "_view_module": "@jupyter-widgets/base",
            "_view_module_version": "1.2.0",
            "_view_name": "LayoutView",
            "align_content": null,
            "align_items": null,
            "align_self": null,
            "border": null,
            "bottom": null,
            "display": null,
            "flex": null,
            "flex_flow": null,
            "grid_area": null,
            "grid_auto_columns": null,
            "grid_auto_flow": null,
            "grid_auto_rows": null,
            "grid_column": null,
            "grid_gap": null,
            "grid_row": null,
            "grid_template_areas": null,
            "grid_template_columns": null,
            "grid_template_rows": null,
            "height": null,
            "justify_content": null,
            "justify_items": null,
            "left": null,
            "margin": null,
            "max_height": null,
            "max_width": null,
            "min_height": null,
            "min_width": null,
            "object_fit": null,
            "object_position": null,
            "order": null,
            "overflow": null,
            "overflow_x": null,
            "overflow_y": null,
            "padding": null,
            "right": null,
            "top": null,
            "visibility": null,
            "width": null
          }
        },
        "5615eadd0e16415eb62efbbd0cde6a92": {
          "model_module": "@jupyter-widgets/controls",
          "model_name": "DescriptionStyleModel",
          "model_module_version": "1.5.0",
          "state": {
            "_model_module": "@jupyter-widgets/controls",
            "_model_module_version": "1.5.0",
            "_model_name": "DescriptionStyleModel",
            "_view_count": null,
            "_view_module": "@jupyter-widgets/base",
            "_view_module_version": "1.2.0",
            "_view_name": "StyleView",
            "description_width": ""
          }
        },
        "cae2bc7eb7654e349661a17a2f7d8ee3": {
          "model_module": "@jupyter-widgets/controls",
          "model_name": "HBoxModel",
          "model_module_version": "1.5.0",
          "state": {
            "_dom_classes": [],
            "_model_module": "@jupyter-widgets/controls",
            "_model_module_version": "1.5.0",
            "_model_name": "HBoxModel",
            "_view_count": null,
            "_view_module": "@jupyter-widgets/controls",
            "_view_module_version": "1.5.0",
            "_view_name": "HBoxView",
            "box_style": "",
            "children": [
              "IPY_MODEL_36097c7b3f0947b68fb62668b84344c0",
              "IPY_MODEL_86b4b8a52dbf42e78be46146bf674ece",
              "IPY_MODEL_087f45bcae35465b84c6456b0ae3b6ec"
            ],
            "layout": "IPY_MODEL_d31c74e55afb471f9362f82e251bb96e"
          }
        },
        "36097c7b3f0947b68fb62668b84344c0": {
          "model_module": "@jupyter-widgets/controls",
          "model_name": "HTMLModel",
          "model_module_version": "1.5.0",
          "state": {
            "_dom_classes": [],
            "_model_module": "@jupyter-widgets/controls",
            "_model_module_version": "1.5.0",
            "_model_name": "HTMLModel",
            "_view_count": null,
            "_view_module": "@jupyter-widgets/controls",
            "_view_module_version": "1.5.0",
            "_view_name": "HTMLView",
            "description": "",
            "description_tooltip": null,
            "layout": "IPY_MODEL_74846cf04dbf482a922981d8a2e63389",
            "placeholder": "​",
            "style": "IPY_MODEL_41a1a7e0129048fbb092dfc09149496b",
            "value": "Dl Size...: "
          }
        },
        "86b4b8a52dbf42e78be46146bf674ece": {
          "model_module": "@jupyter-widgets/controls",
          "model_name": "FloatProgressModel",
          "model_module_version": "1.5.0",
          "state": {
            "_dom_classes": [],
            "_model_module": "@jupyter-widgets/controls",
            "_model_module_version": "1.5.0",
            "_model_name": "FloatProgressModel",
            "_view_count": null,
            "_view_module": "@jupyter-widgets/controls",
            "_view_module_version": "1.5.0",
            "_view_name": "ProgressView",
            "bar_style": "success",
            "description": "",
            "description_tooltip": null,
            "layout": "IPY_MODEL_3b6674164d964addbfa75c21ee612eef",
            "max": 1,
            "min": 0,
            "orientation": "horizontal",
            "style": "IPY_MODEL_43d29bbc3ba7457fa769a6b8458b517c",
            "value": 1
          }
        },
        "087f45bcae35465b84c6456b0ae3b6ec": {
          "model_module": "@jupyter-widgets/controls",
          "model_name": "HTMLModel",
          "model_module_version": "1.5.0",
          "state": {
            "_dom_classes": [],
            "_model_module": "@jupyter-widgets/controls",
            "_model_module_version": "1.5.0",
            "_model_name": "HTMLModel",
            "_view_count": null,
            "_view_module": "@jupyter-widgets/controls",
            "_view_module_version": "1.5.0",
            "_view_name": "HTMLView",
            "description": "",
            "description_tooltip": null,
            "layout": "IPY_MODEL_a74c2ba536e24c279c9d74cfba8c8fae",
            "placeholder": "​",
            "style": "IPY_MODEL_dc383ae286c343819179c804e0faa280",
            "value": " 1000/? [00:34&lt;00:00, 29.51 MiB/s]"
          }
        },
        "d31c74e55afb471f9362f82e251bb96e": {
          "model_module": "@jupyter-widgets/base",
          "model_name": "LayoutModel",
          "model_module_version": "1.2.0",
          "state": {
            "_model_module": "@jupyter-widgets/base",
            "_model_module_version": "1.2.0",
            "_model_name": "LayoutModel",
            "_view_count": null,
            "_view_module": "@jupyter-widgets/base",
            "_view_module_version": "1.2.0",
            "_view_name": "LayoutView",
            "align_content": null,
            "align_items": null,
            "align_self": null,
            "border": null,
            "bottom": null,
            "display": null,
            "flex": null,
            "flex_flow": null,
            "grid_area": null,
            "grid_auto_columns": null,
            "grid_auto_flow": null,
            "grid_auto_rows": null,
            "grid_column": null,
            "grid_gap": null,
            "grid_row": null,
            "grid_template_areas": null,
            "grid_template_columns": null,
            "grid_template_rows": null,
            "height": null,
            "justify_content": null,
            "justify_items": null,
            "left": null,
            "margin": null,
            "max_height": null,
            "max_width": null,
            "min_height": null,
            "min_width": null,
            "object_fit": null,
            "object_position": null,
            "order": null,
            "overflow": null,
            "overflow_x": null,
            "overflow_y": null,
            "padding": null,
            "right": null,
            "top": null,
            "visibility": null,
            "width": null
          }
        },
        "74846cf04dbf482a922981d8a2e63389": {
          "model_module": "@jupyter-widgets/base",
          "model_name": "LayoutModel",
          "model_module_version": "1.2.0",
          "state": {
            "_model_module": "@jupyter-widgets/base",
            "_model_module_version": "1.2.0",
            "_model_name": "LayoutModel",
            "_view_count": null,
            "_view_module": "@jupyter-widgets/base",
            "_view_module_version": "1.2.0",
            "_view_name": "LayoutView",
            "align_content": null,
            "align_items": null,
            "align_self": null,
            "border": null,
            "bottom": null,
            "display": null,
            "flex": null,
            "flex_flow": null,
            "grid_area": null,
            "grid_auto_columns": null,
            "grid_auto_flow": null,
            "grid_auto_rows": null,
            "grid_column": null,
            "grid_gap": null,
            "grid_row": null,
            "grid_template_areas": null,
            "grid_template_columns": null,
            "grid_template_rows": null,
            "height": null,
            "justify_content": null,
            "justify_items": null,
            "left": null,
            "margin": null,
            "max_height": null,
            "max_width": null,
            "min_height": null,
            "min_width": null,
            "object_fit": null,
            "object_position": null,
            "order": null,
            "overflow": null,
            "overflow_x": null,
            "overflow_y": null,
            "padding": null,
            "right": null,
            "top": null,
            "visibility": null,
            "width": null
          }
        },
        "41a1a7e0129048fbb092dfc09149496b": {
          "model_module": "@jupyter-widgets/controls",
          "model_name": "DescriptionStyleModel",
          "model_module_version": "1.5.0",
          "state": {
            "_model_module": "@jupyter-widgets/controls",
            "_model_module_version": "1.5.0",
            "_model_name": "DescriptionStyleModel",
            "_view_count": null,
            "_view_module": "@jupyter-widgets/base",
            "_view_module_version": "1.2.0",
            "_view_name": "StyleView",
            "description_width": ""
          }
        },
        "3b6674164d964addbfa75c21ee612eef": {
          "model_module": "@jupyter-widgets/base",
          "model_name": "LayoutModel",
          "model_module_version": "1.2.0",
          "state": {
            "_model_module": "@jupyter-widgets/base",
            "_model_module_version": "1.2.0",
            "_model_name": "LayoutModel",
            "_view_count": null,
            "_view_module": "@jupyter-widgets/base",
            "_view_module_version": "1.2.0",
            "_view_name": "LayoutView",
            "align_content": null,
            "align_items": null,
            "align_self": null,
            "border": null,
            "bottom": null,
            "display": null,
            "flex": null,
            "flex_flow": null,
            "grid_area": null,
            "grid_auto_columns": null,
            "grid_auto_flow": null,
            "grid_auto_rows": null,
            "grid_column": null,
            "grid_gap": null,
            "grid_row": null,
            "grid_template_areas": null,
            "grid_template_columns": null,
            "grid_template_rows": null,
            "height": null,
            "justify_content": null,
            "justify_items": null,
            "left": null,
            "margin": null,
            "max_height": null,
            "max_width": null,
            "min_height": null,
            "min_width": null,
            "object_fit": null,
            "object_position": null,
            "order": null,
            "overflow": null,
            "overflow_x": null,
            "overflow_y": null,
            "padding": null,
            "right": null,
            "top": null,
            "visibility": null,
            "width": "20px"
          }
        },
        "43d29bbc3ba7457fa769a6b8458b517c": {
          "model_module": "@jupyter-widgets/controls",
          "model_name": "ProgressStyleModel",
          "model_module_version": "1.5.0",
          "state": {
            "_model_module": "@jupyter-widgets/controls",
            "_model_module_version": "1.5.0",
            "_model_name": "ProgressStyleModel",
            "_view_count": null,
            "_view_module": "@jupyter-widgets/base",
            "_view_module_version": "1.2.0",
            "_view_name": "StyleView",
            "bar_color": null,
            "description_width": ""
          }
        },
        "a74c2ba536e24c279c9d74cfba8c8fae": {
          "model_module": "@jupyter-widgets/base",
          "model_name": "LayoutModel",
          "model_module_version": "1.2.0",
          "state": {
            "_model_module": "@jupyter-widgets/base",
            "_model_module_version": "1.2.0",
            "_model_name": "LayoutModel",
            "_view_count": null,
            "_view_module": "@jupyter-widgets/base",
            "_view_module_version": "1.2.0",
            "_view_name": "LayoutView",
            "align_content": null,
            "align_items": null,
            "align_self": null,
            "border": null,
            "bottom": null,
            "display": null,
            "flex": null,
            "flex_flow": null,
            "grid_area": null,
            "grid_auto_columns": null,
            "grid_auto_flow": null,
            "grid_auto_rows": null,
            "grid_column": null,
            "grid_gap": null,
            "grid_row": null,
            "grid_template_areas": null,
            "grid_template_columns": null,
            "grid_template_rows": null,
            "height": null,
            "justify_content": null,
            "justify_items": null,
            "left": null,
            "margin": null,
            "max_height": null,
            "max_width": null,
            "min_height": null,
            "min_width": null,
            "object_fit": null,
            "object_position": null,
            "order": null,
            "overflow": null,
            "overflow_x": null,
            "overflow_y": null,
            "padding": null,
            "right": null,
            "top": null,
            "visibility": null,
            "width": null
          }
        },
        "dc383ae286c343819179c804e0faa280": {
          "model_module": "@jupyter-widgets/controls",
          "model_name": "DescriptionStyleModel",
          "model_module_version": "1.5.0",
          "state": {
            "_model_module": "@jupyter-widgets/controls",
            "_model_module_version": "1.5.0",
            "_model_name": "DescriptionStyleModel",
            "_view_count": null,
            "_view_module": "@jupyter-widgets/base",
            "_view_module_version": "1.2.0",
            "_view_name": "StyleView",
            "description_width": ""
          }
        },
        "28c1ea8049ce45b58df8e991f6026e1a": {
          "model_module": "@jupyter-widgets/controls",
          "model_name": "HBoxModel",
          "model_module_version": "1.5.0",
          "state": {
            "_dom_classes": [],
            "_model_module": "@jupyter-widgets/controls",
            "_model_module_version": "1.5.0",
            "_model_name": "HBoxModel",
            "_view_count": null,
            "_view_module": "@jupyter-widgets/controls",
            "_view_module_version": "1.5.0",
            "_view_name": "HBoxView",
            "box_style": "",
            "children": [
              "IPY_MODEL_1534594942e74562b16559d10e251559",
              "IPY_MODEL_dd3de3ef371b4e1e9765812a0c891646",
              "IPY_MODEL_218c8150912044d5a2984af4c8471234"
            ],
            "layout": "IPY_MODEL_5481732e3f12442ea0494cf7a05f909f"
          }
        },
        "1534594942e74562b16559d10e251559": {
          "model_module": "@jupyter-widgets/controls",
          "model_name": "HTMLModel",
          "model_module_version": "1.5.0",
          "state": {
            "_dom_classes": [],
            "_model_module": "@jupyter-widgets/controls",
            "_model_module_version": "1.5.0",
            "_model_name": "HTMLModel",
            "_view_count": null,
            "_view_module": "@jupyter-widgets/controls",
            "_view_module_version": "1.5.0",
            "_view_name": "HTMLView",
            "description": "",
            "description_tooltip": null,
            "layout": "IPY_MODEL_60cd62572ef74284ae6059b8fd026cf2",
            "placeholder": "​",
            "style": "IPY_MODEL_1ac2146e616d43a9b1ae9fedef72c271",
            "value": "Dl Completed...: 100%"
          }
        },
        "dd3de3ef371b4e1e9765812a0c891646": {
          "model_module": "@jupyter-widgets/controls",
          "model_name": "FloatProgressModel",
          "model_module_version": "1.5.0",
          "state": {
            "_dom_classes": [],
            "_model_module": "@jupyter-widgets/controls",
            "_model_module_version": "1.5.0",
            "_model_name": "FloatProgressModel",
            "_view_count": null,
            "_view_module": "@jupyter-widgets/controls",
            "_view_module_version": "1.5.0",
            "_view_name": "ProgressView",
            "bar_style": "success",
            "description": "",
            "description_tooltip": null,
            "layout": "IPY_MODEL_9323209a8f294541b82ca117dc103018",
            "max": 1,
            "min": 0,
            "orientation": "horizontal",
            "style": "IPY_MODEL_315d52bb2e584f6fb1180360371588a8",
            "value": 1
          }
        },
        "218c8150912044d5a2984af4c8471234": {
          "model_module": "@jupyter-widgets/controls",
          "model_name": "HTMLModel",
          "model_module_version": "1.5.0",
          "state": {
            "_dom_classes": [],
            "_model_module": "@jupyter-widgets/controls",
            "_model_module_version": "1.5.0",
            "_model_name": "HTMLModel",
            "_view_count": null,
            "_view_module": "@jupyter-widgets/controls",
            "_view_module_version": "1.5.0",
            "_view_name": "HTMLView",
            "description": "",
            "description_tooltip": null,
            "layout": "IPY_MODEL_dbbf9e3da6f941f8b08ab33bee2a631f",
            "placeholder": "​",
            "style": "IPY_MODEL_34f3d9b0c11e44f28a34dbf725a379bc",
            "value": " 2/2 [00:53&lt;00:00,  1.39s/ url]"
          }
        },
        "5481732e3f12442ea0494cf7a05f909f": {
          "model_module": "@jupyter-widgets/base",
          "model_name": "LayoutModel",
          "model_module_version": "1.2.0",
          "state": {
            "_model_module": "@jupyter-widgets/base",
            "_model_module_version": "1.2.0",
            "_model_name": "LayoutModel",
            "_view_count": null,
            "_view_module": "@jupyter-widgets/base",
            "_view_module_version": "1.2.0",
            "_view_name": "LayoutView",
            "align_content": null,
            "align_items": null,
            "align_self": null,
            "border": null,
            "bottom": null,
            "display": null,
            "flex": null,
            "flex_flow": null,
            "grid_area": null,
            "grid_auto_columns": null,
            "grid_auto_flow": null,
            "grid_auto_rows": null,
            "grid_column": null,
            "grid_gap": null,
            "grid_row": null,
            "grid_template_areas": null,
            "grid_template_columns": null,
            "grid_template_rows": null,
            "height": null,
            "justify_content": null,
            "justify_items": null,
            "left": null,
            "margin": null,
            "max_height": null,
            "max_width": null,
            "min_height": null,
            "min_width": null,
            "object_fit": null,
            "object_position": null,
            "order": null,
            "overflow": null,
            "overflow_x": null,
            "overflow_y": null,
            "padding": null,
            "right": null,
            "top": null,
            "visibility": null,
            "width": null
          }
        },
        "60cd62572ef74284ae6059b8fd026cf2": {
          "model_module": "@jupyter-widgets/base",
          "model_name": "LayoutModel",
          "model_module_version": "1.2.0",
          "state": {
            "_model_module": "@jupyter-widgets/base",
            "_model_module_version": "1.2.0",
            "_model_name": "LayoutModel",
            "_view_count": null,
            "_view_module": "@jupyter-widgets/base",
            "_view_module_version": "1.2.0",
            "_view_name": "LayoutView",
            "align_content": null,
            "align_items": null,
            "align_self": null,
            "border": null,
            "bottom": null,
            "display": null,
            "flex": null,
            "flex_flow": null,
            "grid_area": null,
            "grid_auto_columns": null,
            "grid_auto_flow": null,
            "grid_auto_rows": null,
            "grid_column": null,
            "grid_gap": null,
            "grid_row": null,
            "grid_template_areas": null,
            "grid_template_columns": null,
            "grid_template_rows": null,
            "height": null,
            "justify_content": null,
            "justify_items": null,
            "left": null,
            "margin": null,
            "max_height": null,
            "max_width": null,
            "min_height": null,
            "min_width": null,
            "object_fit": null,
            "object_position": null,
            "order": null,
            "overflow": null,
            "overflow_x": null,
            "overflow_y": null,
            "padding": null,
            "right": null,
            "top": null,
            "visibility": null,
            "width": null
          }
        },
        "1ac2146e616d43a9b1ae9fedef72c271": {
          "model_module": "@jupyter-widgets/controls",
          "model_name": "DescriptionStyleModel",
          "model_module_version": "1.5.0",
          "state": {
            "_model_module": "@jupyter-widgets/controls",
            "_model_module_version": "1.5.0",
            "_model_name": "DescriptionStyleModel",
            "_view_count": null,
            "_view_module": "@jupyter-widgets/base",
            "_view_module_version": "1.2.0",
            "_view_name": "StyleView",
            "description_width": ""
          }
        },
        "9323209a8f294541b82ca117dc103018": {
          "model_module": "@jupyter-widgets/base",
          "model_name": "LayoutModel",
          "model_module_version": "1.2.0",
          "state": {
            "_model_module": "@jupyter-widgets/base",
            "_model_module_version": "1.2.0",
            "_model_name": "LayoutModel",
            "_view_count": null,
            "_view_module": "@jupyter-widgets/base",
            "_view_module_version": "1.2.0",
            "_view_name": "LayoutView",
            "align_content": null,
            "align_items": null,
            "align_self": null,
            "border": null,
            "bottom": null,
            "display": null,
            "flex": null,
            "flex_flow": null,
            "grid_area": null,
            "grid_auto_columns": null,
            "grid_auto_flow": null,
            "grid_auto_rows": null,
            "grid_column": null,
            "grid_gap": null,
            "grid_row": null,
            "grid_template_areas": null,
            "grid_template_columns": null,
            "grid_template_rows": null,
            "height": null,
            "justify_content": null,
            "justify_items": null,
            "left": null,
            "margin": null,
            "max_height": null,
            "max_width": null,
            "min_height": null,
            "min_width": null,
            "object_fit": null,
            "object_position": null,
            "order": null,
            "overflow": null,
            "overflow_x": null,
            "overflow_y": null,
            "padding": null,
            "right": null,
            "top": null,
            "visibility": null,
            "width": "20px"
          }
        },
        "315d52bb2e584f6fb1180360371588a8": {
          "model_module": "@jupyter-widgets/controls",
          "model_name": "ProgressStyleModel",
          "model_module_version": "1.5.0",
          "state": {
            "_model_module": "@jupyter-widgets/controls",
            "_model_module_version": "1.5.0",
            "_model_name": "ProgressStyleModel",
            "_view_count": null,
            "_view_module": "@jupyter-widgets/base",
            "_view_module_version": "1.2.0",
            "_view_name": "StyleView",
            "bar_color": null,
            "description_width": ""
          }
        },
        "dbbf9e3da6f941f8b08ab33bee2a631f": {
          "model_module": "@jupyter-widgets/base",
          "model_name": "LayoutModel",
          "model_module_version": "1.2.0",
          "state": {
            "_model_module": "@jupyter-widgets/base",
            "_model_module_version": "1.2.0",
            "_model_name": "LayoutModel",
            "_view_count": null,
            "_view_module": "@jupyter-widgets/base",
            "_view_module_version": "1.2.0",
            "_view_name": "LayoutView",
            "align_content": null,
            "align_items": null,
            "align_self": null,
            "border": null,
            "bottom": null,
            "display": null,
            "flex": null,
            "flex_flow": null,
            "grid_area": null,
            "grid_auto_columns": null,
            "grid_auto_flow": null,
            "grid_auto_rows": null,
            "grid_column": null,
            "grid_gap": null,
            "grid_row": null,
            "grid_template_areas": null,
            "grid_template_columns": null,
            "grid_template_rows": null,
            "height": null,
            "justify_content": null,
            "justify_items": null,
            "left": null,
            "margin": null,
            "max_height": null,
            "max_width": null,
            "min_height": null,
            "min_width": null,
            "object_fit": null,
            "object_position": null,
            "order": null,
            "overflow": null,
            "overflow_x": null,
            "overflow_y": null,
            "padding": null,
            "right": null,
            "top": null,
            "visibility": null,
            "width": null
          }
        },
        "34f3d9b0c11e44f28a34dbf725a379bc": {
          "model_module": "@jupyter-widgets/controls",
          "model_name": "DescriptionStyleModel",
          "model_module_version": "1.5.0",
          "state": {
            "_model_module": "@jupyter-widgets/controls",
            "_model_module_version": "1.5.0",
            "_model_name": "DescriptionStyleModel",
            "_view_count": null,
            "_view_module": "@jupyter-widgets/base",
            "_view_module_version": "1.2.0",
            "_view_name": "StyleView",
            "description_width": ""
          }
        },
        "dfbd8e5acbb14368b982fc33765c730d": {
          "model_module": "@jupyter-widgets/controls",
          "model_name": "HBoxModel",
          "model_module_version": "1.5.0",
          "state": {
            "_dom_classes": [],
            "_model_module": "@jupyter-widgets/controls",
            "_model_module_version": "1.5.0",
            "_model_name": "HBoxModel",
            "_view_count": null,
            "_view_module": "@jupyter-widgets/controls",
            "_view_module_version": "1.5.0",
            "_view_name": "HBoxView",
            "box_style": "",
            "children": [
              "IPY_MODEL_79e731d3b5b24348ac518ebba9587185",
              "IPY_MODEL_6766ee3f2f9e4e4da9849604ca7147fa",
              "IPY_MODEL_668da3c12ce4455ab4f5514071dcf3a0"
            ],
            "layout": "IPY_MODEL_6856ea8b2a314fbbac61151e5db136bf"
          }
        },
        "79e731d3b5b24348ac518ebba9587185": {
          "model_module": "@jupyter-widgets/controls",
          "model_name": "HTMLModel",
          "model_module_version": "1.5.0",
          "state": {
            "_dom_classes": [],
            "_model_module": "@jupyter-widgets/controls",
            "_model_module_version": "1.5.0",
            "_model_name": "HTMLModel",
            "_view_count": null,
            "_view_module": "@jupyter-widgets/controls",
            "_view_module_version": "1.5.0",
            "_view_name": "HTMLView",
            "description": "",
            "description_tooltip": null,
            "layout": "IPY_MODEL_dc2ebedc0330425796572d9028c83a43",
            "placeholder": "​",
            "style": "IPY_MODEL_581369af4d9b43ddb72b460ad8e90631",
            "value": "Dl Size...: 100%"
          }
        },
        "6766ee3f2f9e4e4da9849604ca7147fa": {
          "model_module": "@jupyter-widgets/controls",
          "model_name": "FloatProgressModel",
          "model_module_version": "1.5.0",
          "state": {
            "_dom_classes": [],
            "_model_module": "@jupyter-widgets/controls",
            "_model_module_version": "1.5.0",
            "_model_name": "FloatProgressModel",
            "_view_count": null,
            "_view_module": "@jupyter-widgets/controls",
            "_view_module_version": "1.5.0",
            "_view_name": "ProgressView",
            "bar_style": "success",
            "description": "",
            "description_tooltip": null,
            "layout": "IPY_MODEL_bd3ccc7210e64770b1cc6c60b946faf1",
            "max": 1,
            "min": 0,
            "orientation": "horizontal",
            "style": "IPY_MODEL_9e8e94c7bf284b6da3460efeea81d194",
            "value": 1
          }
        },
        "668da3c12ce4455ab4f5514071dcf3a0": {
          "model_module": "@jupyter-widgets/controls",
          "model_name": "HTMLModel",
          "model_module_version": "1.5.0",
          "state": {
            "_dom_classes": [],
            "_model_module": "@jupyter-widgets/controls",
            "_model_module_version": "1.5.0",
            "_model_name": "HTMLModel",
            "_view_count": null,
            "_view_module": "@jupyter-widgets/controls",
            "_view_module_version": "1.5.0",
            "_view_name": "HTMLView",
            "description": "",
            "description_tooltip": null,
            "layout": "IPY_MODEL_83a955d1556c416e81d97be12820e3b4",
            "placeholder": "​",
            "style": "IPY_MODEL_f9aa471a0b3e4bca9e9df23a01bc099a",
            "value": " 20/20 [00:53&lt;00:00,  4.71 MiB/s]"
          }
        },
        "6856ea8b2a314fbbac61151e5db136bf": {
          "model_module": "@jupyter-widgets/base",
          "model_name": "LayoutModel",
          "model_module_version": "1.2.0",
          "state": {
            "_model_module": "@jupyter-widgets/base",
            "_model_module_version": "1.2.0",
            "_model_name": "LayoutModel",
            "_view_count": null,
            "_view_module": "@jupyter-widgets/base",
            "_view_module_version": "1.2.0",
            "_view_name": "LayoutView",
            "align_content": null,
            "align_items": null,
            "align_self": null,
            "border": null,
            "bottom": null,
            "display": null,
            "flex": null,
            "flex_flow": null,
            "grid_area": null,
            "grid_auto_columns": null,
            "grid_auto_flow": null,
            "grid_auto_rows": null,
            "grid_column": null,
            "grid_gap": null,
            "grid_row": null,
            "grid_template_areas": null,
            "grid_template_columns": null,
            "grid_template_rows": null,
            "height": null,
            "justify_content": null,
            "justify_items": null,
            "left": null,
            "margin": null,
            "max_height": null,
            "max_width": null,
            "min_height": null,
            "min_width": null,
            "object_fit": null,
            "object_position": null,
            "order": null,
            "overflow": null,
            "overflow_x": null,
            "overflow_y": null,
            "padding": null,
            "right": null,
            "top": null,
            "visibility": null,
            "width": null
          }
        },
        "dc2ebedc0330425796572d9028c83a43": {
          "model_module": "@jupyter-widgets/base",
          "model_name": "LayoutModel",
          "model_module_version": "1.2.0",
          "state": {
            "_model_module": "@jupyter-widgets/base",
            "_model_module_version": "1.2.0",
            "_model_name": "LayoutModel",
            "_view_count": null,
            "_view_module": "@jupyter-widgets/base",
            "_view_module_version": "1.2.0",
            "_view_name": "LayoutView",
            "align_content": null,
            "align_items": null,
            "align_self": null,
            "border": null,
            "bottom": null,
            "display": null,
            "flex": null,
            "flex_flow": null,
            "grid_area": null,
            "grid_auto_columns": null,
            "grid_auto_flow": null,
            "grid_auto_rows": null,
            "grid_column": null,
            "grid_gap": null,
            "grid_row": null,
            "grid_template_areas": null,
            "grid_template_columns": null,
            "grid_template_rows": null,
            "height": null,
            "justify_content": null,
            "justify_items": null,
            "left": null,
            "margin": null,
            "max_height": null,
            "max_width": null,
            "min_height": null,
            "min_width": null,
            "object_fit": null,
            "object_position": null,
            "order": null,
            "overflow": null,
            "overflow_x": null,
            "overflow_y": null,
            "padding": null,
            "right": null,
            "top": null,
            "visibility": null,
            "width": null
          }
        },
        "581369af4d9b43ddb72b460ad8e90631": {
          "model_module": "@jupyter-widgets/controls",
          "model_name": "DescriptionStyleModel",
          "model_module_version": "1.5.0",
          "state": {
            "_model_module": "@jupyter-widgets/controls",
            "_model_module_version": "1.5.0",
            "_model_name": "DescriptionStyleModel",
            "_view_count": null,
            "_view_module": "@jupyter-widgets/base",
            "_view_module_version": "1.2.0",
            "_view_name": "StyleView",
            "description_width": ""
          }
        },
        "bd3ccc7210e64770b1cc6c60b946faf1": {
          "model_module": "@jupyter-widgets/base",
          "model_name": "LayoutModel",
          "model_module_version": "1.2.0",
          "state": {
            "_model_module": "@jupyter-widgets/base",
            "_model_module_version": "1.2.0",
            "_model_name": "LayoutModel",
            "_view_count": null,
            "_view_module": "@jupyter-widgets/base",
            "_view_module_version": "1.2.0",
            "_view_name": "LayoutView",
            "align_content": null,
            "align_items": null,
            "align_self": null,
            "border": null,
            "bottom": null,
            "display": null,
            "flex": null,
            "flex_flow": null,
            "grid_area": null,
            "grid_auto_columns": null,
            "grid_auto_flow": null,
            "grid_auto_rows": null,
            "grid_column": null,
            "grid_gap": null,
            "grid_row": null,
            "grid_template_areas": null,
            "grid_template_columns": null,
            "grid_template_rows": null,
            "height": null,
            "justify_content": null,
            "justify_items": null,
            "left": null,
            "margin": null,
            "max_height": null,
            "max_width": null,
            "min_height": null,
            "min_width": null,
            "object_fit": null,
            "object_position": null,
            "order": null,
            "overflow": null,
            "overflow_x": null,
            "overflow_y": null,
            "padding": null,
            "right": null,
            "top": null,
            "visibility": null,
            "width": "20px"
          }
        },
        "9e8e94c7bf284b6da3460efeea81d194": {
          "model_module": "@jupyter-widgets/controls",
          "model_name": "ProgressStyleModel",
          "model_module_version": "1.5.0",
          "state": {
            "_model_module": "@jupyter-widgets/controls",
            "_model_module_version": "1.5.0",
            "_model_name": "ProgressStyleModel",
            "_view_count": null,
            "_view_module": "@jupyter-widgets/base",
            "_view_module_version": "1.2.0",
            "_view_name": "StyleView",
            "bar_color": null,
            "description_width": ""
          }
        },
        "83a955d1556c416e81d97be12820e3b4": {
          "model_module": "@jupyter-widgets/base",
          "model_name": "LayoutModel",
          "model_module_version": "1.2.0",
          "state": {
            "_model_module": "@jupyter-widgets/base",
            "_model_module_version": "1.2.0",
            "_model_name": "LayoutModel",
            "_view_count": null,
            "_view_module": "@jupyter-widgets/base",
            "_view_module_version": "1.2.0",
            "_view_name": "LayoutView",
            "align_content": null,
            "align_items": null,
            "align_self": null,
            "border": null,
            "bottom": null,
            "display": null,
            "flex": null,
            "flex_flow": null,
            "grid_area": null,
            "grid_auto_columns": null,
            "grid_auto_flow": null,
            "grid_auto_rows": null,
            "grid_column": null,
            "grid_gap": null,
            "grid_row": null,
            "grid_template_areas": null,
            "grid_template_columns": null,
            "grid_template_rows": null,
            "height": null,
            "justify_content": null,
            "justify_items": null,
            "left": null,
            "margin": null,
            "max_height": null,
            "max_width": null,
            "min_height": null,
            "min_width": null,
            "object_fit": null,
            "object_position": null,
            "order": null,
            "overflow": null,
            "overflow_x": null,
            "overflow_y": null,
            "padding": null,
            "right": null,
            "top": null,
            "visibility": null,
            "width": null
          }
        },
        "f9aa471a0b3e4bca9e9df23a01bc099a": {
          "model_module": "@jupyter-widgets/controls",
          "model_name": "DescriptionStyleModel",
          "model_module_version": "1.5.0",
          "state": {
            "_model_module": "@jupyter-widgets/controls",
            "_model_module_version": "1.5.0",
            "_model_name": "DescriptionStyleModel",
            "_view_count": null,
            "_view_module": "@jupyter-widgets/base",
            "_view_module_version": "1.2.0",
            "_view_name": "StyleView",
            "description_width": ""
          }
        },
        "21599de239924c5b8ef0094a28ec7c56": {
          "model_module": "@jupyter-widgets/controls",
          "model_name": "HBoxModel",
          "model_module_version": "1.5.0",
          "state": {
            "_dom_classes": [],
            "_model_module": "@jupyter-widgets/controls",
            "_model_module_version": "1.5.0",
            "_model_name": "HBoxModel",
            "_view_count": null,
            "_view_module": "@jupyter-widgets/controls",
            "_view_module_version": "1.5.0",
            "_view_name": "HBoxView",
            "box_style": "",
            "children": [
              "IPY_MODEL_6406406ad2274ada923c7ef0fbe526f2",
              "IPY_MODEL_a5e306b7cecd43d3a8482ae9d3a2f476",
              "IPY_MODEL_1543e748aa5b44cd9ada328affffbe15"
            ],
            "layout": "IPY_MODEL_9f4e6d5c0389425384896fbd62f7ae69"
          }
        },
        "6406406ad2274ada923c7ef0fbe526f2": {
          "model_module": "@jupyter-widgets/controls",
          "model_name": "HTMLModel",
          "model_module_version": "1.5.0",
          "state": {
            "_dom_classes": [],
            "_model_module": "@jupyter-widgets/controls",
            "_model_module_version": "1.5.0",
            "_model_name": "HTMLModel",
            "_view_count": null,
            "_view_module": "@jupyter-widgets/controls",
            "_view_module_version": "1.5.0",
            "_view_name": "HTMLView",
            "description": "",
            "description_tooltip": null,
            "layout": "IPY_MODEL_04cc91ae3f154b6ba757e052e00145c2",
            "placeholder": "​",
            "style": "IPY_MODEL_5356040d9fd443b08bb4724455d7d3fd",
            "value": "Extraction completed...: 100%"
          }
        },
        "a5e306b7cecd43d3a8482ae9d3a2f476": {
          "model_module": "@jupyter-widgets/controls",
          "model_name": "FloatProgressModel",
          "model_module_version": "1.5.0",
          "state": {
            "_dom_classes": [],
            "_model_module": "@jupyter-widgets/controls",
            "_model_module_version": "1.5.0",
            "_model_name": "FloatProgressModel",
            "_view_count": null,
            "_view_module": "@jupyter-widgets/controls",
            "_view_module_version": "1.5.0",
            "_view_name": "ProgressView",
            "bar_style": "success",
            "description": "",
            "description_tooltip": null,
            "layout": "IPY_MODEL_d1ff27b06b9e4870bf2fdd68a6185bc8",
            "max": 1,
            "min": 0,
            "orientation": "horizontal",
            "style": "IPY_MODEL_0a9a1ec2d1da4bff8d284ee4e5e375bd",
            "value": 1
          }
        },
        "1543e748aa5b44cd9ada328affffbe15": {
          "model_module": "@jupyter-widgets/controls",
          "model_name": "HTMLModel",
          "model_module_version": "1.5.0",
          "state": {
            "_dom_classes": [],
            "_model_module": "@jupyter-widgets/controls",
            "_model_module_version": "1.5.0",
            "_model_name": "HTMLModel",
            "_view_count": null,
            "_view_module": "@jupyter-widgets/controls",
            "_view_module_version": "1.5.0",
            "_view_name": "HTMLView",
            "description": "",
            "description_tooltip": null,
            "layout": "IPY_MODEL_5c148c3122ff4f17aa898c294a2ef025",
            "placeholder": "​",
            "style": "IPY_MODEL_44be9b6ef5cd4a78ac23789bde1849a7",
            "value": " 20583/20583 [00:53&lt;00:00, 1006.71 file/s]"
          }
        },
        "9f4e6d5c0389425384896fbd62f7ae69": {
          "model_module": "@jupyter-widgets/base",
          "model_name": "LayoutModel",
          "model_module_version": "1.2.0",
          "state": {
            "_model_module": "@jupyter-widgets/base",
            "_model_module_version": "1.2.0",
            "_model_name": "LayoutModel",
            "_view_count": null,
            "_view_module": "@jupyter-widgets/base",
            "_view_module_version": "1.2.0",
            "_view_name": "LayoutView",
            "align_content": null,
            "align_items": null,
            "align_self": null,
            "border": null,
            "bottom": null,
            "display": null,
            "flex": null,
            "flex_flow": null,
            "grid_area": null,
            "grid_auto_columns": null,
            "grid_auto_flow": null,
            "grid_auto_rows": null,
            "grid_column": null,
            "grid_gap": null,
            "grid_row": null,
            "grid_template_areas": null,
            "grid_template_columns": null,
            "grid_template_rows": null,
            "height": null,
            "justify_content": null,
            "justify_items": null,
            "left": null,
            "margin": null,
            "max_height": null,
            "max_width": null,
            "min_height": null,
            "min_width": null,
            "object_fit": null,
            "object_position": null,
            "order": null,
            "overflow": null,
            "overflow_x": null,
            "overflow_y": null,
            "padding": null,
            "right": null,
            "top": null,
            "visibility": null,
            "width": null
          }
        },
        "04cc91ae3f154b6ba757e052e00145c2": {
          "model_module": "@jupyter-widgets/base",
          "model_name": "LayoutModel",
          "model_module_version": "1.2.0",
          "state": {
            "_model_module": "@jupyter-widgets/base",
            "_model_module_version": "1.2.0",
            "_model_name": "LayoutModel",
            "_view_count": null,
            "_view_module": "@jupyter-widgets/base",
            "_view_module_version": "1.2.0",
            "_view_name": "LayoutView",
            "align_content": null,
            "align_items": null,
            "align_self": null,
            "border": null,
            "bottom": null,
            "display": null,
            "flex": null,
            "flex_flow": null,
            "grid_area": null,
            "grid_auto_columns": null,
            "grid_auto_flow": null,
            "grid_auto_rows": null,
            "grid_column": null,
            "grid_gap": null,
            "grid_row": null,
            "grid_template_areas": null,
            "grid_template_columns": null,
            "grid_template_rows": null,
            "height": null,
            "justify_content": null,
            "justify_items": null,
            "left": null,
            "margin": null,
            "max_height": null,
            "max_width": null,
            "min_height": null,
            "min_width": null,
            "object_fit": null,
            "object_position": null,
            "order": null,
            "overflow": null,
            "overflow_x": null,
            "overflow_y": null,
            "padding": null,
            "right": null,
            "top": null,
            "visibility": null,
            "width": null
          }
        },
        "5356040d9fd443b08bb4724455d7d3fd": {
          "model_module": "@jupyter-widgets/controls",
          "model_name": "DescriptionStyleModel",
          "model_module_version": "1.5.0",
          "state": {
            "_model_module": "@jupyter-widgets/controls",
            "_model_module_version": "1.5.0",
            "_model_name": "DescriptionStyleModel",
            "_view_count": null,
            "_view_module": "@jupyter-widgets/base",
            "_view_module_version": "1.2.0",
            "_view_name": "StyleView",
            "description_width": ""
          }
        },
        "d1ff27b06b9e4870bf2fdd68a6185bc8": {
          "model_module": "@jupyter-widgets/base",
          "model_name": "LayoutModel",
          "model_module_version": "1.2.0",
          "state": {
            "_model_module": "@jupyter-widgets/base",
            "_model_module_version": "1.2.0",
            "_model_name": "LayoutModel",
            "_view_count": null,
            "_view_module": "@jupyter-widgets/base",
            "_view_module_version": "1.2.0",
            "_view_name": "LayoutView",
            "align_content": null,
            "align_items": null,
            "align_self": null,
            "border": null,
            "bottom": null,
            "display": null,
            "flex": null,
            "flex_flow": null,
            "grid_area": null,
            "grid_auto_columns": null,
            "grid_auto_flow": null,
            "grid_auto_rows": null,
            "grid_column": null,
            "grid_gap": null,
            "grid_row": null,
            "grid_template_areas": null,
            "grid_template_columns": null,
            "grid_template_rows": null,
            "height": null,
            "justify_content": null,
            "justify_items": null,
            "left": null,
            "margin": null,
            "max_height": null,
            "max_width": null,
            "min_height": null,
            "min_width": null,
            "object_fit": null,
            "object_position": null,
            "order": null,
            "overflow": null,
            "overflow_x": null,
            "overflow_y": null,
            "padding": null,
            "right": null,
            "top": null,
            "visibility": null,
            "width": "20px"
          }
        },
        "0a9a1ec2d1da4bff8d284ee4e5e375bd": {
          "model_module": "@jupyter-widgets/controls",
          "model_name": "ProgressStyleModel",
          "model_module_version": "1.5.0",
          "state": {
            "_model_module": "@jupyter-widgets/controls",
            "_model_module_version": "1.5.0",
            "_model_name": "ProgressStyleModel",
            "_view_count": null,
            "_view_module": "@jupyter-widgets/base",
            "_view_module_version": "1.2.0",
            "_view_name": "StyleView",
            "bar_color": null,
            "description_width": ""
          }
        },
        "5c148c3122ff4f17aa898c294a2ef025": {
          "model_module": "@jupyter-widgets/base",
          "model_name": "LayoutModel",
          "model_module_version": "1.2.0",
          "state": {
            "_model_module": "@jupyter-widgets/base",
            "_model_module_version": "1.2.0",
            "_model_name": "LayoutModel",
            "_view_count": null,
            "_view_module": "@jupyter-widgets/base",
            "_view_module_version": "1.2.0",
            "_view_name": "LayoutView",
            "align_content": null,
            "align_items": null,
            "align_self": null,
            "border": null,
            "bottom": null,
            "display": null,
            "flex": null,
            "flex_flow": null,
            "grid_area": null,
            "grid_auto_columns": null,
            "grid_auto_flow": null,
            "grid_auto_rows": null,
            "grid_column": null,
            "grid_gap": null,
            "grid_row": null,
            "grid_template_areas": null,
            "grid_template_columns": null,
            "grid_template_rows": null,
            "height": null,
            "justify_content": null,
            "justify_items": null,
            "left": null,
            "margin": null,
            "max_height": null,
            "max_width": null,
            "min_height": null,
            "min_width": null,
            "object_fit": null,
            "object_position": null,
            "order": null,
            "overflow": null,
            "overflow_x": null,
            "overflow_y": null,
            "padding": null,
            "right": null,
            "top": null,
            "visibility": null,
            "width": null
          }
        },
        "44be9b6ef5cd4a78ac23789bde1849a7": {
          "model_module": "@jupyter-widgets/controls",
          "model_name": "DescriptionStyleModel",
          "model_module_version": "1.5.0",
          "state": {
            "_model_module": "@jupyter-widgets/controls",
            "_model_module_version": "1.5.0",
            "_model_name": "DescriptionStyleModel",
            "_view_count": null,
            "_view_module": "@jupyter-widgets/base",
            "_view_module_version": "1.2.0",
            "_view_name": "StyleView",
            "description_width": ""
          }
        },
        "8c6507bc34324f41977c28a679ab7a53": {
          "model_module": "@jupyter-widgets/controls",
          "model_name": "HBoxModel",
          "model_module_version": "1.5.0",
          "state": {
            "_dom_classes": [],
            "_model_module": "@jupyter-widgets/controls",
            "_model_module_version": "1.5.0",
            "_model_name": "HBoxModel",
            "_view_count": null,
            "_view_module": "@jupyter-widgets/controls",
            "_view_module_version": "1.5.0",
            "_view_name": "HBoxView",
            "box_style": "",
            "children": [
              "IPY_MODEL_1fb72544384d4ec79ac66b8ea25d245c",
              "IPY_MODEL_13921209eaa94cf78ffe089138826d5d",
              "IPY_MODEL_a176124de048480281b63859f513f2ce"
            ],
            "layout": "IPY_MODEL_02577e810236408faa05529d3344bbbd"
          }
        },
        "1fb72544384d4ec79ac66b8ea25d245c": {
          "model_module": "@jupyter-widgets/controls",
          "model_name": "HTMLModel",
          "model_module_version": "1.5.0",
          "state": {
            "_dom_classes": [],
            "_model_module": "@jupyter-widgets/controls",
            "_model_module_version": "1.5.0",
            "_model_name": "HTMLModel",
            "_view_count": null,
            "_view_module": "@jupyter-widgets/controls",
            "_view_module_version": "1.5.0",
            "_view_name": "HTMLView",
            "description": "",
            "description_tooltip": null,
            "layout": "IPY_MODEL_d131943eebab427eb84d3eb76608ee67",
            "placeholder": "​",
            "style": "IPY_MODEL_de77f613a9704487946020efaa43bd73",
            "value": "Generating splits...: 100%"
          }
        },
        "13921209eaa94cf78ffe089138826d5d": {
          "model_module": "@jupyter-widgets/controls",
          "model_name": "FloatProgressModel",
          "model_module_version": "1.5.0",
          "state": {
            "_dom_classes": [],
            "_model_module": "@jupyter-widgets/controls",
            "_model_module_version": "1.5.0",
            "_model_name": "FloatProgressModel",
            "_view_count": null,
            "_view_module": "@jupyter-widgets/controls",
            "_view_module_version": "1.5.0",
            "_view_name": "ProgressView",
            "bar_style": "",
            "description": "",
            "description_tooltip": null,
            "layout": "IPY_MODEL_e970aa3973b8403a833d6816dc70a956",
            "max": 2,
            "min": 0,
            "orientation": "horizontal",
            "style": "IPY_MODEL_90a28cf7265f4532b46f0a32c31f747d",
            "value": 2
          }
        },
        "a176124de048480281b63859f513f2ce": {
          "model_module": "@jupyter-widgets/controls",
          "model_name": "HTMLModel",
          "model_module_version": "1.5.0",
          "state": {
            "_dom_classes": [],
            "_model_module": "@jupyter-widgets/controls",
            "_model_module_version": "1.5.0",
            "_model_name": "HTMLModel",
            "_view_count": null,
            "_view_module": "@jupyter-widgets/controls",
            "_view_module_version": "1.5.0",
            "_view_name": "HTMLView",
            "description": "",
            "description_tooltip": null,
            "layout": "IPY_MODEL_26288ca2207b41f5b26523a07909c0ea",
            "placeholder": "​",
            "style": "IPY_MODEL_dbd8c0d646b64b7a9af883c1e3962970",
            "value": " 2/2 [00:29&lt;00:00, 14.60s/ splits]"
          }
        },
        "02577e810236408faa05529d3344bbbd": {
          "model_module": "@jupyter-widgets/base",
          "model_name": "LayoutModel",
          "model_module_version": "1.2.0",
          "state": {
            "_model_module": "@jupyter-widgets/base",
            "_model_module_version": "1.2.0",
            "_model_name": "LayoutModel",
            "_view_count": null,
            "_view_module": "@jupyter-widgets/base",
            "_view_module_version": "1.2.0",
            "_view_name": "LayoutView",
            "align_content": null,
            "align_items": null,
            "align_self": null,
            "border": null,
            "bottom": null,
            "display": null,
            "flex": null,
            "flex_flow": null,
            "grid_area": null,
            "grid_auto_columns": null,
            "grid_auto_flow": null,
            "grid_auto_rows": null,
            "grid_column": null,
            "grid_gap": null,
            "grid_row": null,
            "grid_template_areas": null,
            "grid_template_columns": null,
            "grid_template_rows": null,
            "height": null,
            "justify_content": null,
            "justify_items": null,
            "left": null,
            "margin": null,
            "max_height": null,
            "max_width": null,
            "min_height": null,
            "min_width": null,
            "object_fit": null,
            "object_position": null,
            "order": null,
            "overflow": null,
            "overflow_x": null,
            "overflow_y": null,
            "padding": null,
            "right": null,
            "top": null,
            "visibility": "hidden",
            "width": null
          }
        },
        "d131943eebab427eb84d3eb76608ee67": {
          "model_module": "@jupyter-widgets/base",
          "model_name": "LayoutModel",
          "model_module_version": "1.2.0",
          "state": {
            "_model_module": "@jupyter-widgets/base",
            "_model_module_version": "1.2.0",
            "_model_name": "LayoutModel",
            "_view_count": null,
            "_view_module": "@jupyter-widgets/base",
            "_view_module_version": "1.2.0",
            "_view_name": "LayoutView",
            "align_content": null,
            "align_items": null,
            "align_self": null,
            "border": null,
            "bottom": null,
            "display": null,
            "flex": null,
            "flex_flow": null,
            "grid_area": null,
            "grid_auto_columns": null,
            "grid_auto_flow": null,
            "grid_auto_rows": null,
            "grid_column": null,
            "grid_gap": null,
            "grid_row": null,
            "grid_template_areas": null,
            "grid_template_columns": null,
            "grid_template_rows": null,
            "height": null,
            "justify_content": null,
            "justify_items": null,
            "left": null,
            "margin": null,
            "max_height": null,
            "max_width": null,
            "min_height": null,
            "min_width": null,
            "object_fit": null,
            "object_position": null,
            "order": null,
            "overflow": null,
            "overflow_x": null,
            "overflow_y": null,
            "padding": null,
            "right": null,
            "top": null,
            "visibility": null,
            "width": null
          }
        },
        "de77f613a9704487946020efaa43bd73": {
          "model_module": "@jupyter-widgets/controls",
          "model_name": "DescriptionStyleModel",
          "model_module_version": "1.5.0",
          "state": {
            "_model_module": "@jupyter-widgets/controls",
            "_model_module_version": "1.5.0",
            "_model_name": "DescriptionStyleModel",
            "_view_count": null,
            "_view_module": "@jupyter-widgets/base",
            "_view_module_version": "1.2.0",
            "_view_name": "StyleView",
            "description_width": ""
          }
        },
        "e970aa3973b8403a833d6816dc70a956": {
          "model_module": "@jupyter-widgets/base",
          "model_name": "LayoutModel",
          "model_module_version": "1.2.0",
          "state": {
            "_model_module": "@jupyter-widgets/base",
            "_model_module_version": "1.2.0",
            "_model_name": "LayoutModel",
            "_view_count": null,
            "_view_module": "@jupyter-widgets/base",
            "_view_module_version": "1.2.0",
            "_view_name": "LayoutView",
            "align_content": null,
            "align_items": null,
            "align_self": null,
            "border": null,
            "bottom": null,
            "display": null,
            "flex": null,
            "flex_flow": null,
            "grid_area": null,
            "grid_auto_columns": null,
            "grid_auto_flow": null,
            "grid_auto_rows": null,
            "grid_column": null,
            "grid_gap": null,
            "grid_row": null,
            "grid_template_areas": null,
            "grid_template_columns": null,
            "grid_template_rows": null,
            "height": null,
            "justify_content": null,
            "justify_items": null,
            "left": null,
            "margin": null,
            "max_height": null,
            "max_width": null,
            "min_height": null,
            "min_width": null,
            "object_fit": null,
            "object_position": null,
            "order": null,
            "overflow": null,
            "overflow_x": null,
            "overflow_y": null,
            "padding": null,
            "right": null,
            "top": null,
            "visibility": null,
            "width": null
          }
        },
        "90a28cf7265f4532b46f0a32c31f747d": {
          "model_module": "@jupyter-widgets/controls",
          "model_name": "ProgressStyleModel",
          "model_module_version": "1.5.0",
          "state": {
            "_model_module": "@jupyter-widgets/controls",
            "_model_module_version": "1.5.0",
            "_model_name": "ProgressStyleModel",
            "_view_count": null,
            "_view_module": "@jupyter-widgets/base",
            "_view_module_version": "1.2.0",
            "_view_name": "StyleView",
            "bar_color": null,
            "description_width": ""
          }
        },
        "26288ca2207b41f5b26523a07909c0ea": {
          "model_module": "@jupyter-widgets/base",
          "model_name": "LayoutModel",
          "model_module_version": "1.2.0",
          "state": {
            "_model_module": "@jupyter-widgets/base",
            "_model_module_version": "1.2.0",
            "_model_name": "LayoutModel",
            "_view_count": null,
            "_view_module": "@jupyter-widgets/base",
            "_view_module_version": "1.2.0",
            "_view_name": "LayoutView",
            "align_content": null,
            "align_items": null,
            "align_self": null,
            "border": null,
            "bottom": null,
            "display": null,
            "flex": null,
            "flex_flow": null,
            "grid_area": null,
            "grid_auto_columns": null,
            "grid_auto_flow": null,
            "grid_auto_rows": null,
            "grid_column": null,
            "grid_gap": null,
            "grid_row": null,
            "grid_template_areas": null,
            "grid_template_columns": null,
            "grid_template_rows": null,
            "height": null,
            "justify_content": null,
            "justify_items": null,
            "left": null,
            "margin": null,
            "max_height": null,
            "max_width": null,
            "min_height": null,
            "min_width": null,
            "object_fit": null,
            "object_position": null,
            "order": null,
            "overflow": null,
            "overflow_x": null,
            "overflow_y": null,
            "padding": null,
            "right": null,
            "top": null,
            "visibility": null,
            "width": null
          }
        },
        "dbd8c0d646b64b7a9af883c1e3962970": {
          "model_module": "@jupyter-widgets/controls",
          "model_name": "DescriptionStyleModel",
          "model_module_version": "1.5.0",
          "state": {
            "_model_module": "@jupyter-widgets/controls",
            "_model_module_version": "1.5.0",
            "_model_name": "DescriptionStyleModel",
            "_view_count": null,
            "_view_module": "@jupyter-widgets/base",
            "_view_module_version": "1.2.0",
            "_view_name": "StyleView",
            "description_width": ""
          }
        },
        "a7bbe0363aca4dae81332ef1ff7199dd": {
          "model_module": "@jupyter-widgets/controls",
          "model_name": "HBoxModel",
          "model_module_version": "1.5.0",
          "state": {
            "_dom_classes": [],
            "_model_module": "@jupyter-widgets/controls",
            "_model_module_version": "1.5.0",
            "_model_name": "HBoxModel",
            "_view_count": null,
            "_view_module": "@jupyter-widgets/controls",
            "_view_module_version": "1.5.0",
            "_view_name": "HBoxView",
            "box_style": "",
            "children": [
              "IPY_MODEL_6f74fd122632481cb58de69aedbe4b9c",
              "IPY_MODEL_c96a26b48a9d40a19057e46928b718ad",
              "IPY_MODEL_0a630fe2faf244c8a0adfa4b756696d2"
            ],
            "layout": "IPY_MODEL_cd6fc7d8671a44ee9cc63b52f231328b"
          }
        },
        "6f74fd122632481cb58de69aedbe4b9c": {
          "model_module": "@jupyter-widgets/controls",
          "model_name": "HTMLModel",
          "model_module_version": "1.5.0",
          "state": {
            "_dom_classes": [],
            "_model_module": "@jupyter-widgets/controls",
            "_model_module_version": "1.5.0",
            "_model_name": "HTMLModel",
            "_view_count": null,
            "_view_module": "@jupyter-widgets/controls",
            "_view_module_version": "1.5.0",
            "_view_name": "HTMLView",
            "description": "",
            "description_tooltip": null,
            "layout": "IPY_MODEL_46484b443c074a71adc4504170cf9ee2",
            "placeholder": "​",
            "style": "IPY_MODEL_b4c8824f38c54044977a80ce26e44c2f",
            "value": "Generating train examples...:  98%"
          }
        },
        "c96a26b48a9d40a19057e46928b718ad": {
          "model_module": "@jupyter-widgets/controls",
          "model_name": "FloatProgressModel",
          "model_module_version": "1.5.0",
          "state": {
            "_dom_classes": [],
            "_model_module": "@jupyter-widgets/controls",
            "_model_module_version": "1.5.0",
            "_model_name": "FloatProgressModel",
            "_view_count": null,
            "_view_module": "@jupyter-widgets/controls",
            "_view_module_version": "1.5.0",
            "_view_name": "ProgressView",
            "bar_style": "",
            "description": "",
            "description_tooltip": null,
            "layout": "IPY_MODEL_c81c78b77faf41f3aa64c2d9e17637dc",
            "max": 12000,
            "min": 0,
            "orientation": "horizontal",
            "style": "IPY_MODEL_9ee77bf6232a4d8fb46a9bdc7adf2f15",
            "value": 12000
          }
        },
        "0a630fe2faf244c8a0adfa4b756696d2": {
          "model_module": "@jupyter-widgets/controls",
          "model_name": "HTMLModel",
          "model_module_version": "1.5.0",
          "state": {
            "_dom_classes": [],
            "_model_module": "@jupyter-widgets/controls",
            "_model_module_version": "1.5.0",
            "_model_name": "HTMLModel",
            "_view_count": null,
            "_view_module": "@jupyter-widgets/controls",
            "_view_module_version": "1.5.0",
            "_view_name": "HTMLView",
            "description": "",
            "description_tooltip": null,
            "layout": "IPY_MODEL_35533484745d47fcba73f0e46895aaf4",
            "placeholder": "​",
            "style": "IPY_MODEL_d5f57575f7144058adfa9d039d6eacd2",
            "value": " 11756/12000 [00:15&lt;00:00, 698.16 examples/s]"
          }
        },
        "cd6fc7d8671a44ee9cc63b52f231328b": {
          "model_module": "@jupyter-widgets/base",
          "model_name": "LayoutModel",
          "model_module_version": "1.2.0",
          "state": {
            "_model_module": "@jupyter-widgets/base",
            "_model_module_version": "1.2.0",
            "_model_name": "LayoutModel",
            "_view_count": null,
            "_view_module": "@jupyter-widgets/base",
            "_view_module_version": "1.2.0",
            "_view_name": "LayoutView",
            "align_content": null,
            "align_items": null,
            "align_self": null,
            "border": null,
            "bottom": null,
            "display": null,
            "flex": null,
            "flex_flow": null,
            "grid_area": null,
            "grid_auto_columns": null,
            "grid_auto_flow": null,
            "grid_auto_rows": null,
            "grid_column": null,
            "grid_gap": null,
            "grid_row": null,
            "grid_template_areas": null,
            "grid_template_columns": null,
            "grid_template_rows": null,
            "height": null,
            "justify_content": null,
            "justify_items": null,
            "left": null,
            "margin": null,
            "max_height": null,
            "max_width": null,
            "min_height": null,
            "min_width": null,
            "object_fit": null,
            "object_position": null,
            "order": null,
            "overflow": null,
            "overflow_x": null,
            "overflow_y": null,
            "padding": null,
            "right": null,
            "top": null,
            "visibility": "hidden",
            "width": null
          }
        },
        "46484b443c074a71adc4504170cf9ee2": {
          "model_module": "@jupyter-widgets/base",
          "model_name": "LayoutModel",
          "model_module_version": "1.2.0",
          "state": {
            "_model_module": "@jupyter-widgets/base",
            "_model_module_version": "1.2.0",
            "_model_name": "LayoutModel",
            "_view_count": null,
            "_view_module": "@jupyter-widgets/base",
            "_view_module_version": "1.2.0",
            "_view_name": "LayoutView",
            "align_content": null,
            "align_items": null,
            "align_self": null,
            "border": null,
            "bottom": null,
            "display": null,
            "flex": null,
            "flex_flow": null,
            "grid_area": null,
            "grid_auto_columns": null,
            "grid_auto_flow": null,
            "grid_auto_rows": null,
            "grid_column": null,
            "grid_gap": null,
            "grid_row": null,
            "grid_template_areas": null,
            "grid_template_columns": null,
            "grid_template_rows": null,
            "height": null,
            "justify_content": null,
            "justify_items": null,
            "left": null,
            "margin": null,
            "max_height": null,
            "max_width": null,
            "min_height": null,
            "min_width": null,
            "object_fit": null,
            "object_position": null,
            "order": null,
            "overflow": null,
            "overflow_x": null,
            "overflow_y": null,
            "padding": null,
            "right": null,
            "top": null,
            "visibility": null,
            "width": null
          }
        },
        "b4c8824f38c54044977a80ce26e44c2f": {
          "model_module": "@jupyter-widgets/controls",
          "model_name": "DescriptionStyleModel",
          "model_module_version": "1.5.0",
          "state": {
            "_model_module": "@jupyter-widgets/controls",
            "_model_module_version": "1.5.0",
            "_model_name": "DescriptionStyleModel",
            "_view_count": null,
            "_view_module": "@jupyter-widgets/base",
            "_view_module_version": "1.2.0",
            "_view_name": "StyleView",
            "description_width": ""
          }
        },
        "c81c78b77faf41f3aa64c2d9e17637dc": {
          "model_module": "@jupyter-widgets/base",
          "model_name": "LayoutModel",
          "model_module_version": "1.2.0",
          "state": {
            "_model_module": "@jupyter-widgets/base",
            "_model_module_version": "1.2.0",
            "_model_name": "LayoutModel",
            "_view_count": null,
            "_view_module": "@jupyter-widgets/base",
            "_view_module_version": "1.2.0",
            "_view_name": "LayoutView",
            "align_content": null,
            "align_items": null,
            "align_self": null,
            "border": null,
            "bottom": null,
            "display": null,
            "flex": null,
            "flex_flow": null,
            "grid_area": null,
            "grid_auto_columns": null,
            "grid_auto_flow": null,
            "grid_auto_rows": null,
            "grid_column": null,
            "grid_gap": null,
            "grid_row": null,
            "grid_template_areas": null,
            "grid_template_columns": null,
            "grid_template_rows": null,
            "height": null,
            "justify_content": null,
            "justify_items": null,
            "left": null,
            "margin": null,
            "max_height": null,
            "max_width": null,
            "min_height": null,
            "min_width": null,
            "object_fit": null,
            "object_position": null,
            "order": null,
            "overflow": null,
            "overflow_x": null,
            "overflow_y": null,
            "padding": null,
            "right": null,
            "top": null,
            "visibility": null,
            "width": null
          }
        },
        "9ee77bf6232a4d8fb46a9bdc7adf2f15": {
          "model_module": "@jupyter-widgets/controls",
          "model_name": "ProgressStyleModel",
          "model_module_version": "1.5.0",
          "state": {
            "_model_module": "@jupyter-widgets/controls",
            "_model_module_version": "1.5.0",
            "_model_name": "ProgressStyleModel",
            "_view_count": null,
            "_view_module": "@jupyter-widgets/base",
            "_view_module_version": "1.2.0",
            "_view_name": "StyleView",
            "bar_color": null,
            "description_width": ""
          }
        },
        "35533484745d47fcba73f0e46895aaf4": {
          "model_module": "@jupyter-widgets/base",
          "model_name": "LayoutModel",
          "model_module_version": "1.2.0",
          "state": {
            "_model_module": "@jupyter-widgets/base",
            "_model_module_version": "1.2.0",
            "_model_name": "LayoutModel",
            "_view_count": null,
            "_view_module": "@jupyter-widgets/base",
            "_view_module_version": "1.2.0",
            "_view_name": "LayoutView",
            "align_content": null,
            "align_items": null,
            "align_self": null,
            "border": null,
            "bottom": null,
            "display": null,
            "flex": null,
            "flex_flow": null,
            "grid_area": null,
            "grid_auto_columns": null,
            "grid_auto_flow": null,
            "grid_auto_rows": null,
            "grid_column": null,
            "grid_gap": null,
            "grid_row": null,
            "grid_template_areas": null,
            "grid_template_columns": null,
            "grid_template_rows": null,
            "height": null,
            "justify_content": null,
            "justify_items": null,
            "left": null,
            "margin": null,
            "max_height": null,
            "max_width": null,
            "min_height": null,
            "min_width": null,
            "object_fit": null,
            "object_position": null,
            "order": null,
            "overflow": null,
            "overflow_x": null,
            "overflow_y": null,
            "padding": null,
            "right": null,
            "top": null,
            "visibility": null,
            "width": null
          }
        },
        "d5f57575f7144058adfa9d039d6eacd2": {
          "model_module": "@jupyter-widgets/controls",
          "model_name": "DescriptionStyleModel",
          "model_module_version": "1.5.0",
          "state": {
            "_model_module": "@jupyter-widgets/controls",
            "_model_module_version": "1.5.0",
            "_model_name": "DescriptionStyleModel",
            "_view_count": null,
            "_view_module": "@jupyter-widgets/base",
            "_view_module_version": "1.2.0",
            "_view_name": "StyleView",
            "description_width": ""
          }
        },
        "9886a1b0d5854108a68fc5f9610f88b7": {
          "model_module": "@jupyter-widgets/controls",
          "model_name": "HBoxModel",
          "model_module_version": "1.5.0",
          "state": {
            "_dom_classes": [],
            "_model_module": "@jupyter-widgets/controls",
            "_model_module_version": "1.5.0",
            "_model_name": "HBoxModel",
            "_view_count": null,
            "_view_module": "@jupyter-widgets/controls",
            "_view_module_version": "1.5.0",
            "_view_name": "HBoxView",
            "box_style": "",
            "children": [
              "IPY_MODEL_7450df08994c42258d9bb30467be3106",
              "IPY_MODEL_cdbcae5a2a554d30b5c688b8c1b1439c",
              "IPY_MODEL_56f3467cd1934fa7a6749100f080c178"
            ],
            "layout": "IPY_MODEL_d762f1e3ff4f4916bb48b08a50008fd7"
          }
        },
        "7450df08994c42258d9bb30467be3106": {
          "model_module": "@jupyter-widgets/controls",
          "model_name": "HTMLModel",
          "model_module_version": "1.5.0",
          "state": {
            "_dom_classes": [],
            "_model_module": "@jupyter-widgets/controls",
            "_model_module_version": "1.5.0",
            "_model_name": "HTMLModel",
            "_view_count": null,
            "_view_module": "@jupyter-widgets/controls",
            "_view_module_version": "1.5.0",
            "_view_name": "HTMLView",
            "description": "",
            "description_tooltip": null,
            "layout": "IPY_MODEL_e24a8b3a63fd45108579f914058dc8b9",
            "placeholder": "​",
            "style": "IPY_MODEL_dab81300eea94af680780db877ae5383",
            "value": "Shuffling /root/tensorflow_datasets/stanford_dogs/0.2.0.incomplete5KE13X/stanford_dogs-train.tfrecord*...:  97%"
          }
        },
        "cdbcae5a2a554d30b5c688b8c1b1439c": {
          "model_module": "@jupyter-widgets/controls",
          "model_name": "FloatProgressModel",
          "model_module_version": "1.5.0",
          "state": {
            "_dom_classes": [],
            "_model_module": "@jupyter-widgets/controls",
            "_model_module_version": "1.5.0",
            "_model_name": "FloatProgressModel",
            "_view_count": null,
            "_view_module": "@jupyter-widgets/controls",
            "_view_module_version": "1.5.0",
            "_view_name": "ProgressView",
            "bar_style": "",
            "description": "",
            "description_tooltip": null,
            "layout": "IPY_MODEL_40d95b28619046a8b23ca2141597e5df",
            "max": 12000,
            "min": 0,
            "orientation": "horizontal",
            "style": "IPY_MODEL_ab8b73420c9748bcbe0853c34e52cbe2",
            "value": 12000
          }
        },
        "56f3467cd1934fa7a6749100f080c178": {
          "model_module": "@jupyter-widgets/controls",
          "model_name": "HTMLModel",
          "model_module_version": "1.5.0",
          "state": {
            "_dom_classes": [],
            "_model_module": "@jupyter-widgets/controls",
            "_model_module_version": "1.5.0",
            "_model_name": "HTMLModel",
            "_view_count": null,
            "_view_module": "@jupyter-widgets/controls",
            "_view_module_version": "1.5.0",
            "_view_name": "HTMLView",
            "description": "",
            "description_tooltip": null,
            "layout": "IPY_MODEL_8d00724b1bc9461393fff4168fef4755",
            "placeholder": "​",
            "style": "IPY_MODEL_ea55bef5984c4634a18f302f9a16de29",
            "value": " 11658/12000 [00:01&lt;00:00, 8629.93 examples/s]"
          }
        },
        "d762f1e3ff4f4916bb48b08a50008fd7": {
          "model_module": "@jupyter-widgets/base",
          "model_name": "LayoutModel",
          "model_module_version": "1.2.0",
          "state": {
            "_model_module": "@jupyter-widgets/base",
            "_model_module_version": "1.2.0",
            "_model_name": "LayoutModel",
            "_view_count": null,
            "_view_module": "@jupyter-widgets/base",
            "_view_module_version": "1.2.0",
            "_view_name": "LayoutView",
            "align_content": null,
            "align_items": null,
            "align_self": null,
            "border": null,
            "bottom": null,
            "display": null,
            "flex": null,
            "flex_flow": null,
            "grid_area": null,
            "grid_auto_columns": null,
            "grid_auto_flow": null,
            "grid_auto_rows": null,
            "grid_column": null,
            "grid_gap": null,
            "grid_row": null,
            "grid_template_areas": null,
            "grid_template_columns": null,
            "grid_template_rows": null,
            "height": null,
            "justify_content": null,
            "justify_items": null,
            "left": null,
            "margin": null,
            "max_height": null,
            "max_width": null,
            "min_height": null,
            "min_width": null,
            "object_fit": null,
            "object_position": null,
            "order": null,
            "overflow": null,
            "overflow_x": null,
            "overflow_y": null,
            "padding": null,
            "right": null,
            "top": null,
            "visibility": "hidden",
            "width": null
          }
        },
        "e24a8b3a63fd45108579f914058dc8b9": {
          "model_module": "@jupyter-widgets/base",
          "model_name": "LayoutModel",
          "model_module_version": "1.2.0",
          "state": {
            "_model_module": "@jupyter-widgets/base",
            "_model_module_version": "1.2.0",
            "_model_name": "LayoutModel",
            "_view_count": null,
            "_view_module": "@jupyter-widgets/base",
            "_view_module_version": "1.2.0",
            "_view_name": "LayoutView",
            "align_content": null,
            "align_items": null,
            "align_self": null,
            "border": null,
            "bottom": null,
            "display": null,
            "flex": null,
            "flex_flow": null,
            "grid_area": null,
            "grid_auto_columns": null,
            "grid_auto_flow": null,
            "grid_auto_rows": null,
            "grid_column": null,
            "grid_gap": null,
            "grid_row": null,
            "grid_template_areas": null,
            "grid_template_columns": null,
            "grid_template_rows": null,
            "height": null,
            "justify_content": null,
            "justify_items": null,
            "left": null,
            "margin": null,
            "max_height": null,
            "max_width": null,
            "min_height": null,
            "min_width": null,
            "object_fit": null,
            "object_position": null,
            "order": null,
            "overflow": null,
            "overflow_x": null,
            "overflow_y": null,
            "padding": null,
            "right": null,
            "top": null,
            "visibility": null,
            "width": null
          }
        },
        "dab81300eea94af680780db877ae5383": {
          "model_module": "@jupyter-widgets/controls",
          "model_name": "DescriptionStyleModel",
          "model_module_version": "1.5.0",
          "state": {
            "_model_module": "@jupyter-widgets/controls",
            "_model_module_version": "1.5.0",
            "_model_name": "DescriptionStyleModel",
            "_view_count": null,
            "_view_module": "@jupyter-widgets/base",
            "_view_module_version": "1.2.0",
            "_view_name": "StyleView",
            "description_width": ""
          }
        },
        "40d95b28619046a8b23ca2141597e5df": {
          "model_module": "@jupyter-widgets/base",
          "model_name": "LayoutModel",
          "model_module_version": "1.2.0",
          "state": {
            "_model_module": "@jupyter-widgets/base",
            "_model_module_version": "1.2.0",
            "_model_name": "LayoutModel",
            "_view_count": null,
            "_view_module": "@jupyter-widgets/base",
            "_view_module_version": "1.2.0",
            "_view_name": "LayoutView",
            "align_content": null,
            "align_items": null,
            "align_self": null,
            "border": null,
            "bottom": null,
            "display": null,
            "flex": null,
            "flex_flow": null,
            "grid_area": null,
            "grid_auto_columns": null,
            "grid_auto_flow": null,
            "grid_auto_rows": null,
            "grid_column": null,
            "grid_gap": null,
            "grid_row": null,
            "grid_template_areas": null,
            "grid_template_columns": null,
            "grid_template_rows": null,
            "height": null,
            "justify_content": null,
            "justify_items": null,
            "left": null,
            "margin": null,
            "max_height": null,
            "max_width": null,
            "min_height": null,
            "min_width": null,
            "object_fit": null,
            "object_position": null,
            "order": null,
            "overflow": null,
            "overflow_x": null,
            "overflow_y": null,
            "padding": null,
            "right": null,
            "top": null,
            "visibility": null,
            "width": null
          }
        },
        "ab8b73420c9748bcbe0853c34e52cbe2": {
          "model_module": "@jupyter-widgets/controls",
          "model_name": "ProgressStyleModel",
          "model_module_version": "1.5.0",
          "state": {
            "_model_module": "@jupyter-widgets/controls",
            "_model_module_version": "1.5.0",
            "_model_name": "ProgressStyleModel",
            "_view_count": null,
            "_view_module": "@jupyter-widgets/base",
            "_view_module_version": "1.2.0",
            "_view_name": "StyleView",
            "bar_color": null,
            "description_width": ""
          }
        },
        "8d00724b1bc9461393fff4168fef4755": {
          "model_module": "@jupyter-widgets/base",
          "model_name": "LayoutModel",
          "model_module_version": "1.2.0",
          "state": {
            "_model_module": "@jupyter-widgets/base",
            "_model_module_version": "1.2.0",
            "_model_name": "LayoutModel",
            "_view_count": null,
            "_view_module": "@jupyter-widgets/base",
            "_view_module_version": "1.2.0",
            "_view_name": "LayoutView",
            "align_content": null,
            "align_items": null,
            "align_self": null,
            "border": null,
            "bottom": null,
            "display": null,
            "flex": null,
            "flex_flow": null,
            "grid_area": null,
            "grid_auto_columns": null,
            "grid_auto_flow": null,
            "grid_auto_rows": null,
            "grid_column": null,
            "grid_gap": null,
            "grid_row": null,
            "grid_template_areas": null,
            "grid_template_columns": null,
            "grid_template_rows": null,
            "height": null,
            "justify_content": null,
            "justify_items": null,
            "left": null,
            "margin": null,
            "max_height": null,
            "max_width": null,
            "min_height": null,
            "min_width": null,
            "object_fit": null,
            "object_position": null,
            "order": null,
            "overflow": null,
            "overflow_x": null,
            "overflow_y": null,
            "padding": null,
            "right": null,
            "top": null,
            "visibility": null,
            "width": null
          }
        },
        "ea55bef5984c4634a18f302f9a16de29": {
          "model_module": "@jupyter-widgets/controls",
          "model_name": "DescriptionStyleModel",
          "model_module_version": "1.5.0",
          "state": {
            "_model_module": "@jupyter-widgets/controls",
            "_model_module_version": "1.5.0",
            "_model_name": "DescriptionStyleModel",
            "_view_count": null,
            "_view_module": "@jupyter-widgets/base",
            "_view_module_version": "1.2.0",
            "_view_name": "StyleView",
            "description_width": ""
          }
        },
        "17ac1b52d4eb430f96a3818292a5fc86": {
          "model_module": "@jupyter-widgets/controls",
          "model_name": "HBoxModel",
          "model_module_version": "1.5.0",
          "state": {
            "_dom_classes": [],
            "_model_module": "@jupyter-widgets/controls",
            "_model_module_version": "1.5.0",
            "_model_name": "HBoxModel",
            "_view_count": null,
            "_view_module": "@jupyter-widgets/controls",
            "_view_module_version": "1.5.0",
            "_view_name": "HBoxView",
            "box_style": "",
            "children": [
              "IPY_MODEL_2fe639c1a7f646c1b62970f2dfbb9847",
              "IPY_MODEL_1fc53baed5ca447380987b79af0a5f0a",
              "IPY_MODEL_9af0fa20edf64b5db86492594902f7e1"
            ],
            "layout": "IPY_MODEL_3bf5104275f14b62b5e7f08a53a73995"
          }
        },
        "2fe639c1a7f646c1b62970f2dfbb9847": {
          "model_module": "@jupyter-widgets/controls",
          "model_name": "HTMLModel",
          "model_module_version": "1.5.0",
          "state": {
            "_dom_classes": [],
            "_model_module": "@jupyter-widgets/controls",
            "_model_module_version": "1.5.0",
            "_model_name": "HTMLModel",
            "_view_count": null,
            "_view_module": "@jupyter-widgets/controls",
            "_view_module_version": "1.5.0",
            "_view_name": "HTMLView",
            "description": "",
            "description_tooltip": null,
            "layout": "IPY_MODEL_8c6eccac806c4f0783f32147e800f2ed",
            "placeholder": "​",
            "style": "IPY_MODEL_68a530ccbe5346808371a821ca4327d4",
            "value": "Generating test examples...:  97%"
          }
        },
        "1fc53baed5ca447380987b79af0a5f0a": {
          "model_module": "@jupyter-widgets/controls",
          "model_name": "FloatProgressModel",
          "model_module_version": "1.5.0",
          "state": {
            "_dom_classes": [],
            "_model_module": "@jupyter-widgets/controls",
            "_model_module_version": "1.5.0",
            "_model_name": "FloatProgressModel",
            "_view_count": null,
            "_view_module": "@jupyter-widgets/controls",
            "_view_module_version": "1.5.0",
            "_view_name": "ProgressView",
            "bar_style": "",
            "description": "",
            "description_tooltip": null,
            "layout": "IPY_MODEL_e921738cd3b44a9fa26d7756334c9382",
            "max": 8580,
            "min": 0,
            "orientation": "horizontal",
            "style": "IPY_MODEL_d420ff3f41cf4b7f8aedc7bd116e09d3",
            "value": 8580
          }
        },
        "9af0fa20edf64b5db86492594902f7e1": {
          "model_module": "@jupyter-widgets/controls",
          "model_name": "HTMLModel",
          "model_module_version": "1.5.0",
          "state": {
            "_dom_classes": [],
            "_model_module": "@jupyter-widgets/controls",
            "_model_module_version": "1.5.0",
            "_model_name": "HTMLModel",
            "_view_count": null,
            "_view_module": "@jupyter-widgets/controls",
            "_view_module_version": "1.5.0",
            "_view_name": "HTMLView",
            "description": "",
            "description_tooltip": null,
            "layout": "IPY_MODEL_20aeb270738e4d69a41682dd3eaecd54",
            "placeholder": "​",
            "style": "IPY_MODEL_a93edf8b21454870a7d43d094c20e881",
            "value": " 8302/8580 [00:11&lt;00:00, 693.30 examples/s]"
          }
        },
        "3bf5104275f14b62b5e7f08a53a73995": {
          "model_module": "@jupyter-widgets/base",
          "model_name": "LayoutModel",
          "model_module_version": "1.2.0",
          "state": {
            "_model_module": "@jupyter-widgets/base",
            "_model_module_version": "1.2.0",
            "_model_name": "LayoutModel",
            "_view_count": null,
            "_view_module": "@jupyter-widgets/base",
            "_view_module_version": "1.2.0",
            "_view_name": "LayoutView",
            "align_content": null,
            "align_items": null,
            "align_self": null,
            "border": null,
            "bottom": null,
            "display": null,
            "flex": null,
            "flex_flow": null,
            "grid_area": null,
            "grid_auto_columns": null,
            "grid_auto_flow": null,
            "grid_auto_rows": null,
            "grid_column": null,
            "grid_gap": null,
            "grid_row": null,
            "grid_template_areas": null,
            "grid_template_columns": null,
            "grid_template_rows": null,
            "height": null,
            "justify_content": null,
            "justify_items": null,
            "left": null,
            "margin": null,
            "max_height": null,
            "max_width": null,
            "min_height": null,
            "min_width": null,
            "object_fit": null,
            "object_position": null,
            "order": null,
            "overflow": null,
            "overflow_x": null,
            "overflow_y": null,
            "padding": null,
            "right": null,
            "top": null,
            "visibility": "hidden",
            "width": null
          }
        },
        "8c6eccac806c4f0783f32147e800f2ed": {
          "model_module": "@jupyter-widgets/base",
          "model_name": "LayoutModel",
          "model_module_version": "1.2.0",
          "state": {
            "_model_module": "@jupyter-widgets/base",
            "_model_module_version": "1.2.0",
            "_model_name": "LayoutModel",
            "_view_count": null,
            "_view_module": "@jupyter-widgets/base",
            "_view_module_version": "1.2.0",
            "_view_name": "LayoutView",
            "align_content": null,
            "align_items": null,
            "align_self": null,
            "border": null,
            "bottom": null,
            "display": null,
            "flex": null,
            "flex_flow": null,
            "grid_area": null,
            "grid_auto_columns": null,
            "grid_auto_flow": null,
            "grid_auto_rows": null,
            "grid_column": null,
            "grid_gap": null,
            "grid_row": null,
            "grid_template_areas": null,
            "grid_template_columns": null,
            "grid_template_rows": null,
            "height": null,
            "justify_content": null,
            "justify_items": null,
            "left": null,
            "margin": null,
            "max_height": null,
            "max_width": null,
            "min_height": null,
            "min_width": null,
            "object_fit": null,
            "object_position": null,
            "order": null,
            "overflow": null,
            "overflow_x": null,
            "overflow_y": null,
            "padding": null,
            "right": null,
            "top": null,
            "visibility": null,
            "width": null
          }
        },
        "68a530ccbe5346808371a821ca4327d4": {
          "model_module": "@jupyter-widgets/controls",
          "model_name": "DescriptionStyleModel",
          "model_module_version": "1.5.0",
          "state": {
            "_model_module": "@jupyter-widgets/controls",
            "_model_module_version": "1.5.0",
            "_model_name": "DescriptionStyleModel",
            "_view_count": null,
            "_view_module": "@jupyter-widgets/base",
            "_view_module_version": "1.2.0",
            "_view_name": "StyleView",
            "description_width": ""
          }
        },
        "e921738cd3b44a9fa26d7756334c9382": {
          "model_module": "@jupyter-widgets/base",
          "model_name": "LayoutModel",
          "model_module_version": "1.2.0",
          "state": {
            "_model_module": "@jupyter-widgets/base",
            "_model_module_version": "1.2.0",
            "_model_name": "LayoutModel",
            "_view_count": null,
            "_view_module": "@jupyter-widgets/base",
            "_view_module_version": "1.2.0",
            "_view_name": "LayoutView",
            "align_content": null,
            "align_items": null,
            "align_self": null,
            "border": null,
            "bottom": null,
            "display": null,
            "flex": null,
            "flex_flow": null,
            "grid_area": null,
            "grid_auto_columns": null,
            "grid_auto_flow": null,
            "grid_auto_rows": null,
            "grid_column": null,
            "grid_gap": null,
            "grid_row": null,
            "grid_template_areas": null,
            "grid_template_columns": null,
            "grid_template_rows": null,
            "height": null,
            "justify_content": null,
            "justify_items": null,
            "left": null,
            "margin": null,
            "max_height": null,
            "max_width": null,
            "min_height": null,
            "min_width": null,
            "object_fit": null,
            "object_position": null,
            "order": null,
            "overflow": null,
            "overflow_x": null,
            "overflow_y": null,
            "padding": null,
            "right": null,
            "top": null,
            "visibility": null,
            "width": null
          }
        },
        "d420ff3f41cf4b7f8aedc7bd116e09d3": {
          "model_module": "@jupyter-widgets/controls",
          "model_name": "ProgressStyleModel",
          "model_module_version": "1.5.0",
          "state": {
            "_model_module": "@jupyter-widgets/controls",
            "_model_module_version": "1.5.0",
            "_model_name": "ProgressStyleModel",
            "_view_count": null,
            "_view_module": "@jupyter-widgets/base",
            "_view_module_version": "1.2.0",
            "_view_name": "StyleView",
            "bar_color": null,
            "description_width": ""
          }
        },
        "20aeb270738e4d69a41682dd3eaecd54": {
          "model_module": "@jupyter-widgets/base",
          "model_name": "LayoutModel",
          "model_module_version": "1.2.0",
          "state": {
            "_model_module": "@jupyter-widgets/base",
            "_model_module_version": "1.2.0",
            "_model_name": "LayoutModel",
            "_view_count": null,
            "_view_module": "@jupyter-widgets/base",
            "_view_module_version": "1.2.0",
            "_view_name": "LayoutView",
            "align_content": null,
            "align_items": null,
            "align_self": null,
            "border": null,
            "bottom": null,
            "display": null,
            "flex": null,
            "flex_flow": null,
            "grid_area": null,
            "grid_auto_columns": null,
            "grid_auto_flow": null,
            "grid_auto_rows": null,
            "grid_column": null,
            "grid_gap": null,
            "grid_row": null,
            "grid_template_areas": null,
            "grid_template_columns": null,
            "grid_template_rows": null,
            "height": null,
            "justify_content": null,
            "justify_items": null,
            "left": null,
            "margin": null,
            "max_height": null,
            "max_width": null,
            "min_height": null,
            "min_width": null,
            "object_fit": null,
            "object_position": null,
            "order": null,
            "overflow": null,
            "overflow_x": null,
            "overflow_y": null,
            "padding": null,
            "right": null,
            "top": null,
            "visibility": null,
            "width": null
          }
        },
        "a93edf8b21454870a7d43d094c20e881": {
          "model_module": "@jupyter-widgets/controls",
          "model_name": "DescriptionStyleModel",
          "model_module_version": "1.5.0",
          "state": {
            "_model_module": "@jupyter-widgets/controls",
            "_model_module_version": "1.5.0",
            "_model_name": "DescriptionStyleModel",
            "_view_count": null,
            "_view_module": "@jupyter-widgets/base",
            "_view_module_version": "1.2.0",
            "_view_name": "StyleView",
            "description_width": ""
          }
        },
        "caf33a3df3714ff58e062c2d2ccba89f": {
          "model_module": "@jupyter-widgets/controls",
          "model_name": "HBoxModel",
          "model_module_version": "1.5.0",
          "state": {
            "_dom_classes": [],
            "_model_module": "@jupyter-widgets/controls",
            "_model_module_version": "1.5.0",
            "_model_name": "HBoxModel",
            "_view_count": null,
            "_view_module": "@jupyter-widgets/controls",
            "_view_module_version": "1.5.0",
            "_view_name": "HBoxView",
            "box_style": "",
            "children": [
              "IPY_MODEL_055aaf8ccd6c4a9c870acef804d8c071",
              "IPY_MODEL_698298627f18446d8a6e335354c0008c",
              "IPY_MODEL_9efb7d49ebc3411d8ab98aa5e30a6494"
            ],
            "layout": "IPY_MODEL_feb5994d054948d5a4441d2fa23997bf"
          }
        },
        "055aaf8ccd6c4a9c870acef804d8c071": {
          "model_module": "@jupyter-widgets/controls",
          "model_name": "HTMLModel",
          "model_module_version": "1.5.0",
          "state": {
            "_dom_classes": [],
            "_model_module": "@jupyter-widgets/controls",
            "_model_module_version": "1.5.0",
            "_model_name": "HTMLModel",
            "_view_count": null,
            "_view_module": "@jupyter-widgets/controls",
            "_view_module_version": "1.5.0",
            "_view_name": "HTMLView",
            "description": "",
            "description_tooltip": null,
            "layout": "IPY_MODEL_3891c85cd5b8466885549c8aad582e77",
            "placeholder": "​",
            "style": "IPY_MODEL_43352324164642bcbf49a9f810253314",
            "value": "Shuffling /root/tensorflow_datasets/stanford_dogs/0.2.0.incomplete5KE13X/stanford_dogs-test.tfrecord*...:  91%"
          }
        },
        "698298627f18446d8a6e335354c0008c": {
          "model_module": "@jupyter-widgets/controls",
          "model_name": "FloatProgressModel",
          "model_module_version": "1.5.0",
          "state": {
            "_dom_classes": [],
            "_model_module": "@jupyter-widgets/controls",
            "_model_module_version": "1.5.0",
            "_model_name": "FloatProgressModel",
            "_view_count": null,
            "_view_module": "@jupyter-widgets/controls",
            "_view_module_version": "1.5.0",
            "_view_name": "ProgressView",
            "bar_style": "",
            "description": "",
            "description_tooltip": null,
            "layout": "IPY_MODEL_0b8890427d0c448ca5ffb2cf517d452b",
            "max": 8580,
            "min": 0,
            "orientation": "horizontal",
            "style": "IPY_MODEL_09184ee49ded4e96b2a72eb2ebc964ee",
            "value": 8580
          }
        },
        "9efb7d49ebc3411d8ab98aa5e30a6494": {
          "model_module": "@jupyter-widgets/controls",
          "model_name": "HTMLModel",
          "model_module_version": "1.5.0",
          "state": {
            "_dom_classes": [],
            "_model_module": "@jupyter-widgets/controls",
            "_model_module_version": "1.5.0",
            "_model_name": "HTMLModel",
            "_view_count": null,
            "_view_module": "@jupyter-widgets/controls",
            "_view_module_version": "1.5.0",
            "_view_name": "HTMLView",
            "description": "",
            "description_tooltip": null,
            "layout": "IPY_MODEL_4886353eeca944d7a76d8b9c96581271",
            "placeholder": "​",
            "style": "IPY_MODEL_e47fd95bc93c41a497448c9062eadd46",
            "value": " 7839/8580 [00:00&lt;00:00, 9837.59 examples/s]"
          }
        },
        "feb5994d054948d5a4441d2fa23997bf": {
          "model_module": "@jupyter-widgets/base",
          "model_name": "LayoutModel",
          "model_module_version": "1.2.0",
          "state": {
            "_model_module": "@jupyter-widgets/base",
            "_model_module_version": "1.2.0",
            "_model_name": "LayoutModel",
            "_view_count": null,
            "_view_module": "@jupyter-widgets/base",
            "_view_module_version": "1.2.0",
            "_view_name": "LayoutView",
            "align_content": null,
            "align_items": null,
            "align_self": null,
            "border": null,
            "bottom": null,
            "display": null,
            "flex": null,
            "flex_flow": null,
            "grid_area": null,
            "grid_auto_columns": null,
            "grid_auto_flow": null,
            "grid_auto_rows": null,
            "grid_column": null,
            "grid_gap": null,
            "grid_row": null,
            "grid_template_areas": null,
            "grid_template_columns": null,
            "grid_template_rows": null,
            "height": null,
            "justify_content": null,
            "justify_items": null,
            "left": null,
            "margin": null,
            "max_height": null,
            "max_width": null,
            "min_height": null,
            "min_width": null,
            "object_fit": null,
            "object_position": null,
            "order": null,
            "overflow": null,
            "overflow_x": null,
            "overflow_y": null,
            "padding": null,
            "right": null,
            "top": null,
            "visibility": "hidden",
            "width": null
          }
        },
        "3891c85cd5b8466885549c8aad582e77": {
          "model_module": "@jupyter-widgets/base",
          "model_name": "LayoutModel",
          "model_module_version": "1.2.0",
          "state": {
            "_model_module": "@jupyter-widgets/base",
            "_model_module_version": "1.2.0",
            "_model_name": "LayoutModel",
            "_view_count": null,
            "_view_module": "@jupyter-widgets/base",
            "_view_module_version": "1.2.0",
            "_view_name": "LayoutView",
            "align_content": null,
            "align_items": null,
            "align_self": null,
            "border": null,
            "bottom": null,
            "display": null,
            "flex": null,
            "flex_flow": null,
            "grid_area": null,
            "grid_auto_columns": null,
            "grid_auto_flow": null,
            "grid_auto_rows": null,
            "grid_column": null,
            "grid_gap": null,
            "grid_row": null,
            "grid_template_areas": null,
            "grid_template_columns": null,
            "grid_template_rows": null,
            "height": null,
            "justify_content": null,
            "justify_items": null,
            "left": null,
            "margin": null,
            "max_height": null,
            "max_width": null,
            "min_height": null,
            "min_width": null,
            "object_fit": null,
            "object_position": null,
            "order": null,
            "overflow": null,
            "overflow_x": null,
            "overflow_y": null,
            "padding": null,
            "right": null,
            "top": null,
            "visibility": null,
            "width": null
          }
        },
        "43352324164642bcbf49a9f810253314": {
          "model_module": "@jupyter-widgets/controls",
          "model_name": "DescriptionStyleModel",
          "model_module_version": "1.5.0",
          "state": {
            "_model_module": "@jupyter-widgets/controls",
            "_model_module_version": "1.5.0",
            "_model_name": "DescriptionStyleModel",
            "_view_count": null,
            "_view_module": "@jupyter-widgets/base",
            "_view_module_version": "1.2.0",
            "_view_name": "StyleView",
            "description_width": ""
          }
        },
        "0b8890427d0c448ca5ffb2cf517d452b": {
          "model_module": "@jupyter-widgets/base",
          "model_name": "LayoutModel",
          "model_module_version": "1.2.0",
          "state": {
            "_model_module": "@jupyter-widgets/base",
            "_model_module_version": "1.2.0",
            "_model_name": "LayoutModel",
            "_view_count": null,
            "_view_module": "@jupyter-widgets/base",
            "_view_module_version": "1.2.0",
            "_view_name": "LayoutView",
            "align_content": null,
            "align_items": null,
            "align_self": null,
            "border": null,
            "bottom": null,
            "display": null,
            "flex": null,
            "flex_flow": null,
            "grid_area": null,
            "grid_auto_columns": null,
            "grid_auto_flow": null,
            "grid_auto_rows": null,
            "grid_column": null,
            "grid_gap": null,
            "grid_row": null,
            "grid_template_areas": null,
            "grid_template_columns": null,
            "grid_template_rows": null,
            "height": null,
            "justify_content": null,
            "justify_items": null,
            "left": null,
            "margin": null,
            "max_height": null,
            "max_width": null,
            "min_height": null,
            "min_width": null,
            "object_fit": null,
            "object_position": null,
            "order": null,
            "overflow": null,
            "overflow_x": null,
            "overflow_y": null,
            "padding": null,
            "right": null,
            "top": null,
            "visibility": null,
            "width": null
          }
        },
        "09184ee49ded4e96b2a72eb2ebc964ee": {
          "model_module": "@jupyter-widgets/controls",
          "model_name": "ProgressStyleModel",
          "model_module_version": "1.5.0",
          "state": {
            "_model_module": "@jupyter-widgets/controls",
            "_model_module_version": "1.5.0",
            "_model_name": "ProgressStyleModel",
            "_view_count": null,
            "_view_module": "@jupyter-widgets/base",
            "_view_module_version": "1.2.0",
            "_view_name": "StyleView",
            "bar_color": null,
            "description_width": ""
          }
        },
        "4886353eeca944d7a76d8b9c96581271": {
          "model_module": "@jupyter-widgets/base",
          "model_name": "LayoutModel",
          "model_module_version": "1.2.0",
          "state": {
            "_model_module": "@jupyter-widgets/base",
            "_model_module_version": "1.2.0",
            "_model_name": "LayoutModel",
            "_view_count": null,
            "_view_module": "@jupyter-widgets/base",
            "_view_module_version": "1.2.0",
            "_view_name": "LayoutView",
            "align_content": null,
            "align_items": null,
            "align_self": null,
            "border": null,
            "bottom": null,
            "display": null,
            "flex": null,
            "flex_flow": null,
            "grid_area": null,
            "grid_auto_columns": null,
            "grid_auto_flow": null,
            "grid_auto_rows": null,
            "grid_column": null,
            "grid_gap": null,
            "grid_row": null,
            "grid_template_areas": null,
            "grid_template_columns": null,
            "grid_template_rows": null,
            "height": null,
            "justify_content": null,
            "justify_items": null,
            "left": null,
            "margin": null,
            "max_height": null,
            "max_width": null,
            "min_height": null,
            "min_width": null,
            "object_fit": null,
            "object_position": null,
            "order": null,
            "overflow": null,
            "overflow_x": null,
            "overflow_y": null,
            "padding": null,
            "right": null,
            "top": null,
            "visibility": null,
            "width": null
          }
        },
        "e47fd95bc93c41a497448c9062eadd46": {
          "model_module": "@jupyter-widgets/controls",
          "model_name": "DescriptionStyleModel",
          "model_module_version": "1.5.0",
          "state": {
            "_model_module": "@jupyter-widgets/controls",
            "_model_module_version": "1.5.0",
            "_model_name": "DescriptionStyleModel",
            "_view_count": null,
            "_view_module": "@jupyter-widgets/base",
            "_view_module_version": "1.2.0",
            "_view_name": "StyleView",
            "description_width": ""
          }
        }
      }
    }
  },
  "nbformat": 4,
  "nbformat_minor": 0
}