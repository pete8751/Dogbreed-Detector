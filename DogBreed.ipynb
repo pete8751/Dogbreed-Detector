{
  "cells": [
    {
      "cell_type": "markdown",
      "metadata": {
        "id": "view-in-github",
        "colab_type": "text"
      },
      "source": [
        "<a href=\"https://colab.research.google.com/github/pete8751/Dogbreed-Detector/blob/main/DogBreed.ipynb\" target=\"_parent\"><img src=\"https://colab.research.google.com/assets/colab-badge.svg\" alt=\"Open In Colab\"/></a>"
      ]
    },
    {
      "cell_type": "markdown",
      "metadata": {
        "id": "6_GFU2qsSNUd"
      },
      "source": [
        "Importing the tensorflow_datasets library."
      ]
    },
    {
      "cell_type": "code",
      "execution_count": 1,
      "metadata": {
        "id": "qsREzHyZSNi9"
      },
      "outputs": [],
      "source": [
        "from tensorflow.keras import layers, models, preprocessing, applications\n",
        "import numpy as np\n",
        "import tensorflow as tf\n",
        "# from keras.src.utils import to_categorical\n",
        "# import tensorflow_datasets as tfds\n",
        "# import matplotlib.pyplot as plt\n",
        "# import cv2"
      ]
    },
    {
      "cell_type": "markdown",
      "metadata": {
        "id": "eRkoSYfySSr1"
      },
      "source": [
        "Loading in the stanford_dogs dataset, and splitting into train and test dataset. Train and Test dataset has images and labels."
      ]
    },
    {
      "cell_type": "code",
      "execution_count": 2,
      "metadata": {
        "colab": {
          "base_uri": "https://localhost:8080/",
          "height": 249,
          "referenced_widgets": [
            "af3a42d897a744d28a6efcdeeb615682",
            "8a4069e06ab04586ab974bbba8152cea",
            "55199e5c5b8644d28b4d559051ffcf78",
            "418c8332f0b345239602aefda7afb31e",
            "71714d7cf6c94d63aec3789458ee09ca",
            "9c082ea04ca84383ada77e31ee4fa335",
            "62171633697444069c68177aeeaf12d4",
            "7e8e9c41a5ed4789984de3f7b3b0d7a4",
            "93a86dc277fa4c0e8567159fa0407c35",
            "f3fe5966b57b4683a7bf8261bdb76962",
            "65e8caf1bae64f3a95c7e4c6cdd87173",
            "3ce4d03f00e04712b891d35e4d7fe05a",
            "9a8222e74e0942b39ae8923596ca5c2e",
            "5a983a52c50d4177ae8216c1241aa69e",
            "51b0808b253c4db39a2f7c5b38d9c6c6",
            "a0f3604b8dba480d8471fbdb40fd35be",
            "7faa185f00c0463b97e0bda07a009331",
            "9edd20c780154e38af9ab4f676fcd755",
            "33f27eaa7049491086ee0ad4d6918cbe",
            "ea31c3ac16d94062a6fae1c825293ff0",
            "d168b099d6b747faa1463ab48e0959fa",
            "a2d24788464d44009f9353313aa3f1de",
            "2411ecbcc3fa4ec18d09474d165b6a22",
            "c6c96f695c46446489ab6a19b09c747a",
            "6fba92880df74cfd83d34c884994c6b7",
            "8f863219ff434b8a851023f33da23716",
            "8e71ed6e6f68497985c128fcb8002953",
            "95272ac580e7408c8bf73f6755c45cf4",
            "c0c56e64b8d24da0afd533e427a53589",
            "090aa56f57fe4d9cae55d851c0251274",
            "a1035e58761d48929a680222f525c8f6",
            "e273c5ebe1f24ecd90683cdfa8ac6aec",
            "4c6d32e0b23e4218b02eca134665a381",
            "3334ec46870648f2acd97fb7ceb2a569",
            "96f752fa2bee43fbaa73643ad752f52a",
            "58eadc0588634fbbb4d78f12f078044e",
            "236582547b2c4d38ab2910932695a46a",
            "71d9f0bc0af944158491351b957672c5",
            "93039a54813f4f8d9bc5e945aba1a229",
            "7e776aab153f4204ad3f8ef876449212",
            "29acc945c8bc49fc9e86fa02fa0a257f",
            "add5feccfd5f40b8be56c5bb0f060a24",
            "bd72f32616654a6da05ec8620a84bab2",
            "e13b8fc4913447beb417e6fcd38f5e79",
            "e5afcd4f3b2a41ae81a1c9d5bd0ce8d2",
            "5e7795b2dc1f41ef8310f8527df6b05a",
            "dd80dc15af8d43b3a85b964dabf70c47",
            "9021b0ac627c468188f26f199c3a9eeb",
            "af2d2271767d47a883a3364cf9927d57",
            "7dce5887c17b4914820b92b568f61b1c",
            "8079e1bcce0040b9ad0abb05489eb1ec",
            "c556ccf39e234948a490935cb0452cb3",
            "d32aae29179a4a2b8f261bf0f4c6f53a",
            "630ed0fd5e78412ebc07819412d5a7e9",
            "6f37b52e6fd64e80811f7953e560c161",
            "11239bdc1b434e3a85e094d72a99bf36",
            "fca8c4a0268e463f872e0abfe9d3305d",
            "6b362715ae52451f90617df39de78935",
            "c46f4c10da81440593fefe8c9e8a2a90",
            "8929be66c3484324b1fc66f9e8601c82",
            "ed66b402fa1b465fa555bc47dd869fae",
            "db3cf0fa9e0546cc95c9d2b7d2ec2d3e",
            "87a63f1b0efb45ee8b7ef09271803e11",
            "74890ab3292f423fb8890d81dbc693a1",
            "1bf2498ecb8d442fb96cc8239d085e6b",
            "6565abe96a7e4cb7bf941535e1e1d430",
            "ab587b200e34460b93687336cf641039",
            "241630b25e134af6b7ea7ed1a08fdaeb",
            "07684427c62040b28765fbd4afb09418",
            "c14d95342c4c4a07b0695735661eca1a",
            "9a43dd9b816d4c5cb38ad491bf26051a",
            "b40cd97ec4f14d73b429395ef5216014",
            "12f0b98a1d9e4bb6adbfaae0164f0c25",
            "aca265aa1ad34eb1b6c0391d7e3ea3f7",
            "a0ecc6dff57344359567a88e4e7d6663",
            "e9d9d04970654e68ba29ba9ba8a82845",
            "c0fc08cae12040c5a5d61912e2868f2b",
            "34d50857771e414398ce37d9b5ec785b",
            "d658693a96234622b017bf4fdfcff0f6",
            "4f612bcc7f6844c3a6f9f5af3b42751d",
            "315fc5aff08e4e5a9976608cc6b82f50",
            "c3bba9a7c75045c080f501babdd1802e",
            "0c137ec518604e02ba0890bfa866f713",
            "45b63fe2f1eb4bc9b286d98aaf46f8bd",
            "c613d9d1c44e45b3b7e4756f0c163036",
            "3ad3a4e145714af2a0ae9c5fd9d4f131",
            "45b1247869fe4fa6968e486660315fd2",
            "f12723ab8ef84db6b2525cf7d1a27b52",
            "5ebc466ea6ac400e905f9305d855c64f",
            "09b964059ae841c2b3655fb7acd53081",
            "08ba2c1142a2455ba10d79128feb3537",
            "e79f841dd4204164b9dd48abdd638238",
            "b384da56fd3046948a519dd57d7f8454",
            "2c25e78cd9124d7da3dbd59e3f1cad6c",
            "3f4f4f4401c94faa83444c14cd71fd3c",
            "a0249f9cc1714aefbdffbebc23edf2cb",
            "5d3d103f7e484119b3bab9587935b1f2",
            "f394dfd56df247f6abd0570a1286bc7e",
            "4d0a75458fa246929b57a98510482042",
            "9ad73a583eb244ea856a9346dadd11e4",
            "df1bd8b950574c2783dee0946b3141e1",
            "3c05c321ebeb484097af395185e07d66",
            "8fb0ffb384d44c7db7ac333b34ac279f",
            "0e3398ec1f294d41bd8ab4c119ddfa45",
            "9d5c3351a19a47c682d3fafc8d3d32ca",
            "fca91bed04974dc7b723ceb82a40b479",
            "59b369ef803148e7b21709cede5b919e",
            "dfec256c12b34ad589dfd9ea1b5042be",
            "d30f80e617364d1ab43b541f57f43cf8",
            "7f4d9e02d8604175843512ec7f986ad8"
          ]
        },
        "id": "3OIxL0w5SQyN",
        "outputId": "19752064-2767-4682-ef15-0d3e0f069f57"
      },
      "outputs": [
        {
          "output_type": "stream",
          "name": "stdout",
          "text": [
            "Downloading and preparing dataset 778.12 MiB (download: 778.12 MiB, generated: Unknown size, total: 778.12 MiB) to /root/tensorflow_datasets/stanford_dogs/0.2.0...\n"
          ]
        },
        {
          "output_type": "display_data",
          "data": {
            "text/plain": [
              "Dl Completed...: 0 url [00:00, ? url/s]"
            ],
            "application/vnd.jupyter.widget-view+json": {
              "version_major": 2,
              "version_minor": 0,
              "model_id": "af3a42d897a744d28a6efcdeeb615682"
            }
          },
          "metadata": {}
        },
        {
          "output_type": "display_data",
          "data": {
            "text/plain": [
              "Dl Size...: 0 MiB [00:00, ? MiB/s]"
            ],
            "application/vnd.jupyter.widget-view+json": {
              "version_major": 2,
              "version_minor": 0,
              "model_id": "3ce4d03f00e04712b891d35e4d7fe05a"
            }
          },
          "metadata": {}
        },
        {
          "output_type": "display_data",
          "data": {
            "text/plain": [
              "Dl Completed...: 0 url [00:00, ? url/s]"
            ],
            "application/vnd.jupyter.widget-view+json": {
              "version_major": 2,
              "version_minor": 0,
              "model_id": "2411ecbcc3fa4ec18d09474d165b6a22"
            }
          },
          "metadata": {}
        },
        {
          "output_type": "display_data",
          "data": {
            "text/plain": [
              "Dl Size...: 0 MiB [00:00, ? MiB/s]"
            ],
            "application/vnd.jupyter.widget-view+json": {
              "version_major": 2,
              "version_minor": 0,
              "model_id": "3334ec46870648f2acd97fb7ceb2a569"
            }
          },
          "metadata": {}
        },
        {
          "output_type": "display_data",
          "data": {
            "text/plain": [
              "Extraction completed...: 0 file [00:00, ? file/s]"
            ],
            "application/vnd.jupyter.widget-view+json": {
              "version_major": 2,
              "version_minor": 0,
              "model_id": "e5afcd4f3b2a41ae81a1c9d5bd0ce8d2"
            }
          },
          "metadata": {}
        },
        {
          "output_type": "display_data",
          "data": {
            "text/plain": [
              "Generating splits...:   0%|          | 0/2 [00:00<?, ? splits/s]"
            ],
            "application/vnd.jupyter.widget-view+json": {
              "version_major": 2,
              "version_minor": 0,
              "model_id": "11239bdc1b434e3a85e094d72a99bf36"
            }
          },
          "metadata": {}
        },
        {
          "output_type": "display_data",
          "data": {
            "text/plain": [
              "Generating train examples...:   0%|          | 0/12000 [00:00<?, ? examples/s]"
            ],
            "application/vnd.jupyter.widget-view+json": {
              "version_major": 2,
              "version_minor": 0,
              "model_id": "ab587b200e34460b93687336cf641039"
            }
          },
          "metadata": {}
        },
        {
          "output_type": "display_data",
          "data": {
            "text/plain": [
              "Shuffling /root/tensorflow_datasets/stanford_dogs/0.2.0.incomplete99T6XS/stanford_dogs-train.tfrecord*...:   0…"
            ],
            "application/vnd.jupyter.widget-view+json": {
              "version_major": 2,
              "version_minor": 0,
              "model_id": "34d50857771e414398ce37d9b5ec785b"
            }
          },
          "metadata": {}
        },
        {
          "output_type": "display_data",
          "data": {
            "text/plain": [
              "Generating test examples...:   0%|          | 0/8580 [00:00<?, ? examples/s]"
            ],
            "application/vnd.jupyter.widget-view+json": {
              "version_major": 2,
              "version_minor": 0,
              "model_id": "5ebc466ea6ac400e905f9305d855c64f"
            }
          },
          "metadata": {}
        },
        {
          "output_type": "display_data",
          "data": {
            "text/plain": [
              "Shuffling /root/tensorflow_datasets/stanford_dogs/0.2.0.incomplete99T6XS/stanford_dogs-test.tfrecord*...:   0%…"
            ],
            "application/vnd.jupyter.widget-view+json": {
              "version_major": 2,
              "version_minor": 0,
              "model_id": "9ad73a583eb244ea856a9346dadd11e4"
            }
          },
          "metadata": {}
        },
        {
          "output_type": "stream",
          "name": "stdout",
          "text": [
            "Dataset stanford_dogs downloaded and prepared to /root/tensorflow_datasets/stanford_dogs/0.2.0. Subsequent calls will reuse this data.\n",
            "<_PrefetchDataset element_spec=(TensorSpec(shape=(None, None, 3), dtype=tf.uint8, name=None), TensorSpec(shape=(), dtype=tf.int64, name=None))>\n"
          ]
        }
      ],
      "source": [
        "dataset, metadata = tfds.load('stanford_dogs', as_supervised=True, with_info=True)\n",
        "train_dataset, test_dataset = dataset['train'], dataset['test']\n",
        "\n",
        "# trainData = list(train_dataset.as_numpy_iterator())\n",
        "# print(trainData)\n",
        "print(test_dataset)"
      ]
    },
    {
      "cell_type": "markdown",
      "metadata": {
        "id": "obokmbRfYyII"
      },
      "source": [
        "Extracting metadata information: class names, number of training and test data."
      ]
    },
    {
      "cell_type": "code",
      "execution_count": 3,
      "metadata": {
        "colab": {
          "base_uri": "https://localhost:8080/"
        },
        "id": "PrbEcsZrYyYX",
        "outputId": "14db4ebc-32ae-4f69-fe17-6143d38d879d"
      },
      "outputs": [
        {
          "output_type": "stream",
          "name": "stdout",
          "text": [
            "12000\n",
            "8580\n",
            "['n02085620-chihuahua', 'n02085782-japanese_spaniel', 'n02085936-maltese_dog', 'n02086079-pekinese', 'n02086240-shih-tzu', 'n02086646-blenheim_spaniel', 'n02086910-papillon', 'n02087046-toy_terrier', 'n02087394-rhodesian_ridgeback', 'n02088094-afghan_hound', 'n02088238-basset', 'n02088364-beagle', 'n02088466-bloodhound', 'n02088632-bluetick', 'n02089078-black-and-tan_coonhound', 'n02089867-walker_hound', 'n02089973-english_foxhound', 'n02090379-redbone', 'n02090622-borzoi', 'n02090721-irish_wolfhound', 'n02091032-italian_greyhound', 'n02091134-whippet', 'n02091244-ibizan_hound', 'n02091467-norwegian_elkhound', 'n02091635-otterhound', 'n02091831-saluki', 'n02092002-scottish_deerhound', 'n02092339-weimaraner', 'n02093256-staffordshire_bullterrier', 'n02093428-american_staffordshire_terrier', 'n02093647-bedlington_terrier', 'n02093754-border_terrier', 'n02093859-kerry_blue_terrier', 'n02093991-irish_terrier', 'n02094114-norfolk_terrier', 'n02094258-norwich_terrier', 'n02094433-yorkshire_terrier', 'n02095314-wire-haired_fox_terrier', 'n02095570-lakeland_terrier', 'n02095889-sealyham_terrier', 'n02096051-airedale', 'n02096177-cairn', 'n02096294-australian_terrier', 'n02096437-dandie_dinmont', 'n02096585-boston_bull', 'n02097047-miniature_schnauzer', 'n02097130-giant_schnauzer', 'n02097209-standard_schnauzer', 'n02097298-scotch_terrier', 'n02097474-tibetan_terrier', 'n02097658-silky_terrier', 'n02098105-soft-coated_wheaten_terrier', 'n02098286-west_highland_white_terrier', 'n02098413-lhasa', 'n02099267-flat-coated_retriever', 'n02099429-curly-coated_retriever', 'n02099601-golden_retriever', 'n02099712-labrador_retriever', 'n02099849-chesapeake_bay_retriever', 'n02100236-german_short-haired_pointer', 'n02100583-vizsla', 'n02100735-english_setter', 'n02100877-irish_setter', 'n02101006-gordon_setter', 'n02101388-brittany_spaniel', 'n02101556-clumber', 'n02102040-english_springer', 'n02102177-welsh_springer_spaniel', 'n02102318-cocker_spaniel', 'n02102480-sussex_spaniel', 'n02102973-irish_water_spaniel', 'n02104029-kuvasz', 'n02104365-schipperke', 'n02105056-groenendael', 'n02105162-malinois', 'n02105251-briard', 'n02105412-kelpie', 'n02105505-komondor', 'n02105641-old_english_sheepdog', 'n02105855-shetland_sheepdog', 'n02106030-collie', 'n02106166-border_collie', 'n02106382-bouvier_des_flandres', 'n02106550-rottweiler', 'n02106662-german_shepherd', 'n02107142-doberman', 'n02107312-miniature_pinscher', 'n02107574-greater_swiss_mountain_dog', 'n02107683-bernese_mountain_dog', 'n02107908-appenzeller', 'n02108000-entlebucher', 'n02108089-boxer', 'n02108422-bull_mastiff', 'n02108551-tibetan_mastiff', 'n02108915-french_bulldog', 'n02109047-great_dane', 'n02109525-saint_bernard', 'n02109961-eskimo_dog', 'n02110063-malamute', 'n02110185-siberian_husky', 'n02110627-affenpinscher', 'n02110806-basenji', 'n02110958-pug', 'n02111129-leonberg', 'n02111277-newfoundland', 'n02111500-great_pyrenees', 'n02111889-samoyed', 'n02112018-pomeranian', 'n02112137-chow', 'n02112350-keeshond', 'n02112706-brabancon_griffon', 'n02113023-pembroke', 'n02113186-cardigan', 'n02113624-toy_poodle', 'n02113712-miniature_poodle', 'n02113799-standard_poodle', 'n02113978-mexican_hairless', 'n02115641-dingo', 'n02115913-dhole', 'n02116738-african_hunting_dog']\n"
          ]
        }
      ],
      "source": [
        "num_train_examples = metadata.splits['train'].num_examples\n",
        "num_test_examples = metadata.splits['test'].num_examples\n",
        "class_names = metadata.features['label'].names\n",
        "\n",
        "np.save('/content/class_names.npy', class_names)\n",
        "\n",
        "# print(training_labels)\n",
        "print(num_train_examples)\n",
        "print(num_test_examples)\n",
        "print(class_names)"
      ]
    },
    {
      "cell_type": "markdown",
      "metadata": {
        "id": "pEFNGX8yv-f8"
      },
      "source": [
        "Extracting data, and putting it into python lists of labels and image data."
      ]
    },
    {
      "cell_type": "code",
      "execution_count": null,
      "metadata": {
        "id": "VU3nLuVbHIls"
      },
      "outputs": [],
      "source": [
        "#Helper function extracting images, and labels, and resizing images, then returning list of labels and images.\n",
        "\n",
        "def extractData(dataset):\n",
        "    image_list = []\n",
        "    label_list = []\n",
        "\n",
        "    for batch_data in dataset.batch(batch_size=1).as_numpy_iterator():\n",
        "        image, label = batch_data\n",
        "        img = cv2.resize(image[0], target_shape, interpolation=cv2.INTER_AREA)\n",
        "        # img2 = applications.xception.preprocess_input(img)\n",
        "        # print(img2.shape)\n",
        "        image_list.append(img)\n",
        "        label_list.append(label[0])\n",
        "\n",
        "    return (image_list, label_list)\n",
        "\n",
        "# Convert the lists to NumPy arrays\n",
        "target_shape = (299, 299)\n",
        "\n",
        "training_images_array, training_labels_array = extractData(train_dataset)\n",
        "testing_images_array, testing_labels_array = extractData(test_dataset)"
      ]
    },
    {
      "cell_type": "markdown",
      "metadata": {
        "id": "qHBqWkrCZxi-"
      },
      "source": [
        "Splitting into training, validation, and testing data and labels."
      ]
    },
    {
      "cell_type": "code",
      "execution_count": 5,
      "metadata": {
        "id": "OR9LLBRwZxyk"
      },
      "outputs": [],
      "source": [
        "#I wanted to add an extra 1000 images for training, so I removed these from validation, and added them to training.\n",
        "#I give 4000 images for validation, and around 3500 images for testing.\n",
        "\n",
        "extra_training, extra_training_labels = testing_images_array[:1000], testing_labels_array[:1000]\n",
        "training_images_array = training_images_array + extra_training\n",
        "training_labels_array = training_labels_array + extra_training_labels\n",
        "\n",
        "validation_images_array, validation_labels_array = testing_images_array[1000:5000], testing_labels_array[1000:5000]\n",
        "testing_images_array, testing_labels_array = testing_images_array[5000:], testing_labels_array[5000:]"
      ]
    },
    {
      "cell_type": "markdown",
      "metadata": {
        "id": "G1ULzVJLLBtB"
      },
      "source": [
        "Saving Raw Data for easier access."
      ]
    },
    {
      "cell_type": "code",
      "execution_count": 10,
      "metadata": {
        "id": "FrvTV6P1LB1i"
      },
      "outputs": [],
      "source": [
        "# training_images_array, validation_images_array = np.array(training_images_array), np.array(validation_images_array)\n",
        "# print(training_images_array.shape)\n",
        "# print(validation_images_array.shape)\n",
        "# training_images_array, validation_images_array = 0, 0\n",
        "testing_images_array = np.array(testing_images_array)\n",
        "\n",
        "# np.save('/content/raw_training.npy', training_images_array)\n",
        "# np.save('/content/raw_validation.npy', validation_images_array)\n",
        "np.save('/content/raw_testing.npy', testing_images_array)"
      ]
    },
    {
      "cell_type": "markdown",
      "metadata": {
        "id": "e8whUVUPgH32"
      },
      "source": [
        "Saving Labels Data for easier access."
      ]
    },
    {
      "cell_type": "code",
      "execution_count": 7,
      "metadata": {
        "id": "74sxlWIKgH_d"
      },
      "outputs": [],
      "source": [
        "training_labels_array, validation_labels_array, testing_labels_array = np.array(training_labels_array), np.array(validation_labels_array), np.array(testing_labels_array)\n",
        "\n",
        "np.save('/content/training_labels.npy', training_labels_array)\n",
        "np.save('/content/validation_labels.npy', validation_labels_array)\n",
        "np.save('/content/testing_labels.npy', testing_labels_array)"
      ]
    },
    {
      "cell_type": "markdown",
      "metadata": {
        "id": "V2sqJAcPMF_L"
      },
      "source": [
        "Raw Data and Labels Retrieval"
      ]
    },
    {
      "cell_type": "code",
      "execution_count": 2,
      "metadata": {
        "id": "H6t7u26MMGIh"
      },
      "outputs": [],
      "source": [
        "# training_images_array = np.load('/content/raw_training.npy')\n",
        "# validation_images_array = np.load('/content/raw_validation.npy')\n",
        "# testing_images_array = np.load('/content/raw_testing.npy')\n",
        "\n",
        "training_labels = np.load('/content/training_labels.npy')\n",
        "validation_labels = np.load('/content/validation_labels.npy')\n",
        "# testing_labels = np.load('/content/testing_labels.npy')"
      ]
    },
    {
      "cell_type": "markdown",
      "metadata": {
        "id": "WuOQ4EoMUEF7"
      },
      "source": [
        "Storing validation and training data for generators."
      ]
    },
    {
      "cell_type": "code",
      "execution_count": 9,
      "metadata": {
        "id": "-6sZ6cWFUDYy"
      },
      "outputs": [],
      "source": [
        "i = 0\n",
        "for img in training_images_array:\n",
        "  padded_number = f'{i:05}'\n",
        "  np.save(f'/content/training_data/{padded_number}', img)\n",
        "  i += 1\n",
        "\n",
        "i = 0\n",
        "for img in validation_images_array:\n",
        "  padded_number = f'{i:04}'\n",
        "  np.save(f'/content/validation_data/{padded_number}', img)\n",
        "  i += 1\n"
      ]
    },
    {
      "cell_type": "markdown",
      "metadata": {
        "id": "rrPMVIG1Fv-v"
      },
      "source": [
        "Code to preprocess Data, and store them back in the directories."
      ]
    },
    {
      "cell_type": "code",
      "execution_count": 12,
      "metadata": {
        "id": "csSJGaymFwK3",
        "colab": {
          "base_uri": "https://localhost:8080/"
        },
        "outputId": "ba540912-68bd-4aa7-c6ab-19c56b248b41"
      },
      "outputs": [
        {
          "output_type": "stream",
          "name": "stdout",
          "text": [
            "/physical_device:CPU:0\n",
            "/physical_device:GPU:0\n"
          ]
        }
      ],
      "source": [
        "# for i in range(0, len(training_labels)):\n",
        "#   padded_number = padded_number = f'{i:05}'\n",
        "#   npimg = np.load(f'/content/training_data/{padded_number}.npy')\n",
        "#   processed = applications.inception_v3.preprocess_input(npimg)\n",
        "#   np.save(f'/content/training_data/{padded_number}', processed)\n",
        "\n",
        "# for i in range(0, len(validation_labels)):\n",
        "#   padded_number = padded_number = f'{i:04}'\n",
        "#   npimg = np.load(f'/content/validation_data/{padded_number}.npy')\n",
        "#   processed = applications.inception_v3.preprocess_input(npimg)\n",
        "#   np.save(f'/content/validation_data/{padded_number}', processed)\n",
        "# import os\n",
        "# os.system('rm -rf /content/training_data/*')\n",
        "# os.system('rm -rf /content/validation_data/*')\n",
        "devices = tf.config.experimental.list_physical_devices()\n",
        "for device in devices:\n",
        "  print(device.name)"
      ]
    },
    {
      "cell_type": "markdown",
      "metadata": {
        "id": "WzSiD_XhQAKn"
      },
      "source": [
        "Function to process data in batches and return result (conserves ram)."
      ]
    },
    {
      "cell_type": "code",
      "execution_count": null,
      "metadata": {
        "id": "ysSwThmPQAS2"
      },
      "outputs": [],
      "source": [
        "# def batch_processer(image_array, batch_size):\n",
        "#   num_batches = (len(image_array) + batch_size - 1) // batch_size\n",
        "#   final_preprocessed_data = np.empty((0, 299, 299, 3))\n",
        "\n",
        "#   for i in range(num_batches):\n",
        "#     startind = i * batch_size\n",
        "#     endind = min((i + 1) * batch_size, len(image_array))\n",
        "#     batch_images = image_array[startind:endind]\n",
        "\n",
        "#     preprocessed_batch = applications.xception.preprocess_input(batch_images)\n",
        "\n",
        "#     final_preprocessed_data = np.concatenate((final_preprocessed_data, preprocessed_batch), axis=0)\n",
        "\n",
        "#   return final_preprocessed_data"
      ]
    },
    {
      "cell_type": "markdown",
      "metadata": {
        "id": "J3MPLDR5tU-j"
      },
      "source": [
        "Processing Data, and saving the processed data,"
      ]
    },
    {
      "cell_type": "code",
      "execution_count": null,
      "metadata": {
        "id": "nirm7AcCtVLD"
      },
      "outputs": [],
      "source": [
        "with tf.device('/gpu:0'):\n",
        "  def batch_processer(image_array, batch_size):\n",
        "    num_batches = (len(image_array) + batch_size - 1) // batch_size\n",
        "    final_preprocessed_data = []\n",
        "\n",
        "    for i in range(num_batches):\n",
        "      startind = i * batch_size\n",
        "      endind = min((i + 1) * batch_size, len(image_array))\n",
        "      batch_images = image_array[startind:endind]\n",
        "\n",
        "      preprocessed_batch = applications.xception.preprocess_input(batch_images)\n",
        "\n",
        "      final_preprocessed_data.append(preprocessed_batch)\n",
        "\n",
        "    return final_preprocessed_data\n",
        "\n",
        "  processed_training_images = batch_processer(training_images_array, 32)\n",
        "  processed_validation_images = batch_processer(validation_images_array, 32)\n",
        "\n",
        "  np.save('/content/processed_training.npy', processed_training_images)\n",
        "  np.save('/content/processed_testing.npy', processed_validation_images)"
      ]
    },
    {
      "cell_type": "markdown",
      "metadata": {
        "id": "j6X3CUnnBrXE"
      },
      "source": [
        "Converting to nparrays. Finding Mean and Standard Deviation, and then normalizing training and testing image arrays."
      ]
    },
    {
      "cell_type": "code",
      "execution_count": null,
      "metadata": {
        "id": "qF7Yt4MWBrlH"
      },
      "outputs": [],
      "source": [
        "# training_images_array, testing_images_array = np.array(training_images_array), np.array(testing_images_array)\n",
        "\n",
        "# Calculating means and standard deviations for each feature.\n",
        "train_mean, train_std = np.mean(training_images_array), np.std(training_images_array)\n",
        "test_mean, test_std = np.mean(testing_images_array), np.std(testing_images_array)\n",
        "\n",
        "# Normalizing. I add epsilon incase std is exactly 0.\n",
        "epsilon = 0.0001\n",
        "training_norm_data = (training_images_array - train_mean) / (train_std + epsilon)\n",
        "testing_norm_data = (testing_images_array - test_mean) / (test_std + epsilon)"
      ]
    },
    {
      "cell_type": "markdown",
      "metadata": {
        "id": "K_XJaQnRKMj9"
      },
      "source": [
        "Saving processed data for quicker access later."
      ]
    },
    {
      "cell_type": "code",
      "execution_count": null,
      "metadata": {
        "id": "l2NSMaRFKM0j"
      },
      "outputs": [],
      "source": [
        "# np.save('/content/train_dataset.npy', training_norm_data)\n",
        "np.save('/content/train_labels.npy', training_labels_array)\n",
        "# np.save('/content/testing_dataset.npy', testing_norm_data)\n",
        "np.save('/content/testing_labels.npy', testing_labels_array)"
      ]
    },
    {
      "cell_type": "markdown",
      "metadata": {
        "id": "IgXn59vAR7SE"
      },
      "source": [
        "Retrieving Personally processed Data."
      ]
    },
    {
      "cell_type": "code",
      "execution_count": null,
      "metadata": {
        "id": "ZiMtGS6iR7ZW"
      },
      "outputs": [],
      "source": [
        "# print(training_norm_data[0])\n",
        "# print(training_norm_data.shape)\n",
        "\n",
        "# training_norm_data = np.load('/content/train_dataset.npy')\n",
        "# training_labels_array = np.load('/content/train_labels.npy')\n",
        "# testing_norm_data = np.load('/content/testing_dataset.npy')\n",
        "# testing_labels_array = np.load('/content/testing_labels.npy')\n",
        "# class_names = np.load('/content/class_names.npy')\n",
        "# print(training_norm_data[0])\n",
        "# print(training_norm_data.shape)"
      ]
    },
    {
      "cell_type": "markdown",
      "metadata": {
        "id": "rrIS1a-rQcoM"
      },
      "source": [
        "Retrieving data preprocessed for pre-trained model."
      ]
    },
    {
      "cell_type": "code",
      "execution_count": null,
      "metadata": {
        "id": "12MvJNvhQcwe"
      },
      "outputs": [],
      "source": [
        "# training_norm_data = np.load('/content/processed_training.npy')\n",
        "training_norm_data = training_images_array\n",
        "training_labels_array = np.load('/content/train_labels.npy')\n",
        "# testing_norm_data = np.load('/content/processed_testing.npy')\n",
        "testing_norm_data = testing_images_array\n",
        "testing_labels_array = np.load('/content/testing_labels.npy')\n",
        "class_names = np.load('/content/class_names.npy')"
      ]
    },
    {
      "cell_type": "markdown",
      "metadata": {
        "id": "rG0dzav8KIFu"
      },
      "source": [
        "Splitting Testing images and labels into validation and test set. Converting labels lists into numpy arrays."
      ]
    },
    {
      "cell_type": "code",
      "execution_count": null,
      "metadata": {
        "colab": {
          "base_uri": "https://localhost:8080/"
        },
        "id": "pWX_B7KAPmIT",
        "outputId": "b4f13580-97bd-4920-e83b-80c830d8b030"
      },
      "outputs": [
        {
          "name": "stdout",
          "output_type": "stream",
          "text": [
            "(15000,)\n"
          ]
        }
      ],
      "source": [
        "# # training_labels_array, testing_labels_array = np.array(training_labels_array), np.array(testing_labels_array)\n",
        "# print(training_norm_data.shape)\n",
        "# print(testing_norm_data.shape)\n",
        "# extra_training, extra_training_labels = testing_norm_data[:3000], testing_labels_array[:3000]\n",
        "# print(extra_training.shape, extra_training_labels.shape)\n",
        "# # test = np.concatenate((training_images_array, extra_training), axis=0)\n",
        "# # print(test.shape)\n",
        "# valarray, valabels = testing_norm_data[7000:], testing_labels_array[7000:]\n",
        "# test2 = print(valarray.shape, valabels.shape)\n",
        "print(training_labels_array.shape)"
      ]
    },
    {
      "cell_type": "markdown",
      "metadata": {
        "id": "8Bp2BoHvPmTj"
      },
      "source": [
        "Redistributing training/testing data, and converting arrays to nparrays."
      ]
    },
    {
      "cell_type": "code",
      "execution_count": null,
      "metadata": {
        "id": "YZZFnIz2LIiS"
      },
      "outputs": [],
      "source": [
        "# training_labels_array, testing_labels_array = np.array(training_labels_array), np.array(testing_labels_array)\n",
        "\n",
        "# #I wanted to add an extra 3000 images for training, so I removed these from validation, and added them to training.\n",
        "# #I give 3000 images for validation, and around 1500 images for testing.\n",
        "\n",
        "# extra_training, extra_training_labels = testing_norm_data[:3000], testing_labels_array[:3000]\n",
        "# training_norm_data = np.concatenate((training_norm_data, extra_training), axis=0)\n",
        "# training_labels_array = np.concatenate((training_labels_array, extra_training_labels), axis=0)\n",
        "\n",
        "# print(training_norm_data.shape)\n",
        "# validation_images_array, validation_labels_array = testing_norm_data[3000:7000], testing_labels_array[3000:7000]\n",
        "# testing_norm_data, testing_labels_array = testing_norm_data[7000:], testing_labels_array[7000:]"
      ]
    },
    {
      "cell_type": "markdown",
      "metadata": {
        "id": "Kn70Rwv2LI0N"
      },
      "source": [
        "Displaying some test images with labels."
      ]
    },
    {
      "cell_type": "code",
      "execution_count": null,
      "metadata": {
        "colab": {
          "base_uri": "https://localhost:8080/",
          "height": 246
        },
        "id": "KAyBePLTKIP6",
        "outputId": "48b17fa4-6a9a-4907-ebd8-ba8089bc16a6"
      },
      "outputs": [
        {
          "ename": "AttributeError",
          "evalue": "'list' object has no attribute 'shape'",
          "output_type": "error",
          "traceback": [
            "\u001b[0;31m---------------------------------------------------------------------------\u001b[0m",
            "\u001b[0;31mAttributeError\u001b[0m                            Traceback (most recent call last)",
            "\u001b[0;32m<ipython-input-14-930638d6d334>\u001b[0m in \u001b[0;36m<cell line: 9>\u001b[0;34m()\u001b[0m\n\u001b[1;32m      7\u001b[0m \u001b[0;31m# print(image.shape)\u001b[0m\u001b[0;34m\u001b[0m\u001b[0;34m\u001b[0m\u001b[0m\n\u001b[1;32m      8\u001b[0m \u001b[0;34m\u001b[0m\u001b[0m\n\u001b[0;32m----> 9\u001b[0;31m \u001b[0mprint\u001b[0m\u001b[0;34m(\u001b[0m\u001b[0mvalidation_images_array\u001b[0m\u001b[0;34m.\u001b[0m\u001b[0mshape\u001b[0m\u001b[0;34m)\u001b[0m\u001b[0;34m\u001b[0m\u001b[0;34m\u001b[0m\u001b[0m\n\u001b[0m\u001b[1;32m     10\u001b[0m \u001b[0;34m\u001b[0m\u001b[0m\n\u001b[1;32m     11\u001b[0m \u001b[0mimage_test\u001b[0m \u001b[0;34m=\u001b[0m \u001b[0mtesting_norm_data\u001b[0m\u001b[0;34m[\u001b[0m\u001b[0;36m0\u001b[0m\u001b[0;34m]\u001b[0m\u001b[0;34m\u001b[0m\u001b[0;34m\u001b[0m\u001b[0m\n",
            "\u001b[0;31mAttributeError\u001b[0m: 'list' object has no attribute 'shape'"
          ]
        }
      ],
      "source": [
        "def display_image(image_array):\n",
        "    plt.imshow(image_array)\n",
        "    plt.axis('off')\n",
        "    plt.show()\n",
        "\n",
        "image = validation_images_array[0]\n",
        "# print(image.shape)\n",
        "\n",
        "print(validation_images_array.shape)\n",
        "\n",
        "image_test = testing_norm_data[0]\n",
        "\n",
        "# Comparing Training images and label list.\n",
        "display_image(image)\n",
        "print(class_names[validation_labels_array[0]])\n",
        "\n",
        "#Comparing testing images and label list\n",
        "display_image(image_test)\n",
        "print(class_names[testing_labels_array[0]])"
      ]
    },
    {
      "cell_type": "markdown",
      "metadata": {
        "id": "RczhpPvXNJvr"
      },
      "source": [
        "Training the Model."
      ]
    },
    {
      "cell_type": "code",
      "execution_count": null,
      "metadata": {
        "id": "CGKzzf_ONJ-z"
      },
      "outputs": [],
      "source": [
        "model = models.Sequential()\n",
        "model.add(layers.Conv2D(32, (3, 3), activation='relu', input_shape=(100, 100, 3)))\n",
        "model.add(layers.MaxPooling2D(2, 2))\n",
        "model.add(layers.Conv2D(64, (3, 3), activation='relu'))\n",
        "model.add(layers.MaxPooling2D(2, 2))\n",
        "model.add(layers.Conv2D(128, (3, 3), activation='relu'))\n",
        "model.add(layers.Flatten())\n",
        "model.add(layers.Dense(128, activation='relu'))\n",
        "model.add(layers.Dense(120, activation='softmax'))"
      ]
    },
    {
      "cell_type": "markdown",
      "metadata": {
        "id": "4rpbh8b13SL4"
      },
      "source": [
        "Model Fitting and Compiling"
      ]
    },
    {
      "cell_type": "code",
      "execution_count": null,
      "metadata": {
        "id": "a-i5kpBg3SU9"
      },
      "outputs": [],
      "source": [
        "model.compile(optimizer='adam', loss='sparse_categorical_crossentropy', metrics=['accuracy'])\n",
        "model.fit(training_norm_data, training_labels_array, epochs=10, validation_data=(validation_images_array, validation_labels_array))"
      ]
    },
    {
      "cell_type": "markdown",
      "metadata": {
        "id": "MsqA-O_Ohg4c"
      },
      "source": [
        "Implementing the generator method to reduce overfitting."
      ]
    },
    {
      "cell_type": "code",
      "execution_count": null,
      "metadata": {
        "id": "gTxvOGR9hhDz"
      },
      "outputs": [],
      "source": [
        "# Creating the train_generator\n",
        "train_datagen = preprocessing.image.ImageDataGenerator(\n",
        "        # rescale=1./255,\n",
        "        rotation_range=20,\n",
        "        shear_range=0.2,\n",
        "        zoom_range=0.2,\n",
        "        horizontal_flip=True,)\n",
        "\n",
        "# Creating the validation_generator\n",
        "validation_datagen = preprocessing.image.ImageDataGenerator(\n",
        "        # rescale=1./255,\n",
        "        shear_range=0.2,\n",
        "        zoom_range=0.2,\n",
        "        horizontal_flip=True,)\n",
        "with tf.device('/gpu:0'):\n",
        "  train_generator = train_datagen.flow(training_images_array, training_labels, batch_size=32, shuffle=True)\n",
        "  validation_generator = validation_datagen.flow(validation_images_array, validation_labels, batch_size = 32, shuffle=True)"
      ]
    },
    {
      "cell_type": "markdown",
      "metadata": {
        "id": "pPYW40itizcX"
      },
      "source": [
        "Generator from directory."
      ]
    },
    {
      "cell_type": "code",
      "execution_count": 3,
      "metadata": {
        "id": "2TibPUTpizkC"
      },
      "outputs": [],
      "source": [
        "def custom_data_generator(file_paths, labels, batch_size=32, shuffle=False, drop_remainder=False):\n",
        "\n",
        "    num_samples = len(file_paths)\n",
        "    steps_per_epoch = (num_samples + batch_size - 1) // batch_size\n",
        "\n",
        "    while True:\n",
        "        for i in range(steps_per_epoch):\n",
        "            start_idx = i * batch_size\n",
        "            end_idx = min((i + 1) * batch_size, num_samples)\n",
        "            batch_file_paths = file_paths[start_idx:end_idx]\n",
        "            batch_labels = labels[start_idx:end_idx]\n",
        "\n",
        "            batch_images = [process_file_path(file_path) for file_path in batch_file_paths]\n",
        "            yield np.array(batch_images), batch_labels\n",
        "\n",
        "def process_file_path(file_path):\n",
        "  npimg = np.load(f'{file_path}')\n",
        "  # return npimg\n",
        "  return applications.inception_v3.preprocess_input(npimg)\n",
        "  # return applications.ception.preprocess_input(npimg)\n",
        "\n",
        "\n",
        "# Example: Using the custom generator\n",
        "# file_paths_training = [f'/content/training_data/{i:05}.npy' for i in range(0, 15000)]\n",
        "# labels_array = training_labels_array\n",
        "\n",
        "# generator = custom_data_generator(file_paths_training, labels_array)"
      ]
    },
    {
      "cell_type": "markdown",
      "metadata": {
        "id": "Zy3jLUfMsvUu"
      },
      "source": [
        "Making validation, and training generators from the above generator."
      ]
    },
    {
      "cell_type": "code",
      "execution_count": 4,
      "metadata": {
        "id": "KPDqzDslsvb3",
        "colab": {
          "base_uri": "https://localhost:8080/"
        },
        "outputId": "d417914c-dcff-4c8b-d03b-1ce7838404b2"
      },
      "outputs": [
        {
          "output_type": "stream",
          "name": "stdout",
          "text": [
            "13000\n"
          ]
        }
      ],
      "source": [
        "file_paths_training = [f'/content/training_data/{i:05}.npy' for i in range(0, len(training_labels))]\n",
        "print(len(file_paths_training))\n",
        "file_paths_validation = [f'/content/validation_data/{i:04}.npy' for i in range(0, len(validation_labels))]\n",
        "\n",
        "training_generator = custom_data_generator(file_paths_training, training_labels)\n",
        "validation_generator = custom_data_generator(file_paths_validation, validation_labels)\n",
        "# training_images_array = 0\n",
        "# validation_images_array = 0\n",
        "# testing_images_array = 0\n",
        "\n",
        "# for _ in range(5):  # Replace 5 with the desired number of steps\n",
        "#     images, labels = next(validation_generator)\n",
        "#     print(images.shape)\n",
        "#     print(labels.shape)\n",
        "#     # Now 'images' and 'labels' contain the data for the current batch"
      ]
    },
    {
      "cell_type": "markdown",
      "metadata": {
        "id": "6Eqy2QXfozpE"
      },
      "source": [
        "Building the new Model."
      ]
    },
    {
      "cell_type": "code",
      "execution_count": null,
      "metadata": {
        "id": "C8iU1741ozxs"
      },
      "outputs": [],
      "source": [
        "model = models.Sequential()\n",
        "model.add(layers.Conv2D(32, (3, 3), input_shape=(100, 100, 3)))\n",
        "model.add(layers.Activation('relu'))\n",
        "model.add(layers.MaxPooling2D(pool_size=(2, 2)))\n",
        "\n",
        "model.add(layers.Conv2D(64, (3, 3)))\n",
        "model.add(layers.Activation('relu'))\n",
        "model.add(layers.MaxPooling2D(pool_size=(2, 2)))\n",
        "\n",
        "model.add(layers.Conv2D(64, (3, 3)))\n",
        "model.add(layers.Activation('relu'))\n",
        "model.add(layers.MaxPooling2D(pool_size=(2, 2)))\n",
        "\n",
        "model.add(layers.Flatten())  # this converts our 3D feature maps to 1D feature vectors\n",
        "model.add(layers.Dense(64))\n",
        "model.add(layers.Activation('relu'))\n",
        "model.add(layers.Dropout(0.5))\n",
        "model.add(layers.Dense(120))\n",
        "model.add(layers.Activation('sigmoid'))"
      ]
    },
    {
      "cell_type": "markdown",
      "source": [
        "Setting up a checkpoint"
      ],
      "metadata": {
        "id": "mMbsMeFXI6XZ"
      }
    },
    {
      "cell_type": "code",
      "source": [
        "from tensorflow.keras.callbacks import ModelCheckpoint\n",
        "checkpoint_path = '/content/dogbreed_best_model_light'\n",
        "\n",
        "checkpoint = ModelCheckpoint(checkpoint_path,\n",
        "                             monitor='val_loss',  # or 'val_accuracy' for accuracy\n",
        "                             save_best_only=True,\n",
        "                             mode='min',  # or 'max' for accuracy\n",
        "                             verbose=1)"
      ],
      "metadata": {
        "id": "T3kQxCQQI6h0"
      },
      "execution_count": 7,
      "outputs": []
    },
    {
      "cell_type": "markdown",
      "metadata": {
        "id": "PwLMoqMao_6k"
      },
      "source": [
        "Compiling and Running the Model."
      ]
    },
    {
      "cell_type": "code",
      "execution_count": 10,
      "metadata": {
        "colab": {
          "base_uri": "https://localhost:8080/"
        },
        "id": "_2xLsThmpABs",
        "outputId": "e179d030-9d05-4882-c9af-742e323e6338"
      },
      "outputs": [
        {
          "output_type": "stream",
          "name": "stdout",
          "text": [
            "Epoch 1/10\n",
            "407/407 [==============================] - ETA: 0s - loss: 1.0534 - accuracy: 0.7577\n",
            "Epoch 1: val_loss improved from 6.78150 to 0.45015, saving model to /content/dogbreed_best_model_light\n",
            "407/407 [==============================] - 163s 382ms/step - loss: 1.0534 - accuracy: 0.7577 - val_loss: 0.4502 - val_accuracy: 0.8575\n",
            "Epoch 2/10\n",
            "407/407 [==============================] - ETA: 0s - loss: 0.2945 - accuracy: 0.9146\n",
            "Epoch 2: val_loss did not improve from 0.45015\n",
            "407/407 [==============================] - 147s 360ms/step - loss: 0.2945 - accuracy: 0.9146 - val_loss: 0.4526 - val_accuracy: 0.8640\n",
            "Epoch 3/10\n",
            "407/407 [==============================] - ETA: 0s - loss: 0.1573 - accuracy: 0.9559\n",
            "Epoch 3: val_loss improved from 0.45015 to 0.43348, saving model to /content/dogbreed_best_model_light\n",
            "407/407 [==============================] - 165s 405ms/step - loss: 0.1573 - accuracy: 0.9559 - val_loss: 0.4335 - val_accuracy: 0.8777\n",
            "Epoch 4/10\n",
            "407/407 [==============================] - ETA: 0s - loss: 0.0837 - accuracy: 0.9786\n",
            "Epoch 4: val_loss did not improve from 0.43348\n",
            "407/407 [==============================] - 146s 360ms/step - loss: 0.0837 - accuracy: 0.9786 - val_loss: 0.4574 - val_accuracy: 0.8765\n",
            "Epoch 5/10\n",
            "407/407 [==============================] - ETA: 0s - loss: 0.0739 - accuracy: 0.9795\n",
            "Epoch 5: val_loss did not improve from 0.43348\n",
            "407/407 [==============================] - 137s 336ms/step - loss: 0.0739 - accuracy: 0.9795 - val_loss: 0.5288 - val_accuracy: 0.8725\n",
            "Epoch 6/10\n",
            "407/407 [==============================] - ETA: 0s - loss: 0.0667 - accuracy: 0.9807\n",
            "Epoch 6: val_loss did not improve from 0.43348\n",
            "407/407 [==============================] - 147s 361ms/step - loss: 0.0667 - accuracy: 0.9807 - val_loss: 0.5327 - val_accuracy: 0.8690\n",
            "Epoch 7/10\n",
            "407/407 [==============================] - ETA: 0s - loss: 0.0767 - accuracy: 0.9778\n",
            "Epoch 7: val_loss did not improve from 0.43348\n",
            "407/407 [==============================] - 136s 335ms/step - loss: 0.0767 - accuracy: 0.9778 - val_loss: 0.5738 - val_accuracy: 0.8662\n",
            "Epoch 8/10\n",
            "407/407 [==============================] - ETA: 0s - loss: 0.0776 - accuracy: 0.9772\n",
            "Epoch 8: val_loss did not improve from 0.43348\n",
            "407/407 [==============================] - 147s 360ms/step - loss: 0.0776 - accuracy: 0.9772 - val_loss: 0.6258 - val_accuracy: 0.8633\n",
            "Epoch 9/10\n",
            "407/407 [==============================] - ETA: 0s - loss: 0.0657 - accuracy: 0.9795\n",
            "Epoch 9: val_loss did not improve from 0.43348\n",
            "407/407 [==============================] - 136s 335ms/step - loss: 0.0657 - accuracy: 0.9795 - val_loss: 0.6447 - val_accuracy: 0.8705\n",
            "Epoch 10/10\n",
            "407/407 [==============================] - ETA: 0s - loss: 0.0586 - accuracy: 0.9825\n",
            "Epoch 10: val_loss did not improve from 0.43348\n",
            "407/407 [==============================] - 147s 361ms/step - loss: 0.0586 - accuracy: 0.9825 - val_loss: 0.6302 - val_accuracy: 0.8700\n"
          ]
        }
      ],
      "source": [
        "import pickle\n",
        "\n",
        "# Assuming 'history' is the result of model.fit\n",
        "history_path = \"training_history.pkl\"\n",
        "\n",
        "model.compile(optimizer='adam', loss='sparse_categorical_crossentropy', metrics=['accuracy'])\n",
        "# print(validation_images_array.shape)\n",
        "# print(validation_labels_array.shape)\n",
        "#now we can fit the model\n",
        "with tf.device('/gpu:0'):\n",
        "  history = model.fit(training_generator, epochs=10, steps_per_epoch = 407, validation_data=validation_generator, validation_steps = 125, callbacks=[checkpoint])\n",
        "\n",
        "# Save history to file\n",
        "with open('/content/history', 'wb') as file:\n",
        "    pickle.dump(history.history, file)"
      ]
    },
    {
      "cell_type": "markdown",
      "metadata": {
        "id": "MvFSXRk0Ys3E"
      },
      "source": [
        "Building the Xception Model."
      ]
    },
    {
      "cell_type": "code",
      "execution_count": 9,
      "metadata": {
        "id": "iDtuVK3lYtFT"
      },
      "outputs": [],
      "source": [
        "base_model = applications.Xception(\n",
        "    input_shape=(299, 299, 3),\n",
        "    include_top=False,\n",
        "    weights=\"imagenet\",\n",
        "    pooling=None,  # Global average pooling for flattening\n",
        ")\n",
        "\n",
        "model = models.Sequential()\n",
        "model.add(base_model)\n",
        "model.layers[0].trainable = False\n",
        "# model.add(layers.Flatten())\n",
        "# model.add(layers.Dense(120, activation='softmax'))\n",
        "model.add(layers.Flatten())\n",
        "model.add(layers.Dense(256, activation='relu'))\n",
        "model.add(layers.BatchNormalization())\n",
        "model.add(layers.Dense(256, activation='relu'))\n",
        "model.add(layers.Dropout(0.3))\n",
        "model.add(layers.BatchNormalization())\n",
        "model.add(layers.Dense(120, activation='softmax'))"
      ]
    },
    {
      "cell_type": "markdown",
      "metadata": {
        "id": "4h03oFICgUgH"
      },
      "source": [
        "Building the Inception Model."
      ]
    },
    {
      "cell_type": "code",
      "execution_count": 5,
      "metadata": {
        "id": "qDDekXNNgUmx"
      },
      "outputs": [],
      "source": [
        "base_model = applications.InceptionV3(\n",
        "    input_shape=(299, 299, 3),\n",
        "    include_top=False,\n",
        "    weights=\"imagenet\",\n",
        "    pooling=None,\n",
        ")\n",
        "\n",
        "model = models.Sequential()\n",
        "model.add(base_model)\n",
        "model.layers[0].trainable = False\n",
        "model.add(layers.Flatten())\n",
        "model.add(layers.Dense(120, activation='softmax'))\n",
        "# model.add(layers.Flatten(input_shape=train_features.shape[1:]))"
      ]
    },
    {
      "cell_type": "markdown",
      "metadata": {
        "id": "BhXg_Od2782v"
      },
      "source": [
        "Determining and saving set of features of pre-trained model for training data."
      ]
    },
    {
      "cell_type": "code",
      "execution_count": 10,
      "metadata": {
        "colab": {
          "base_uri": "https://localhost:8080/",
          "height": 461
        },
        "id": "8J1BOiDl789z",
        "outputId": "7f524a1d-12c9-4f0a-beae-74b3d25fed1d"
      },
      "outputs": [
        {
          "output_type": "stream",
          "name": "stdout",
          "text": [
            "1300/1300 [==============================] - 57s 44ms/step\n"
          ]
        },
        {
          "output_type": "error",
          "ename": "ResourceExhaustedError",
          "evalue": "{{function_node __wrapped__ConcatV2_N_1300_device_/job:localhost/replica:0/task:0/device:GPU:0}} OOM when allocating tensor with shape[13000,8,8,2048] and type float on /job:localhost/replica:0/task:0/device:GPU:0 by allocator GPU_0_bfc [Op:ConcatV2] name: concat",
          "traceback": [
            "\u001b[0;31m---------------------------------------------------------------------------\u001b[0m",
            "\u001b[0;31mResourceExhaustedError\u001b[0m                    Traceback (most recent call last)",
            "\u001b[0;32m<ipython-input-10-91a87d78aa5a>\u001b[0m in \u001b[0;36m<cell line: 3>\u001b[0;34m()\u001b[0m\n\u001b[1;32m      2\u001b[0m \u001b[0;31m# np.save('/content/pre_trained_validation.npy', pre_trained_validation)\u001b[0m\u001b[0;34m\u001b[0m\u001b[0;34m\u001b[0m\u001b[0m\n\u001b[1;32m      3\u001b[0m \u001b[0;32mwith\u001b[0m \u001b[0mtf\u001b[0m\u001b[0;34m.\u001b[0m\u001b[0mdevice\u001b[0m\u001b[0;34m(\u001b[0m\u001b[0;34m'/gpu:0'\u001b[0m\u001b[0;34m)\u001b[0m\u001b[0;34m:\u001b[0m\u001b[0;34m\u001b[0m\u001b[0;34m\u001b[0m\u001b[0m\n\u001b[0;32m----> 4\u001b[0;31m   \u001b[0mpre_trained_data\u001b[0m \u001b[0;34m=\u001b[0m \u001b[0mmodel\u001b[0m\u001b[0;34m.\u001b[0m\u001b[0mpredict\u001b[0m\u001b[0;34m(\u001b[0m\u001b[0mtraining_generator\u001b[0m\u001b[0;34m,\u001b[0m \u001b[0msteps\u001b[0m \u001b[0;34m=\u001b[0m \u001b[0;36m1300\u001b[0m\u001b[0;34m)\u001b[0m\u001b[0;34m\u001b[0m\u001b[0;34m\u001b[0m\u001b[0m\n\u001b[0m\u001b[1;32m      5\u001b[0m \u001b[0;34m\u001b[0m\u001b[0m\n\u001b[1;32m      6\u001b[0m \u001b[0mnp\u001b[0m\u001b[0;34m.\u001b[0m\u001b[0msave\u001b[0m\u001b[0;34m(\u001b[0m\u001b[0;34m'/content/pre_trained_validation.npy'\u001b[0m\u001b[0;34m,\u001b[0m \u001b[0mpre_trained_data\u001b[0m\u001b[0;34m)\u001b[0m\u001b[0;34m\u001b[0m\u001b[0;34m\u001b[0m\u001b[0m\n",
            "\u001b[0;32m/usr/local/lib/python3.10/dist-packages/keras/src/utils/traceback_utils.py\u001b[0m in \u001b[0;36merror_handler\u001b[0;34m(*args, **kwargs)\u001b[0m\n\u001b[1;32m     68\u001b[0m             \u001b[0;31m# To get the full stack trace, call:\u001b[0m\u001b[0;34m\u001b[0m\u001b[0;34m\u001b[0m\u001b[0m\n\u001b[1;32m     69\u001b[0m             \u001b[0;31m# `tf.debugging.disable_traceback_filtering()`\u001b[0m\u001b[0;34m\u001b[0m\u001b[0;34m\u001b[0m\u001b[0m\n\u001b[0;32m---> 70\u001b[0;31m             \u001b[0;32mraise\u001b[0m \u001b[0me\u001b[0m\u001b[0;34m.\u001b[0m\u001b[0mwith_traceback\u001b[0m\u001b[0;34m(\u001b[0m\u001b[0mfiltered_tb\u001b[0m\u001b[0;34m)\u001b[0m \u001b[0;32mfrom\u001b[0m \u001b[0;32mNone\u001b[0m\u001b[0;34m\u001b[0m\u001b[0;34m\u001b[0m\u001b[0m\n\u001b[0m\u001b[1;32m     71\u001b[0m         \u001b[0;32mfinally\u001b[0m\u001b[0;34m:\u001b[0m\u001b[0;34m\u001b[0m\u001b[0;34m\u001b[0m\u001b[0m\n\u001b[1;32m     72\u001b[0m             \u001b[0;32mdel\u001b[0m \u001b[0mfiltered_tb\u001b[0m\u001b[0;34m\u001b[0m\u001b[0;34m\u001b[0m\u001b[0m\n",
            "\u001b[0;32m/usr/local/lib/python3.10/dist-packages/tensorflow/python/framework/ops.py\u001b[0m in \u001b[0;36mraise_from_not_ok_status\u001b[0;34m(e, name)\u001b[0m\n\u001b[1;32m   5881\u001b[0m \u001b[0;32mdef\u001b[0m \u001b[0mraise_from_not_ok_status\u001b[0m\u001b[0;34m(\u001b[0m\u001b[0me\u001b[0m\u001b[0;34m,\u001b[0m \u001b[0mname\u001b[0m\u001b[0;34m)\u001b[0m \u001b[0;34m->\u001b[0m \u001b[0mNoReturn\u001b[0m\u001b[0;34m:\u001b[0m\u001b[0;34m\u001b[0m\u001b[0;34m\u001b[0m\u001b[0m\n\u001b[1;32m   5882\u001b[0m   \u001b[0me\u001b[0m\u001b[0;34m.\u001b[0m\u001b[0mmessage\u001b[0m \u001b[0;34m+=\u001b[0m \u001b[0;34m(\u001b[0m\u001b[0;34m\" name: \"\u001b[0m \u001b[0;34m+\u001b[0m \u001b[0mstr\u001b[0m\u001b[0;34m(\u001b[0m\u001b[0mname\u001b[0m \u001b[0;32mif\u001b[0m \u001b[0mname\u001b[0m \u001b[0;32mis\u001b[0m \u001b[0;32mnot\u001b[0m \u001b[0;32mNone\u001b[0m \u001b[0;32melse\u001b[0m \u001b[0;34m\"\"\u001b[0m\u001b[0;34m)\u001b[0m\u001b[0;34m)\u001b[0m\u001b[0;34m\u001b[0m\u001b[0;34m\u001b[0m\u001b[0m\n\u001b[0;32m-> 5883\u001b[0;31m   \u001b[0;32mraise\u001b[0m \u001b[0mcore\u001b[0m\u001b[0;34m.\u001b[0m\u001b[0m_status_to_exception\u001b[0m\u001b[0;34m(\u001b[0m\u001b[0me\u001b[0m\u001b[0;34m)\u001b[0m \u001b[0;32mfrom\u001b[0m \u001b[0;32mNone\u001b[0m  \u001b[0;31m# pylint: disable=protected-access\u001b[0m\u001b[0;34m\u001b[0m\u001b[0;34m\u001b[0m\u001b[0m\n\u001b[0m\u001b[1;32m   5884\u001b[0m \u001b[0;34m\u001b[0m\u001b[0m\n\u001b[1;32m   5885\u001b[0m \u001b[0;34m\u001b[0m\u001b[0m\n",
            "\u001b[0;31mResourceExhaustedError\u001b[0m: {{function_node __wrapped__ConcatV2_N_1300_device_/job:localhost/replica:0/task:0/device:GPU:0}} OOM when allocating tensor with shape[13000,8,8,2048] and type float on /job:localhost/replica:0/task:0/device:GPU:0 by allocator GPU_0_bfc [Op:ConcatV2] name: concat"
          ]
        }
      ],
      "source": [
        "# pre_trained_validation = model.predict(validation_images_array)\n",
        "# np.save('/content/pre_trained_validation.npy', pre_trained_validation)\n",
        "with tf.device('/gpu:0'):\n",
        "  pre_trained_data = model.predict(training_generator, steps = 1300)\n",
        "\n",
        "np.save('/content/pre_trained_validation.npy', pre_trained_data)\n",
        "# np.save('/content/pre_trained_bottleneck_features_inceptionv3.npy', model.predict(training_generator, steps = 469))"
      ]
    },
    {
      "cell_type": "markdown",
      "metadata": {
        "id": "pBpxpTxmFxkp"
      },
      "source": [
        "Determining and saving set of features of pre-trained model for Validation data."
      ]
    },
    {
      "cell_type": "code",
      "execution_count": 7,
      "metadata": {
        "colab": {
          "base_uri": "https://localhost:8080/",
          "height": 194
        },
        "id": "YeBpsYpsYCR-",
        "outputId": "924ad7ad-8070-4482-c5f8-451860f9e781"
      },
      "outputs": [
        {
          "output_type": "error",
          "ename": "NameError",
          "evalue": "name 'validation_generator' is not defined",
          "traceback": [
            "\u001b[0;31m---------------------------------------------------------------------------\u001b[0m",
            "\u001b[0;31mNameError\u001b[0m                                 Traceback (most recent call last)",
            "\u001b[0;32m<ipython-input-7-2719dbd842e5>\u001b[0m in \u001b[0;36m<cell line: 2>\u001b[0;34m()\u001b[0m\n\u001b[1;32m      1\u001b[0m \u001b[0;31m# pre_trained_validation = model.predict(validation_generator)\u001b[0m\u001b[0;34m\u001b[0m\u001b[0;34m\u001b[0m\u001b[0m\n\u001b[0;32m----> 2\u001b[0;31m \u001b[0mnp\u001b[0m\u001b[0;34m.\u001b[0m\u001b[0msave\u001b[0m\u001b[0;34m(\u001b[0m\u001b[0;34m'/content/pre_trained_validation_inceptionv3.npy'\u001b[0m\u001b[0;34m,\u001b[0m \u001b[0mmodel\u001b[0m\u001b[0;34m.\u001b[0m\u001b[0mpredict\u001b[0m\u001b[0;34m(\u001b[0m\u001b[0mvalidation_generator\u001b[0m\u001b[0;34m,\u001b[0m \u001b[0msteps\u001b[0m \u001b[0;34m=\u001b[0m \u001b[0;36m125\u001b[0m\u001b[0;34m)\u001b[0m\u001b[0;34m)\u001b[0m\u001b[0;34m\u001b[0m\u001b[0;34m\u001b[0m\u001b[0m\n\u001b[0m",
            "\u001b[0;31mNameError\u001b[0m: name 'validation_generator' is not defined"
          ]
        }
      ],
      "source": [
        "# pre_trained_validation = model.predict(validation_generator)\n",
        "np.save('/content/pre_trained_validation_inceptionv3.npy', model.predict(validation_generator, steps = 125))"
      ]
    },
    {
      "cell_type": "markdown",
      "metadata": {
        "id": "LNNe22XXYCfl"
      },
      "source": []
    },
    {
      "cell_type": "code",
      "execution_count": null,
      "metadata": {
        "colab": {
          "base_uri": "https://localhost:8080/"
        },
        "id": "yqFksTPx9Lzl",
        "outputId": "99d07848-b122-49b6-cd3a-fd85b2c3dec7"
      },
      "outputs": [
        {
          "name": "stdout",
          "output_type": "stream",
          "text": [
            "(15000, 1, 1, 2048)\n"
          ]
        }
      ],
      "source": [
        "train_features = np.load('/content/pre_trained_bottleneck_features_inceptionv3.npy')\n",
        "validation_features = np.load('/content/pre_trained_validation_inceptionv3.npy')\n",
        "print(train_features.shape)"
      ]
    },
    {
      "cell_type": "markdown",
      "metadata": {
        "id": "FB_k3_Qd9MKz"
      },
      "source": []
    },
    {
      "cell_type": "code",
      "execution_count": null,
      "metadata": {
        "colab": {
          "base_uri": "https://localhost:8080/"
        },
        "id": "zL87X1j0Fxtd",
        "outputId": "661ab45e-6e4c-47c7-fe44-b35820ba8392"
      },
      "outputs": [
        {
          "name": "stdout",
          "output_type": "stream",
          "text": [
            "Epoch 1/10\n",
            "469/469 [==============================] - 5s 7ms/step - loss: 4.4626 - accuracy: 0.1596 - val_loss: 3.8669 - val_accuracy: 0.2325\n",
            "Epoch 2/10\n",
            "469/469 [==============================] - 4s 9ms/step - loss: 2.9866 - accuracy: 0.3265 - val_loss: 3.9034 - val_accuracy: 0.2333\n",
            "Epoch 3/10\n",
            "469/469 [==============================] - 3s 6ms/step - loss: 2.3787 - accuracy: 0.4233 - val_loss: 4.0871 - val_accuracy: 0.2370\n",
            "Epoch 4/10\n",
            "469/469 [==============================] - 3s 6ms/step - loss: 1.9363 - accuracy: 0.5046 - val_loss: 4.1455 - val_accuracy: 0.2395\n",
            "Epoch 5/10\n",
            "469/469 [==============================] - 3s 6ms/step - loss: 1.6424 - accuracy: 0.5675 - val_loss: 4.2614 - val_accuracy: 0.2377\n",
            "Epoch 6/10\n",
            "469/469 [==============================] - 3s 7ms/step - loss: 1.3682 - accuracy: 0.6351 - val_loss: 4.5281 - val_accuracy: 0.2280\n",
            "Epoch 7/10\n",
            "469/469 [==============================] - 4s 8ms/step - loss: 1.1886 - accuracy: 0.6787 - val_loss: 4.7053 - val_accuracy: 0.2315\n",
            "Epoch 8/10\n",
            "469/469 [==============================] - 3s 6ms/step - loss: 1.0228 - accuracy: 0.7230 - val_loss: 4.7723 - val_accuracy: 0.2310\n",
            "Epoch 9/10\n",
            "469/469 [==============================] - 8s 17ms/step - loss: 0.9222 - accuracy: 0.7489 - val_loss: 4.9221 - val_accuracy: 0.2360\n",
            "Epoch 10/10\n",
            "469/469 [==============================] - 4s 8ms/step - loss: 0.7942 - accuracy: 0.7816 - val_loss: 5.1060 - val_accuracy: 0.2303\n"
          ]
        },
        {
          "data": {
            "text/plain": [
              "<keras.src.callbacks.History at 0x7ebe83550d60>"
            ]
          },
          "execution_count": 15,
          "metadata": {},
          "output_type": "execute_result"
        }
      ],
      "source": [
        "model = models.Sequential()\n",
        "model.add(layers.Flatten(input_shape=train_features.shape[1:]))\n",
        "# model.add(layers.Dense(512, activation='relu'))\n",
        "# model.add(layers.Dropout(0.5))\n",
        "# model.add(layers.Dense(512, activation='softmax'))\n",
        "model.add(layers.Dense(120, activation='softmax'))\n",
        "\n",
        "model.compile(optimizer='adam', loss='sparse_categorical_crossentropy', metrics=['accuracy'])\n",
        "model.fit(train_features, training_labels_array, epochs=10, validation_data=(validation_features, validation_labels_array))\n",
        "# model.save('/content/DogBreed Models')"
      ]
    },
    {
      "cell_type": "markdown",
      "metadata": {
        "id": "apHX3ftBzkRf"
      },
      "source": [
        "Code to summarize and save models."
      ]
    },
    {
      "cell_type": "code",
      "execution_count": null,
      "metadata": {
        "colab": {
          "base_uri": "https://localhost:8080/"
        },
        "id": "sPHEecIKzkgr",
        "outputId": "f52535d6-59ca-420d-da8e-ae24aa676d38"
      },
      "outputs": [
        {
          "name": "stdout",
          "output_type": "stream",
          "text": [
            "(3, 3, 2048)\n"
          ]
        }
      ],
      "source": [
        "# train_data = np.load(open('/content/pre_trained_output_headless.npy', 'rb'))\n",
        "print(train_data.shape[1:])\n",
        "# model.summary()\n",
        "# model.save('/content/DogBreed Models')"
      ]
    },
    {
      "cell_type": "markdown",
      "source": [
        "Code to save models to my google drive."
      ],
      "metadata": {
        "id": "1kLIqa-INPss"
      }
    },
    {
      "cell_type": "code",
      "source": [
        "from google.colab import drive\n",
        "import shutil\n",
        "\n",
        "# drive.mount('/content/gdrive', force_remount=True)\n",
        "source_folder = '/content/history'  # Replace with the path to your source folder\n",
        "destination_folder = '/content/gdrive/MyDrive/breed_models/history_full'  # Replace with the path to your destination folder in Google Drive\n",
        "\n",
        "shutil.copytree(source_folder, destination_folder)"
      ],
      "metadata": {
        "colab": {
          "base_uri": "https://localhost:8080/",
          "height": 367
        },
        "id": "Bi0bSCrkNP1C",
        "outputId": "506a80c0-edab-411c-cdb5-f84ab027e0e1"
      },
      "execution_count": 12,
      "outputs": [
        {
          "output_type": "error",
          "ename": "NotADirectoryError",
          "evalue": "[Errno 20] Not a directory: '/content/history'",
          "traceback": [
            "\u001b[0;31m---------------------------------------------------------------------------\u001b[0m",
            "\u001b[0;31mNotADirectoryError\u001b[0m                        Traceback (most recent call last)",
            "\u001b[0;32m<ipython-input-12-f622f14cccf1>\u001b[0m in \u001b[0;36m<cell line: 8>\u001b[0;34m()\u001b[0m\n\u001b[1;32m      6\u001b[0m \u001b[0mdestination_folder\u001b[0m \u001b[0;34m=\u001b[0m \u001b[0;34m'/content/gdrive/MyDrive/breed_models/history_full'\u001b[0m  \u001b[0;31m# Replace with the path to your destination folder in Google Drive\u001b[0m\u001b[0;34m\u001b[0m\u001b[0;34m\u001b[0m\u001b[0m\n\u001b[1;32m      7\u001b[0m \u001b[0;34m\u001b[0m\u001b[0m\n\u001b[0;32m----> 8\u001b[0;31m \u001b[0mshutil\u001b[0m\u001b[0;34m.\u001b[0m\u001b[0mcopytree\u001b[0m\u001b[0;34m(\u001b[0m\u001b[0msource_folder\u001b[0m\u001b[0;34m,\u001b[0m \u001b[0mdestination_folder\u001b[0m\u001b[0;34m)\u001b[0m\u001b[0;34m\u001b[0m\u001b[0;34m\u001b[0m\u001b[0m\n\u001b[0m",
            "\u001b[0;32m/usr/lib/python3.10/shutil.py\u001b[0m in \u001b[0;36mcopytree\u001b[0;34m(src, dst, symlinks, ignore, copy_function, ignore_dangling_symlinks, dirs_exist_ok)\u001b[0m\n\u001b[1;32m    555\u001b[0m     \"\"\"\n\u001b[1;32m    556\u001b[0m     \u001b[0msys\u001b[0m\u001b[0;34m.\u001b[0m\u001b[0maudit\u001b[0m\u001b[0;34m(\u001b[0m\u001b[0;34m\"shutil.copytree\"\u001b[0m\u001b[0;34m,\u001b[0m \u001b[0msrc\u001b[0m\u001b[0;34m,\u001b[0m \u001b[0mdst\u001b[0m\u001b[0;34m)\u001b[0m\u001b[0;34m\u001b[0m\u001b[0;34m\u001b[0m\u001b[0m\n\u001b[0;32m--> 557\u001b[0;31m     \u001b[0;32mwith\u001b[0m \u001b[0mos\u001b[0m\u001b[0;34m.\u001b[0m\u001b[0mscandir\u001b[0m\u001b[0;34m(\u001b[0m\u001b[0msrc\u001b[0m\u001b[0;34m)\u001b[0m \u001b[0;32mas\u001b[0m \u001b[0mitr\u001b[0m\u001b[0;34m:\u001b[0m\u001b[0;34m\u001b[0m\u001b[0;34m\u001b[0m\u001b[0m\n\u001b[0m\u001b[1;32m    558\u001b[0m         \u001b[0mentries\u001b[0m \u001b[0;34m=\u001b[0m \u001b[0mlist\u001b[0m\u001b[0;34m(\u001b[0m\u001b[0mitr\u001b[0m\u001b[0;34m)\u001b[0m\u001b[0;34m\u001b[0m\u001b[0;34m\u001b[0m\u001b[0m\n\u001b[1;32m    559\u001b[0m     return _copytree(entries=entries, src=src, dst=dst, symlinks=symlinks,\n",
            "\u001b[0;31mNotADirectoryError\u001b[0m: [Errno 20] Not a directory: '/content/history'"
          ]
        }
      ]
    }
  ],
  "metadata": {
    "colab": {
      "provenance": [],
      "gpuType": "T4",
      "authorship_tag": "ABX9TyN/YJVquCAttlVDpCGbnuz7",
      "include_colab_link": true
    },
    "kernelspec": {
      "display_name": "Python 3",
      "name": "python3"
    },
    "language_info": {
      "name": "python"
    },
    "accelerator": "GPU",
    "widgets": {
      "application/vnd.jupyter.widget-state+json": {
        "af3a42d897a744d28a6efcdeeb615682": {
          "model_module": "@jupyter-widgets/controls",
          "model_name": "HBoxModel",
          "model_module_version": "1.5.0",
          "state": {
            "_dom_classes": [],
            "_model_module": "@jupyter-widgets/controls",
            "_model_module_version": "1.5.0",
            "_model_name": "HBoxModel",
            "_view_count": null,
            "_view_module": "@jupyter-widgets/controls",
            "_view_module_version": "1.5.0",
            "_view_name": "HBoxView",
            "box_style": "",
            "children": [
              "IPY_MODEL_8a4069e06ab04586ab974bbba8152cea",
              "IPY_MODEL_55199e5c5b8644d28b4d559051ffcf78",
              "IPY_MODEL_418c8332f0b345239602aefda7afb31e"
            ],
            "layout": "IPY_MODEL_71714d7cf6c94d63aec3789458ee09ca"
          }
        },
        "8a4069e06ab04586ab974bbba8152cea": {
          "model_module": "@jupyter-widgets/controls",
          "model_name": "HTMLModel",
          "model_module_version": "1.5.0",
          "state": {
            "_dom_classes": [],
            "_model_module": "@jupyter-widgets/controls",
            "_model_module_version": "1.5.0",
            "_model_name": "HTMLModel",
            "_view_count": null,
            "_view_module": "@jupyter-widgets/controls",
            "_view_module_version": "1.5.0",
            "_view_name": "HTMLView",
            "description": "",
            "description_tooltip": null,
            "layout": "IPY_MODEL_9c082ea04ca84383ada77e31ee4fa335",
            "placeholder": "​",
            "style": "IPY_MODEL_62171633697444069c68177aeeaf12d4",
            "value": "Dl Completed...: 100%"
          }
        },
        "55199e5c5b8644d28b4d559051ffcf78": {
          "model_module": "@jupyter-widgets/controls",
          "model_name": "FloatProgressModel",
          "model_module_version": "1.5.0",
          "state": {
            "_dom_classes": [],
            "_model_module": "@jupyter-widgets/controls",
            "_model_module_version": "1.5.0",
            "_model_name": "FloatProgressModel",
            "_view_count": null,
            "_view_module": "@jupyter-widgets/controls",
            "_view_module_version": "1.5.0",
            "_view_name": "ProgressView",
            "bar_style": "success",
            "description": "",
            "description_tooltip": null,
            "layout": "IPY_MODEL_7e8e9c41a5ed4789984de3f7b3b0d7a4",
            "max": 1,
            "min": 0,
            "orientation": "horizontal",
            "style": "IPY_MODEL_93a86dc277fa4c0e8567159fa0407c35",
            "value": 1
          }
        },
        "418c8332f0b345239602aefda7afb31e": {
          "model_module": "@jupyter-widgets/controls",
          "model_name": "HTMLModel",
          "model_module_version": "1.5.0",
          "state": {
            "_dom_classes": [],
            "_model_module": "@jupyter-widgets/controls",
            "_model_module_version": "1.5.0",
            "_model_name": "HTMLModel",
            "_view_count": null,
            "_view_module": "@jupyter-widgets/controls",
            "_view_module_version": "1.5.0",
            "_view_name": "HTMLView",
            "description": "",
            "description_tooltip": null,
            "layout": "IPY_MODEL_f3fe5966b57b4683a7bf8261bdb76962",
            "placeholder": "​",
            "style": "IPY_MODEL_65e8caf1bae64f3a95c7e4c6cdd87173",
            "value": " 1/1 [00:43&lt;00:00, 43.86s/ url]"
          }
        },
        "71714d7cf6c94d63aec3789458ee09ca": {
          "model_module": "@jupyter-widgets/base",
          "model_name": "LayoutModel",
          "model_module_version": "1.2.0",
          "state": {
            "_model_module": "@jupyter-widgets/base",
            "_model_module_version": "1.2.0",
            "_model_name": "LayoutModel",
            "_view_count": null,
            "_view_module": "@jupyter-widgets/base",
            "_view_module_version": "1.2.0",
            "_view_name": "LayoutView",
            "align_content": null,
            "align_items": null,
            "align_self": null,
            "border": null,
            "bottom": null,
            "display": null,
            "flex": null,
            "flex_flow": null,
            "grid_area": null,
            "grid_auto_columns": null,
            "grid_auto_flow": null,
            "grid_auto_rows": null,
            "grid_column": null,
            "grid_gap": null,
            "grid_row": null,
            "grid_template_areas": null,
            "grid_template_columns": null,
            "grid_template_rows": null,
            "height": null,
            "justify_content": null,
            "justify_items": null,
            "left": null,
            "margin": null,
            "max_height": null,
            "max_width": null,
            "min_height": null,
            "min_width": null,
            "object_fit": null,
            "object_position": null,
            "order": null,
            "overflow": null,
            "overflow_x": null,
            "overflow_y": null,
            "padding": null,
            "right": null,
            "top": null,
            "visibility": null,
            "width": null
          }
        },
        "9c082ea04ca84383ada77e31ee4fa335": {
          "model_module": "@jupyter-widgets/base",
          "model_name": "LayoutModel",
          "model_module_version": "1.2.0",
          "state": {
            "_model_module": "@jupyter-widgets/base",
            "_model_module_version": "1.2.0",
            "_model_name": "LayoutModel",
            "_view_count": null,
            "_view_module": "@jupyter-widgets/base",
            "_view_module_version": "1.2.0",
            "_view_name": "LayoutView",
            "align_content": null,
            "align_items": null,
            "align_self": null,
            "border": null,
            "bottom": null,
            "display": null,
            "flex": null,
            "flex_flow": null,
            "grid_area": null,
            "grid_auto_columns": null,
            "grid_auto_flow": null,
            "grid_auto_rows": null,
            "grid_column": null,
            "grid_gap": null,
            "grid_row": null,
            "grid_template_areas": null,
            "grid_template_columns": null,
            "grid_template_rows": null,
            "height": null,
            "justify_content": null,
            "justify_items": null,
            "left": null,
            "margin": null,
            "max_height": null,
            "max_width": null,
            "min_height": null,
            "min_width": null,
            "object_fit": null,
            "object_position": null,
            "order": null,
            "overflow": null,
            "overflow_x": null,
            "overflow_y": null,
            "padding": null,
            "right": null,
            "top": null,
            "visibility": null,
            "width": null
          }
        },
        "62171633697444069c68177aeeaf12d4": {
          "model_module": "@jupyter-widgets/controls",
          "model_name": "DescriptionStyleModel",
          "model_module_version": "1.5.0",
          "state": {
            "_model_module": "@jupyter-widgets/controls",
            "_model_module_version": "1.5.0",
            "_model_name": "DescriptionStyleModel",
            "_view_count": null,
            "_view_module": "@jupyter-widgets/base",
            "_view_module_version": "1.2.0",
            "_view_name": "StyleView",
            "description_width": ""
          }
        },
        "7e8e9c41a5ed4789984de3f7b3b0d7a4": {
          "model_module": "@jupyter-widgets/base",
          "model_name": "LayoutModel",
          "model_module_version": "1.2.0",
          "state": {
            "_model_module": "@jupyter-widgets/base",
            "_model_module_version": "1.2.0",
            "_model_name": "LayoutModel",
            "_view_count": null,
            "_view_module": "@jupyter-widgets/base",
            "_view_module_version": "1.2.0",
            "_view_name": "LayoutView",
            "align_content": null,
            "align_items": null,
            "align_self": null,
            "border": null,
            "bottom": null,
            "display": null,
            "flex": null,
            "flex_flow": null,
            "grid_area": null,
            "grid_auto_columns": null,
            "grid_auto_flow": null,
            "grid_auto_rows": null,
            "grid_column": null,
            "grid_gap": null,
            "grid_row": null,
            "grid_template_areas": null,
            "grid_template_columns": null,
            "grid_template_rows": null,
            "height": null,
            "justify_content": null,
            "justify_items": null,
            "left": null,
            "margin": null,
            "max_height": null,
            "max_width": null,
            "min_height": null,
            "min_width": null,
            "object_fit": null,
            "object_position": null,
            "order": null,
            "overflow": null,
            "overflow_x": null,
            "overflow_y": null,
            "padding": null,
            "right": null,
            "top": null,
            "visibility": null,
            "width": "20px"
          }
        },
        "93a86dc277fa4c0e8567159fa0407c35": {
          "model_module": "@jupyter-widgets/controls",
          "model_name": "ProgressStyleModel",
          "model_module_version": "1.5.0",
          "state": {
            "_model_module": "@jupyter-widgets/controls",
            "_model_module_version": "1.5.0",
            "_model_name": "ProgressStyleModel",
            "_view_count": null,
            "_view_module": "@jupyter-widgets/base",
            "_view_module_version": "1.2.0",
            "_view_name": "StyleView",
            "bar_color": null,
            "description_width": ""
          }
        },
        "f3fe5966b57b4683a7bf8261bdb76962": {
          "model_module": "@jupyter-widgets/base",
          "model_name": "LayoutModel",
          "model_module_version": "1.2.0",
          "state": {
            "_model_module": "@jupyter-widgets/base",
            "_model_module_version": "1.2.0",
            "_model_name": "LayoutModel",
            "_view_count": null,
            "_view_module": "@jupyter-widgets/base",
            "_view_module_version": "1.2.0",
            "_view_name": "LayoutView",
            "align_content": null,
            "align_items": null,
            "align_self": null,
            "border": null,
            "bottom": null,
            "display": null,
            "flex": null,
            "flex_flow": null,
            "grid_area": null,
            "grid_auto_columns": null,
            "grid_auto_flow": null,
            "grid_auto_rows": null,
            "grid_column": null,
            "grid_gap": null,
            "grid_row": null,
            "grid_template_areas": null,
            "grid_template_columns": null,
            "grid_template_rows": null,
            "height": null,
            "justify_content": null,
            "justify_items": null,
            "left": null,
            "margin": null,
            "max_height": null,
            "max_width": null,
            "min_height": null,
            "min_width": null,
            "object_fit": null,
            "object_position": null,
            "order": null,
            "overflow": null,
            "overflow_x": null,
            "overflow_y": null,
            "padding": null,
            "right": null,
            "top": null,
            "visibility": null,
            "width": null
          }
        },
        "65e8caf1bae64f3a95c7e4c6cdd87173": {
          "model_module": "@jupyter-widgets/controls",
          "model_name": "DescriptionStyleModel",
          "model_module_version": "1.5.0",
          "state": {
            "_model_module": "@jupyter-widgets/controls",
            "_model_module_version": "1.5.0",
            "_model_name": "DescriptionStyleModel",
            "_view_count": null,
            "_view_module": "@jupyter-widgets/base",
            "_view_module_version": "1.2.0",
            "_view_name": "StyleView",
            "description_width": ""
          }
        },
        "3ce4d03f00e04712b891d35e4d7fe05a": {
          "model_module": "@jupyter-widgets/controls",
          "model_name": "HBoxModel",
          "model_module_version": "1.5.0",
          "state": {
            "_dom_classes": [],
            "_model_module": "@jupyter-widgets/controls",
            "_model_module_version": "1.5.0",
            "_model_name": "HBoxModel",
            "_view_count": null,
            "_view_module": "@jupyter-widgets/controls",
            "_view_module_version": "1.5.0",
            "_view_name": "HBoxView",
            "box_style": "",
            "children": [
              "IPY_MODEL_9a8222e74e0942b39ae8923596ca5c2e",
              "IPY_MODEL_5a983a52c50d4177ae8216c1241aa69e",
              "IPY_MODEL_51b0808b253c4db39a2f7c5b38d9c6c6"
            ],
            "layout": "IPY_MODEL_a0f3604b8dba480d8471fbdb40fd35be"
          }
        },
        "9a8222e74e0942b39ae8923596ca5c2e": {
          "model_module": "@jupyter-widgets/controls",
          "model_name": "HTMLModel",
          "model_module_version": "1.5.0",
          "state": {
            "_dom_classes": [],
            "_model_module": "@jupyter-widgets/controls",
            "_model_module_version": "1.5.0",
            "_model_name": "HTMLModel",
            "_view_count": null,
            "_view_module": "@jupyter-widgets/controls",
            "_view_module_version": "1.5.0",
            "_view_name": "HTMLView",
            "description": "",
            "description_tooltip": null,
            "layout": "IPY_MODEL_7faa185f00c0463b97e0bda07a009331",
            "placeholder": "​",
            "style": "IPY_MODEL_9edd20c780154e38af9ab4f676fcd755",
            "value": "Dl Size...: 100%"
          }
        },
        "5a983a52c50d4177ae8216c1241aa69e": {
          "model_module": "@jupyter-widgets/controls",
          "model_name": "FloatProgressModel",
          "model_module_version": "1.5.0",
          "state": {
            "_dom_classes": [],
            "_model_module": "@jupyter-widgets/controls",
            "_model_module_version": "1.5.0",
            "_model_name": "FloatProgressModel",
            "_view_count": null,
            "_view_module": "@jupyter-widgets/controls",
            "_view_module_version": "1.5.0",
            "_view_name": "ProgressView",
            "bar_style": "success",
            "description": "",
            "description_tooltip": null,
            "layout": "IPY_MODEL_33f27eaa7049491086ee0ad4d6918cbe",
            "max": 1,
            "min": 0,
            "orientation": "horizontal",
            "style": "IPY_MODEL_ea31c3ac16d94062a6fae1c825293ff0",
            "value": 1
          }
        },
        "51b0808b253c4db39a2f7c5b38d9c6c6": {
          "model_module": "@jupyter-widgets/controls",
          "model_name": "HTMLModel",
          "model_module_version": "1.5.0",
          "state": {
            "_dom_classes": [],
            "_model_module": "@jupyter-widgets/controls",
            "_model_module_version": "1.5.0",
            "_model_name": "HTMLModel",
            "_view_count": null,
            "_view_module": "@jupyter-widgets/controls",
            "_view_module_version": "1.5.0",
            "_view_name": "HTMLView",
            "description": "",
            "description_tooltip": null,
            "layout": "IPY_MODEL_d168b099d6b747faa1463ab48e0959fa",
            "placeholder": "​",
            "style": "IPY_MODEL_a2d24788464d44009f9353313aa3f1de",
            "value": " 756/756 [00:43&lt;00:00, 18.70 MiB/s]"
          }
        },
        "a0f3604b8dba480d8471fbdb40fd35be": {
          "model_module": "@jupyter-widgets/base",
          "model_name": "LayoutModel",
          "model_module_version": "1.2.0",
          "state": {
            "_model_module": "@jupyter-widgets/base",
            "_model_module_version": "1.2.0",
            "_model_name": "LayoutModel",
            "_view_count": null,
            "_view_module": "@jupyter-widgets/base",
            "_view_module_version": "1.2.0",
            "_view_name": "LayoutView",
            "align_content": null,
            "align_items": null,
            "align_self": null,
            "border": null,
            "bottom": null,
            "display": null,
            "flex": null,
            "flex_flow": null,
            "grid_area": null,
            "grid_auto_columns": null,
            "grid_auto_flow": null,
            "grid_auto_rows": null,
            "grid_column": null,
            "grid_gap": null,
            "grid_row": null,
            "grid_template_areas": null,
            "grid_template_columns": null,
            "grid_template_rows": null,
            "height": null,
            "justify_content": null,
            "justify_items": null,
            "left": null,
            "margin": null,
            "max_height": null,
            "max_width": null,
            "min_height": null,
            "min_width": null,
            "object_fit": null,
            "object_position": null,
            "order": null,
            "overflow": null,
            "overflow_x": null,
            "overflow_y": null,
            "padding": null,
            "right": null,
            "top": null,
            "visibility": null,
            "width": null
          }
        },
        "7faa185f00c0463b97e0bda07a009331": {
          "model_module": "@jupyter-widgets/base",
          "model_name": "LayoutModel",
          "model_module_version": "1.2.0",
          "state": {
            "_model_module": "@jupyter-widgets/base",
            "_model_module_version": "1.2.0",
            "_model_name": "LayoutModel",
            "_view_count": null,
            "_view_module": "@jupyter-widgets/base",
            "_view_module_version": "1.2.0",
            "_view_name": "LayoutView",
            "align_content": null,
            "align_items": null,
            "align_self": null,
            "border": null,
            "bottom": null,
            "display": null,
            "flex": null,
            "flex_flow": null,
            "grid_area": null,
            "grid_auto_columns": null,
            "grid_auto_flow": null,
            "grid_auto_rows": null,
            "grid_column": null,
            "grid_gap": null,
            "grid_row": null,
            "grid_template_areas": null,
            "grid_template_columns": null,
            "grid_template_rows": null,
            "height": null,
            "justify_content": null,
            "justify_items": null,
            "left": null,
            "margin": null,
            "max_height": null,
            "max_width": null,
            "min_height": null,
            "min_width": null,
            "object_fit": null,
            "object_position": null,
            "order": null,
            "overflow": null,
            "overflow_x": null,
            "overflow_y": null,
            "padding": null,
            "right": null,
            "top": null,
            "visibility": null,
            "width": null
          }
        },
        "9edd20c780154e38af9ab4f676fcd755": {
          "model_module": "@jupyter-widgets/controls",
          "model_name": "DescriptionStyleModel",
          "model_module_version": "1.5.0",
          "state": {
            "_model_module": "@jupyter-widgets/controls",
            "_model_module_version": "1.5.0",
            "_model_name": "DescriptionStyleModel",
            "_view_count": null,
            "_view_module": "@jupyter-widgets/base",
            "_view_module_version": "1.2.0",
            "_view_name": "StyleView",
            "description_width": ""
          }
        },
        "33f27eaa7049491086ee0ad4d6918cbe": {
          "model_module": "@jupyter-widgets/base",
          "model_name": "LayoutModel",
          "model_module_version": "1.2.0",
          "state": {
            "_model_module": "@jupyter-widgets/base",
            "_model_module_version": "1.2.0",
            "_model_name": "LayoutModel",
            "_view_count": null,
            "_view_module": "@jupyter-widgets/base",
            "_view_module_version": "1.2.0",
            "_view_name": "LayoutView",
            "align_content": null,
            "align_items": null,
            "align_self": null,
            "border": null,
            "bottom": null,
            "display": null,
            "flex": null,
            "flex_flow": null,
            "grid_area": null,
            "grid_auto_columns": null,
            "grid_auto_flow": null,
            "grid_auto_rows": null,
            "grid_column": null,
            "grid_gap": null,
            "grid_row": null,
            "grid_template_areas": null,
            "grid_template_columns": null,
            "grid_template_rows": null,
            "height": null,
            "justify_content": null,
            "justify_items": null,
            "left": null,
            "margin": null,
            "max_height": null,
            "max_width": null,
            "min_height": null,
            "min_width": null,
            "object_fit": null,
            "object_position": null,
            "order": null,
            "overflow": null,
            "overflow_x": null,
            "overflow_y": null,
            "padding": null,
            "right": null,
            "top": null,
            "visibility": null,
            "width": "20px"
          }
        },
        "ea31c3ac16d94062a6fae1c825293ff0": {
          "model_module": "@jupyter-widgets/controls",
          "model_name": "ProgressStyleModel",
          "model_module_version": "1.5.0",
          "state": {
            "_model_module": "@jupyter-widgets/controls",
            "_model_module_version": "1.5.0",
            "_model_name": "ProgressStyleModel",
            "_view_count": null,
            "_view_module": "@jupyter-widgets/base",
            "_view_module_version": "1.2.0",
            "_view_name": "StyleView",
            "bar_color": null,
            "description_width": ""
          }
        },
        "d168b099d6b747faa1463ab48e0959fa": {
          "model_module": "@jupyter-widgets/base",
          "model_name": "LayoutModel",
          "model_module_version": "1.2.0",
          "state": {
            "_model_module": "@jupyter-widgets/base",
            "_model_module_version": "1.2.0",
            "_model_name": "LayoutModel",
            "_view_count": null,
            "_view_module": "@jupyter-widgets/base",
            "_view_module_version": "1.2.0",
            "_view_name": "LayoutView",
            "align_content": null,
            "align_items": null,
            "align_self": null,
            "border": null,
            "bottom": null,
            "display": null,
            "flex": null,
            "flex_flow": null,
            "grid_area": null,
            "grid_auto_columns": null,
            "grid_auto_flow": null,
            "grid_auto_rows": null,
            "grid_column": null,
            "grid_gap": null,
            "grid_row": null,
            "grid_template_areas": null,
            "grid_template_columns": null,
            "grid_template_rows": null,
            "height": null,
            "justify_content": null,
            "justify_items": null,
            "left": null,
            "margin": null,
            "max_height": null,
            "max_width": null,
            "min_height": null,
            "min_width": null,
            "object_fit": null,
            "object_position": null,
            "order": null,
            "overflow": null,
            "overflow_x": null,
            "overflow_y": null,
            "padding": null,
            "right": null,
            "top": null,
            "visibility": null,
            "width": null
          }
        },
        "a2d24788464d44009f9353313aa3f1de": {
          "model_module": "@jupyter-widgets/controls",
          "model_name": "DescriptionStyleModel",
          "model_module_version": "1.5.0",
          "state": {
            "_model_module": "@jupyter-widgets/controls",
            "_model_module_version": "1.5.0",
            "_model_name": "DescriptionStyleModel",
            "_view_count": null,
            "_view_module": "@jupyter-widgets/base",
            "_view_module_version": "1.2.0",
            "_view_name": "StyleView",
            "description_width": ""
          }
        },
        "2411ecbcc3fa4ec18d09474d165b6a22": {
          "model_module": "@jupyter-widgets/controls",
          "model_name": "HBoxModel",
          "model_module_version": "1.5.0",
          "state": {
            "_dom_classes": [],
            "_model_module": "@jupyter-widgets/controls",
            "_model_module_version": "1.5.0",
            "_model_name": "HBoxModel",
            "_view_count": null,
            "_view_module": "@jupyter-widgets/controls",
            "_view_module_version": "1.5.0",
            "_view_name": "HBoxView",
            "box_style": "",
            "children": [
              "IPY_MODEL_c6c96f695c46446489ab6a19b09c747a",
              "IPY_MODEL_6fba92880df74cfd83d34c884994c6b7",
              "IPY_MODEL_8f863219ff434b8a851023f33da23716"
            ],
            "layout": "IPY_MODEL_8e71ed6e6f68497985c128fcb8002953"
          }
        },
        "c6c96f695c46446489ab6a19b09c747a": {
          "model_module": "@jupyter-widgets/controls",
          "model_name": "HTMLModel",
          "model_module_version": "1.5.0",
          "state": {
            "_dom_classes": [],
            "_model_module": "@jupyter-widgets/controls",
            "_model_module_version": "1.5.0",
            "_model_name": "HTMLModel",
            "_view_count": null,
            "_view_module": "@jupyter-widgets/controls",
            "_view_module_version": "1.5.0",
            "_view_name": "HTMLView",
            "description": "",
            "description_tooltip": null,
            "layout": "IPY_MODEL_95272ac580e7408c8bf73f6755c45cf4",
            "placeholder": "​",
            "style": "IPY_MODEL_c0c56e64b8d24da0afd533e427a53589",
            "value": "Dl Completed...: 100%"
          }
        },
        "6fba92880df74cfd83d34c884994c6b7": {
          "model_module": "@jupyter-widgets/controls",
          "model_name": "FloatProgressModel",
          "model_module_version": "1.5.0",
          "state": {
            "_dom_classes": [],
            "_model_module": "@jupyter-widgets/controls",
            "_model_module_version": "1.5.0",
            "_model_name": "FloatProgressModel",
            "_view_count": null,
            "_view_module": "@jupyter-widgets/controls",
            "_view_module_version": "1.5.0",
            "_view_name": "ProgressView",
            "bar_style": "success",
            "description": "",
            "description_tooltip": null,
            "layout": "IPY_MODEL_090aa56f57fe4d9cae55d851c0251274",
            "max": 1,
            "min": 0,
            "orientation": "horizontal",
            "style": "IPY_MODEL_a1035e58761d48929a680222f525c8f6",
            "value": 1
          }
        },
        "8f863219ff434b8a851023f33da23716": {
          "model_module": "@jupyter-widgets/controls",
          "model_name": "HTMLModel",
          "model_module_version": "1.5.0",
          "state": {
            "_dom_classes": [],
            "_model_module": "@jupyter-widgets/controls",
            "_model_module_version": "1.5.0",
            "_model_name": "HTMLModel",
            "_view_count": null,
            "_view_module": "@jupyter-widgets/controls",
            "_view_module_version": "1.5.0",
            "_view_name": "HTMLView",
            "description": "",
            "description_tooltip": null,
            "layout": "IPY_MODEL_e273c5ebe1f24ecd90683cdfa8ac6aec",
            "placeholder": "​",
            "style": "IPY_MODEL_4c6d32e0b23e4218b02eca134665a381",
            "value": " 2/2 [01:09&lt;00:00,  1.23s/ url]"
          }
        },
        "8e71ed6e6f68497985c128fcb8002953": {
          "model_module": "@jupyter-widgets/base",
          "model_name": "LayoutModel",
          "model_module_version": "1.2.0",
          "state": {
            "_model_module": "@jupyter-widgets/base",
            "_model_module_version": "1.2.0",
            "_model_name": "LayoutModel",
            "_view_count": null,
            "_view_module": "@jupyter-widgets/base",
            "_view_module_version": "1.2.0",
            "_view_name": "LayoutView",
            "align_content": null,
            "align_items": null,
            "align_self": null,
            "border": null,
            "bottom": null,
            "display": null,
            "flex": null,
            "flex_flow": null,
            "grid_area": null,
            "grid_auto_columns": null,
            "grid_auto_flow": null,
            "grid_auto_rows": null,
            "grid_column": null,
            "grid_gap": null,
            "grid_row": null,
            "grid_template_areas": null,
            "grid_template_columns": null,
            "grid_template_rows": null,
            "height": null,
            "justify_content": null,
            "justify_items": null,
            "left": null,
            "margin": null,
            "max_height": null,
            "max_width": null,
            "min_height": null,
            "min_width": null,
            "object_fit": null,
            "object_position": null,
            "order": null,
            "overflow": null,
            "overflow_x": null,
            "overflow_y": null,
            "padding": null,
            "right": null,
            "top": null,
            "visibility": null,
            "width": null
          }
        },
        "95272ac580e7408c8bf73f6755c45cf4": {
          "model_module": "@jupyter-widgets/base",
          "model_name": "LayoutModel",
          "model_module_version": "1.2.0",
          "state": {
            "_model_module": "@jupyter-widgets/base",
            "_model_module_version": "1.2.0",
            "_model_name": "LayoutModel",
            "_view_count": null,
            "_view_module": "@jupyter-widgets/base",
            "_view_module_version": "1.2.0",
            "_view_name": "LayoutView",
            "align_content": null,
            "align_items": null,
            "align_self": null,
            "border": null,
            "bottom": null,
            "display": null,
            "flex": null,
            "flex_flow": null,
            "grid_area": null,
            "grid_auto_columns": null,
            "grid_auto_flow": null,
            "grid_auto_rows": null,
            "grid_column": null,
            "grid_gap": null,
            "grid_row": null,
            "grid_template_areas": null,
            "grid_template_columns": null,
            "grid_template_rows": null,
            "height": null,
            "justify_content": null,
            "justify_items": null,
            "left": null,
            "margin": null,
            "max_height": null,
            "max_width": null,
            "min_height": null,
            "min_width": null,
            "object_fit": null,
            "object_position": null,
            "order": null,
            "overflow": null,
            "overflow_x": null,
            "overflow_y": null,
            "padding": null,
            "right": null,
            "top": null,
            "visibility": null,
            "width": null
          }
        },
        "c0c56e64b8d24da0afd533e427a53589": {
          "model_module": "@jupyter-widgets/controls",
          "model_name": "DescriptionStyleModel",
          "model_module_version": "1.5.0",
          "state": {
            "_model_module": "@jupyter-widgets/controls",
            "_model_module_version": "1.5.0",
            "_model_name": "DescriptionStyleModel",
            "_view_count": null,
            "_view_module": "@jupyter-widgets/base",
            "_view_module_version": "1.2.0",
            "_view_name": "StyleView",
            "description_width": ""
          }
        },
        "090aa56f57fe4d9cae55d851c0251274": {
          "model_module": "@jupyter-widgets/base",
          "model_name": "LayoutModel",
          "model_module_version": "1.2.0",
          "state": {
            "_model_module": "@jupyter-widgets/base",
            "_model_module_version": "1.2.0",
            "_model_name": "LayoutModel",
            "_view_count": null,
            "_view_module": "@jupyter-widgets/base",
            "_view_module_version": "1.2.0",
            "_view_name": "LayoutView",
            "align_content": null,
            "align_items": null,
            "align_self": null,
            "border": null,
            "bottom": null,
            "display": null,
            "flex": null,
            "flex_flow": null,
            "grid_area": null,
            "grid_auto_columns": null,
            "grid_auto_flow": null,
            "grid_auto_rows": null,
            "grid_column": null,
            "grid_gap": null,
            "grid_row": null,
            "grid_template_areas": null,
            "grid_template_columns": null,
            "grid_template_rows": null,
            "height": null,
            "justify_content": null,
            "justify_items": null,
            "left": null,
            "margin": null,
            "max_height": null,
            "max_width": null,
            "min_height": null,
            "min_width": null,
            "object_fit": null,
            "object_position": null,
            "order": null,
            "overflow": null,
            "overflow_x": null,
            "overflow_y": null,
            "padding": null,
            "right": null,
            "top": null,
            "visibility": null,
            "width": "20px"
          }
        },
        "a1035e58761d48929a680222f525c8f6": {
          "model_module": "@jupyter-widgets/controls",
          "model_name": "ProgressStyleModel",
          "model_module_version": "1.5.0",
          "state": {
            "_model_module": "@jupyter-widgets/controls",
            "_model_module_version": "1.5.0",
            "_model_name": "ProgressStyleModel",
            "_view_count": null,
            "_view_module": "@jupyter-widgets/base",
            "_view_module_version": "1.2.0",
            "_view_name": "StyleView",
            "bar_color": null,
            "description_width": ""
          }
        },
        "e273c5ebe1f24ecd90683cdfa8ac6aec": {
          "model_module": "@jupyter-widgets/base",
          "model_name": "LayoutModel",
          "model_module_version": "1.2.0",
          "state": {
            "_model_module": "@jupyter-widgets/base",
            "_model_module_version": "1.2.0",
            "_model_name": "LayoutModel",
            "_view_count": null,
            "_view_module": "@jupyter-widgets/base",
            "_view_module_version": "1.2.0",
            "_view_name": "LayoutView",
            "align_content": null,
            "align_items": null,
            "align_self": null,
            "border": null,
            "bottom": null,
            "display": null,
            "flex": null,
            "flex_flow": null,
            "grid_area": null,
            "grid_auto_columns": null,
            "grid_auto_flow": null,
            "grid_auto_rows": null,
            "grid_column": null,
            "grid_gap": null,
            "grid_row": null,
            "grid_template_areas": null,
            "grid_template_columns": null,
            "grid_template_rows": null,
            "height": null,
            "justify_content": null,
            "justify_items": null,
            "left": null,
            "margin": null,
            "max_height": null,
            "max_width": null,
            "min_height": null,
            "min_width": null,
            "object_fit": null,
            "object_position": null,
            "order": null,
            "overflow": null,
            "overflow_x": null,
            "overflow_y": null,
            "padding": null,
            "right": null,
            "top": null,
            "visibility": null,
            "width": null
          }
        },
        "4c6d32e0b23e4218b02eca134665a381": {
          "model_module": "@jupyter-widgets/controls",
          "model_name": "DescriptionStyleModel",
          "model_module_version": "1.5.0",
          "state": {
            "_model_module": "@jupyter-widgets/controls",
            "_model_module_version": "1.5.0",
            "_model_name": "DescriptionStyleModel",
            "_view_count": null,
            "_view_module": "@jupyter-widgets/base",
            "_view_module_version": "1.2.0",
            "_view_name": "StyleView",
            "description_width": ""
          }
        },
        "3334ec46870648f2acd97fb7ceb2a569": {
          "model_module": "@jupyter-widgets/controls",
          "model_name": "HBoxModel",
          "model_module_version": "1.5.0",
          "state": {
            "_dom_classes": [],
            "_model_module": "@jupyter-widgets/controls",
            "_model_module_version": "1.5.0",
            "_model_name": "HBoxModel",
            "_view_count": null,
            "_view_module": "@jupyter-widgets/controls",
            "_view_module_version": "1.5.0",
            "_view_name": "HBoxView",
            "box_style": "",
            "children": [
              "IPY_MODEL_96f752fa2bee43fbaa73643ad752f52a",
              "IPY_MODEL_58eadc0588634fbbb4d78f12f078044e",
              "IPY_MODEL_236582547b2c4d38ab2910932695a46a"
            ],
            "layout": "IPY_MODEL_71d9f0bc0af944158491351b957672c5"
          }
        },
        "96f752fa2bee43fbaa73643ad752f52a": {
          "model_module": "@jupyter-widgets/controls",
          "model_name": "HTMLModel",
          "model_module_version": "1.5.0",
          "state": {
            "_dom_classes": [],
            "_model_module": "@jupyter-widgets/controls",
            "_model_module_version": "1.5.0",
            "_model_name": "HTMLModel",
            "_view_count": null,
            "_view_module": "@jupyter-widgets/controls",
            "_view_module_version": "1.5.0",
            "_view_name": "HTMLView",
            "description": "",
            "description_tooltip": null,
            "layout": "IPY_MODEL_93039a54813f4f8d9bc5e945aba1a229",
            "placeholder": "​",
            "style": "IPY_MODEL_7e776aab153f4204ad3f8ef876449212",
            "value": "Dl Size...: 100%"
          }
        },
        "58eadc0588634fbbb4d78f12f078044e": {
          "model_module": "@jupyter-widgets/controls",
          "model_name": "FloatProgressModel",
          "model_module_version": "1.5.0",
          "state": {
            "_dom_classes": [],
            "_model_module": "@jupyter-widgets/controls",
            "_model_module_version": "1.5.0",
            "_model_name": "FloatProgressModel",
            "_view_count": null,
            "_view_module": "@jupyter-widgets/controls",
            "_view_module_version": "1.5.0",
            "_view_name": "ProgressView",
            "bar_style": "success",
            "description": "",
            "description_tooltip": null,
            "layout": "IPY_MODEL_29acc945c8bc49fc9e86fa02fa0a257f",
            "max": 1,
            "min": 0,
            "orientation": "horizontal",
            "style": "IPY_MODEL_add5feccfd5f40b8be56c5bb0f060a24",
            "value": 1
          }
        },
        "236582547b2c4d38ab2910932695a46a": {
          "model_module": "@jupyter-widgets/controls",
          "model_name": "HTMLModel",
          "model_module_version": "1.5.0",
          "state": {
            "_dom_classes": [],
            "_model_module": "@jupyter-widgets/controls",
            "_model_module_version": "1.5.0",
            "_model_name": "HTMLModel",
            "_view_count": null,
            "_view_module": "@jupyter-widgets/controls",
            "_view_module_version": "1.5.0",
            "_view_name": "HTMLView",
            "description": "",
            "description_tooltip": null,
            "layout": "IPY_MODEL_bd72f32616654a6da05ec8620a84bab2",
            "placeholder": "​",
            "style": "IPY_MODEL_e13b8fc4913447beb417e6fcd38f5e79",
            "value": " 20/20 [01:09&lt;00:00,  7.79 MiB/s]"
          }
        },
        "71d9f0bc0af944158491351b957672c5": {
          "model_module": "@jupyter-widgets/base",
          "model_name": "LayoutModel",
          "model_module_version": "1.2.0",
          "state": {
            "_model_module": "@jupyter-widgets/base",
            "_model_module_version": "1.2.0",
            "_model_name": "LayoutModel",
            "_view_count": null,
            "_view_module": "@jupyter-widgets/base",
            "_view_module_version": "1.2.0",
            "_view_name": "LayoutView",
            "align_content": null,
            "align_items": null,
            "align_self": null,
            "border": null,
            "bottom": null,
            "display": null,
            "flex": null,
            "flex_flow": null,
            "grid_area": null,
            "grid_auto_columns": null,
            "grid_auto_flow": null,
            "grid_auto_rows": null,
            "grid_column": null,
            "grid_gap": null,
            "grid_row": null,
            "grid_template_areas": null,
            "grid_template_columns": null,
            "grid_template_rows": null,
            "height": null,
            "justify_content": null,
            "justify_items": null,
            "left": null,
            "margin": null,
            "max_height": null,
            "max_width": null,
            "min_height": null,
            "min_width": null,
            "object_fit": null,
            "object_position": null,
            "order": null,
            "overflow": null,
            "overflow_x": null,
            "overflow_y": null,
            "padding": null,
            "right": null,
            "top": null,
            "visibility": null,
            "width": null
          }
        },
        "93039a54813f4f8d9bc5e945aba1a229": {
          "model_module": "@jupyter-widgets/base",
          "model_name": "LayoutModel",
          "model_module_version": "1.2.0",
          "state": {
            "_model_module": "@jupyter-widgets/base",
            "_model_module_version": "1.2.0",
            "_model_name": "LayoutModel",
            "_view_count": null,
            "_view_module": "@jupyter-widgets/base",
            "_view_module_version": "1.2.0",
            "_view_name": "LayoutView",
            "align_content": null,
            "align_items": null,
            "align_self": null,
            "border": null,
            "bottom": null,
            "display": null,
            "flex": null,
            "flex_flow": null,
            "grid_area": null,
            "grid_auto_columns": null,
            "grid_auto_flow": null,
            "grid_auto_rows": null,
            "grid_column": null,
            "grid_gap": null,
            "grid_row": null,
            "grid_template_areas": null,
            "grid_template_columns": null,
            "grid_template_rows": null,
            "height": null,
            "justify_content": null,
            "justify_items": null,
            "left": null,
            "margin": null,
            "max_height": null,
            "max_width": null,
            "min_height": null,
            "min_width": null,
            "object_fit": null,
            "object_position": null,
            "order": null,
            "overflow": null,
            "overflow_x": null,
            "overflow_y": null,
            "padding": null,
            "right": null,
            "top": null,
            "visibility": null,
            "width": null
          }
        },
        "7e776aab153f4204ad3f8ef876449212": {
          "model_module": "@jupyter-widgets/controls",
          "model_name": "DescriptionStyleModel",
          "model_module_version": "1.5.0",
          "state": {
            "_model_module": "@jupyter-widgets/controls",
            "_model_module_version": "1.5.0",
            "_model_name": "DescriptionStyleModel",
            "_view_count": null,
            "_view_module": "@jupyter-widgets/base",
            "_view_module_version": "1.2.0",
            "_view_name": "StyleView",
            "description_width": ""
          }
        },
        "29acc945c8bc49fc9e86fa02fa0a257f": {
          "model_module": "@jupyter-widgets/base",
          "model_name": "LayoutModel",
          "model_module_version": "1.2.0",
          "state": {
            "_model_module": "@jupyter-widgets/base",
            "_model_module_version": "1.2.0",
            "_model_name": "LayoutModel",
            "_view_count": null,
            "_view_module": "@jupyter-widgets/base",
            "_view_module_version": "1.2.0",
            "_view_name": "LayoutView",
            "align_content": null,
            "align_items": null,
            "align_self": null,
            "border": null,
            "bottom": null,
            "display": null,
            "flex": null,
            "flex_flow": null,
            "grid_area": null,
            "grid_auto_columns": null,
            "grid_auto_flow": null,
            "grid_auto_rows": null,
            "grid_column": null,
            "grid_gap": null,
            "grid_row": null,
            "grid_template_areas": null,
            "grid_template_columns": null,
            "grid_template_rows": null,
            "height": null,
            "justify_content": null,
            "justify_items": null,
            "left": null,
            "margin": null,
            "max_height": null,
            "max_width": null,
            "min_height": null,
            "min_width": null,
            "object_fit": null,
            "object_position": null,
            "order": null,
            "overflow": null,
            "overflow_x": null,
            "overflow_y": null,
            "padding": null,
            "right": null,
            "top": null,
            "visibility": null,
            "width": "20px"
          }
        },
        "add5feccfd5f40b8be56c5bb0f060a24": {
          "model_module": "@jupyter-widgets/controls",
          "model_name": "ProgressStyleModel",
          "model_module_version": "1.5.0",
          "state": {
            "_model_module": "@jupyter-widgets/controls",
            "_model_module_version": "1.5.0",
            "_model_name": "ProgressStyleModel",
            "_view_count": null,
            "_view_module": "@jupyter-widgets/base",
            "_view_module_version": "1.2.0",
            "_view_name": "StyleView",
            "bar_color": null,
            "description_width": ""
          }
        },
        "bd72f32616654a6da05ec8620a84bab2": {
          "model_module": "@jupyter-widgets/base",
          "model_name": "LayoutModel",
          "model_module_version": "1.2.0",
          "state": {
            "_model_module": "@jupyter-widgets/base",
            "_model_module_version": "1.2.0",
            "_model_name": "LayoutModel",
            "_view_count": null,
            "_view_module": "@jupyter-widgets/base",
            "_view_module_version": "1.2.0",
            "_view_name": "LayoutView",
            "align_content": null,
            "align_items": null,
            "align_self": null,
            "border": null,
            "bottom": null,
            "display": null,
            "flex": null,
            "flex_flow": null,
            "grid_area": null,
            "grid_auto_columns": null,
            "grid_auto_flow": null,
            "grid_auto_rows": null,
            "grid_column": null,
            "grid_gap": null,
            "grid_row": null,
            "grid_template_areas": null,
            "grid_template_columns": null,
            "grid_template_rows": null,
            "height": null,
            "justify_content": null,
            "justify_items": null,
            "left": null,
            "margin": null,
            "max_height": null,
            "max_width": null,
            "min_height": null,
            "min_width": null,
            "object_fit": null,
            "object_position": null,
            "order": null,
            "overflow": null,
            "overflow_x": null,
            "overflow_y": null,
            "padding": null,
            "right": null,
            "top": null,
            "visibility": null,
            "width": null
          }
        },
        "e13b8fc4913447beb417e6fcd38f5e79": {
          "model_module": "@jupyter-widgets/controls",
          "model_name": "DescriptionStyleModel",
          "model_module_version": "1.5.0",
          "state": {
            "_model_module": "@jupyter-widgets/controls",
            "_model_module_version": "1.5.0",
            "_model_name": "DescriptionStyleModel",
            "_view_count": null,
            "_view_module": "@jupyter-widgets/base",
            "_view_module_version": "1.2.0",
            "_view_name": "StyleView",
            "description_width": ""
          }
        },
        "e5afcd4f3b2a41ae81a1c9d5bd0ce8d2": {
          "model_module": "@jupyter-widgets/controls",
          "model_name": "HBoxModel",
          "model_module_version": "1.5.0",
          "state": {
            "_dom_classes": [],
            "_model_module": "@jupyter-widgets/controls",
            "_model_module_version": "1.5.0",
            "_model_name": "HBoxModel",
            "_view_count": null,
            "_view_module": "@jupyter-widgets/controls",
            "_view_module_version": "1.5.0",
            "_view_name": "HBoxView",
            "box_style": "",
            "children": [
              "IPY_MODEL_5e7795b2dc1f41ef8310f8527df6b05a",
              "IPY_MODEL_dd80dc15af8d43b3a85b964dabf70c47",
              "IPY_MODEL_9021b0ac627c468188f26f199c3a9eeb"
            ],
            "layout": "IPY_MODEL_af2d2271767d47a883a3364cf9927d57"
          }
        },
        "5e7795b2dc1f41ef8310f8527df6b05a": {
          "model_module": "@jupyter-widgets/controls",
          "model_name": "HTMLModel",
          "model_module_version": "1.5.0",
          "state": {
            "_dom_classes": [],
            "_model_module": "@jupyter-widgets/controls",
            "_model_module_version": "1.5.0",
            "_model_name": "HTMLModel",
            "_view_count": null,
            "_view_module": "@jupyter-widgets/controls",
            "_view_module_version": "1.5.0",
            "_view_name": "HTMLView",
            "description": "",
            "description_tooltip": null,
            "layout": "IPY_MODEL_7dce5887c17b4914820b92b568f61b1c",
            "placeholder": "​",
            "style": "IPY_MODEL_8079e1bcce0040b9ad0abb05489eb1ec",
            "value": "Extraction completed...: 100%"
          }
        },
        "dd80dc15af8d43b3a85b964dabf70c47": {
          "model_module": "@jupyter-widgets/controls",
          "model_name": "FloatProgressModel",
          "model_module_version": "1.5.0",
          "state": {
            "_dom_classes": [],
            "_model_module": "@jupyter-widgets/controls",
            "_model_module_version": "1.5.0",
            "_model_name": "FloatProgressModel",
            "_view_count": null,
            "_view_module": "@jupyter-widgets/controls",
            "_view_module_version": "1.5.0",
            "_view_name": "ProgressView",
            "bar_style": "success",
            "description": "",
            "description_tooltip": null,
            "layout": "IPY_MODEL_c556ccf39e234948a490935cb0452cb3",
            "max": 1,
            "min": 0,
            "orientation": "horizontal",
            "style": "IPY_MODEL_d32aae29179a4a2b8f261bf0f4c6f53a",
            "value": 1
          }
        },
        "9021b0ac627c468188f26f199c3a9eeb": {
          "model_module": "@jupyter-widgets/controls",
          "model_name": "HTMLModel",
          "model_module_version": "1.5.0",
          "state": {
            "_dom_classes": [],
            "_model_module": "@jupyter-widgets/controls",
            "_model_module_version": "1.5.0",
            "_model_name": "HTMLModel",
            "_view_count": null,
            "_view_module": "@jupyter-widgets/controls",
            "_view_module_version": "1.5.0",
            "_view_name": "HTMLView",
            "description": "",
            "description_tooltip": null,
            "layout": "IPY_MODEL_630ed0fd5e78412ebc07819412d5a7e9",
            "placeholder": "​",
            "style": "IPY_MODEL_6f37b52e6fd64e80811f7953e560c161",
            "value": " 20583/20583 [01:09&lt;00:00, 942.41 file/s]"
          }
        },
        "af2d2271767d47a883a3364cf9927d57": {
          "model_module": "@jupyter-widgets/base",
          "model_name": "LayoutModel",
          "model_module_version": "1.2.0",
          "state": {
            "_model_module": "@jupyter-widgets/base",
            "_model_module_version": "1.2.0",
            "_model_name": "LayoutModel",
            "_view_count": null,
            "_view_module": "@jupyter-widgets/base",
            "_view_module_version": "1.2.0",
            "_view_name": "LayoutView",
            "align_content": null,
            "align_items": null,
            "align_self": null,
            "border": null,
            "bottom": null,
            "display": null,
            "flex": null,
            "flex_flow": null,
            "grid_area": null,
            "grid_auto_columns": null,
            "grid_auto_flow": null,
            "grid_auto_rows": null,
            "grid_column": null,
            "grid_gap": null,
            "grid_row": null,
            "grid_template_areas": null,
            "grid_template_columns": null,
            "grid_template_rows": null,
            "height": null,
            "justify_content": null,
            "justify_items": null,
            "left": null,
            "margin": null,
            "max_height": null,
            "max_width": null,
            "min_height": null,
            "min_width": null,
            "object_fit": null,
            "object_position": null,
            "order": null,
            "overflow": null,
            "overflow_x": null,
            "overflow_y": null,
            "padding": null,
            "right": null,
            "top": null,
            "visibility": null,
            "width": null
          }
        },
        "7dce5887c17b4914820b92b568f61b1c": {
          "model_module": "@jupyter-widgets/base",
          "model_name": "LayoutModel",
          "model_module_version": "1.2.0",
          "state": {
            "_model_module": "@jupyter-widgets/base",
            "_model_module_version": "1.2.0",
            "_model_name": "LayoutModel",
            "_view_count": null,
            "_view_module": "@jupyter-widgets/base",
            "_view_module_version": "1.2.0",
            "_view_name": "LayoutView",
            "align_content": null,
            "align_items": null,
            "align_self": null,
            "border": null,
            "bottom": null,
            "display": null,
            "flex": null,
            "flex_flow": null,
            "grid_area": null,
            "grid_auto_columns": null,
            "grid_auto_flow": null,
            "grid_auto_rows": null,
            "grid_column": null,
            "grid_gap": null,
            "grid_row": null,
            "grid_template_areas": null,
            "grid_template_columns": null,
            "grid_template_rows": null,
            "height": null,
            "justify_content": null,
            "justify_items": null,
            "left": null,
            "margin": null,
            "max_height": null,
            "max_width": null,
            "min_height": null,
            "min_width": null,
            "object_fit": null,
            "object_position": null,
            "order": null,
            "overflow": null,
            "overflow_x": null,
            "overflow_y": null,
            "padding": null,
            "right": null,
            "top": null,
            "visibility": null,
            "width": null
          }
        },
        "8079e1bcce0040b9ad0abb05489eb1ec": {
          "model_module": "@jupyter-widgets/controls",
          "model_name": "DescriptionStyleModel",
          "model_module_version": "1.5.0",
          "state": {
            "_model_module": "@jupyter-widgets/controls",
            "_model_module_version": "1.5.0",
            "_model_name": "DescriptionStyleModel",
            "_view_count": null,
            "_view_module": "@jupyter-widgets/base",
            "_view_module_version": "1.2.0",
            "_view_name": "StyleView",
            "description_width": ""
          }
        },
        "c556ccf39e234948a490935cb0452cb3": {
          "model_module": "@jupyter-widgets/base",
          "model_name": "LayoutModel",
          "model_module_version": "1.2.0",
          "state": {
            "_model_module": "@jupyter-widgets/base",
            "_model_module_version": "1.2.0",
            "_model_name": "LayoutModel",
            "_view_count": null,
            "_view_module": "@jupyter-widgets/base",
            "_view_module_version": "1.2.0",
            "_view_name": "LayoutView",
            "align_content": null,
            "align_items": null,
            "align_self": null,
            "border": null,
            "bottom": null,
            "display": null,
            "flex": null,
            "flex_flow": null,
            "grid_area": null,
            "grid_auto_columns": null,
            "grid_auto_flow": null,
            "grid_auto_rows": null,
            "grid_column": null,
            "grid_gap": null,
            "grid_row": null,
            "grid_template_areas": null,
            "grid_template_columns": null,
            "grid_template_rows": null,
            "height": null,
            "justify_content": null,
            "justify_items": null,
            "left": null,
            "margin": null,
            "max_height": null,
            "max_width": null,
            "min_height": null,
            "min_width": null,
            "object_fit": null,
            "object_position": null,
            "order": null,
            "overflow": null,
            "overflow_x": null,
            "overflow_y": null,
            "padding": null,
            "right": null,
            "top": null,
            "visibility": null,
            "width": "20px"
          }
        },
        "d32aae29179a4a2b8f261bf0f4c6f53a": {
          "model_module": "@jupyter-widgets/controls",
          "model_name": "ProgressStyleModel",
          "model_module_version": "1.5.0",
          "state": {
            "_model_module": "@jupyter-widgets/controls",
            "_model_module_version": "1.5.0",
            "_model_name": "ProgressStyleModel",
            "_view_count": null,
            "_view_module": "@jupyter-widgets/base",
            "_view_module_version": "1.2.0",
            "_view_name": "StyleView",
            "bar_color": null,
            "description_width": ""
          }
        },
        "630ed0fd5e78412ebc07819412d5a7e9": {
          "model_module": "@jupyter-widgets/base",
          "model_name": "LayoutModel",
          "model_module_version": "1.2.0",
          "state": {
            "_model_module": "@jupyter-widgets/base",
            "_model_module_version": "1.2.0",
            "_model_name": "LayoutModel",
            "_view_count": null,
            "_view_module": "@jupyter-widgets/base",
            "_view_module_version": "1.2.0",
            "_view_name": "LayoutView",
            "align_content": null,
            "align_items": null,
            "align_self": null,
            "border": null,
            "bottom": null,
            "display": null,
            "flex": null,
            "flex_flow": null,
            "grid_area": null,
            "grid_auto_columns": null,
            "grid_auto_flow": null,
            "grid_auto_rows": null,
            "grid_column": null,
            "grid_gap": null,
            "grid_row": null,
            "grid_template_areas": null,
            "grid_template_columns": null,
            "grid_template_rows": null,
            "height": null,
            "justify_content": null,
            "justify_items": null,
            "left": null,
            "margin": null,
            "max_height": null,
            "max_width": null,
            "min_height": null,
            "min_width": null,
            "object_fit": null,
            "object_position": null,
            "order": null,
            "overflow": null,
            "overflow_x": null,
            "overflow_y": null,
            "padding": null,
            "right": null,
            "top": null,
            "visibility": null,
            "width": null
          }
        },
        "6f37b52e6fd64e80811f7953e560c161": {
          "model_module": "@jupyter-widgets/controls",
          "model_name": "DescriptionStyleModel",
          "model_module_version": "1.5.0",
          "state": {
            "_model_module": "@jupyter-widgets/controls",
            "_model_module_version": "1.5.0",
            "_model_name": "DescriptionStyleModel",
            "_view_count": null,
            "_view_module": "@jupyter-widgets/base",
            "_view_module_version": "1.2.0",
            "_view_name": "StyleView",
            "description_width": ""
          }
        },
        "11239bdc1b434e3a85e094d72a99bf36": {
          "model_module": "@jupyter-widgets/controls",
          "model_name": "HBoxModel",
          "model_module_version": "1.5.0",
          "state": {
            "_dom_classes": [],
            "_model_module": "@jupyter-widgets/controls",
            "_model_module_version": "1.5.0",
            "_model_name": "HBoxModel",
            "_view_count": null,
            "_view_module": "@jupyter-widgets/controls",
            "_view_module_version": "1.5.0",
            "_view_name": "HBoxView",
            "box_style": "",
            "children": [
              "IPY_MODEL_fca8c4a0268e463f872e0abfe9d3305d",
              "IPY_MODEL_6b362715ae52451f90617df39de78935",
              "IPY_MODEL_c46f4c10da81440593fefe8c9e8a2a90"
            ],
            "layout": "IPY_MODEL_8929be66c3484324b1fc66f9e8601c82"
          }
        },
        "fca8c4a0268e463f872e0abfe9d3305d": {
          "model_module": "@jupyter-widgets/controls",
          "model_name": "HTMLModel",
          "model_module_version": "1.5.0",
          "state": {
            "_dom_classes": [],
            "_model_module": "@jupyter-widgets/controls",
            "_model_module_version": "1.5.0",
            "_model_name": "HTMLModel",
            "_view_count": null,
            "_view_module": "@jupyter-widgets/controls",
            "_view_module_version": "1.5.0",
            "_view_name": "HTMLView",
            "description": "",
            "description_tooltip": null,
            "layout": "IPY_MODEL_ed66b402fa1b465fa555bc47dd869fae",
            "placeholder": "​",
            "style": "IPY_MODEL_db3cf0fa9e0546cc95c9d2b7d2ec2d3e",
            "value": "Generating splits...: 100%"
          }
        },
        "6b362715ae52451f90617df39de78935": {
          "model_module": "@jupyter-widgets/controls",
          "model_name": "FloatProgressModel",
          "model_module_version": "1.5.0",
          "state": {
            "_dom_classes": [],
            "_model_module": "@jupyter-widgets/controls",
            "_model_module_version": "1.5.0",
            "_model_name": "FloatProgressModel",
            "_view_count": null,
            "_view_module": "@jupyter-widgets/controls",
            "_view_module_version": "1.5.0",
            "_view_name": "ProgressView",
            "bar_style": "",
            "description": "",
            "description_tooltip": null,
            "layout": "IPY_MODEL_87a63f1b0efb45ee8b7ef09271803e11",
            "max": 2,
            "min": 0,
            "orientation": "horizontal",
            "style": "IPY_MODEL_74890ab3292f423fb8890d81dbc693a1",
            "value": 2
          }
        },
        "c46f4c10da81440593fefe8c9e8a2a90": {
          "model_module": "@jupyter-widgets/controls",
          "model_name": "HTMLModel",
          "model_module_version": "1.5.0",
          "state": {
            "_dom_classes": [],
            "_model_module": "@jupyter-widgets/controls",
            "_model_module_version": "1.5.0",
            "_model_name": "HTMLModel",
            "_view_count": null,
            "_view_module": "@jupyter-widgets/controls",
            "_view_module_version": "1.5.0",
            "_view_name": "HTMLView",
            "description": "",
            "description_tooltip": null,
            "layout": "IPY_MODEL_1bf2498ecb8d442fb96cc8239d085e6b",
            "placeholder": "​",
            "style": "IPY_MODEL_6565abe96a7e4cb7bf941535e1e1d430",
            "value": " 2/2 [00:36&lt;00:00, 18.01s/ splits]"
          }
        },
        "8929be66c3484324b1fc66f9e8601c82": {
          "model_module": "@jupyter-widgets/base",
          "model_name": "LayoutModel",
          "model_module_version": "1.2.0",
          "state": {
            "_model_module": "@jupyter-widgets/base",
            "_model_module_version": "1.2.0",
            "_model_name": "LayoutModel",
            "_view_count": null,
            "_view_module": "@jupyter-widgets/base",
            "_view_module_version": "1.2.0",
            "_view_name": "LayoutView",
            "align_content": null,
            "align_items": null,
            "align_self": null,
            "border": null,
            "bottom": null,
            "display": null,
            "flex": null,
            "flex_flow": null,
            "grid_area": null,
            "grid_auto_columns": null,
            "grid_auto_flow": null,
            "grid_auto_rows": null,
            "grid_column": null,
            "grid_gap": null,
            "grid_row": null,
            "grid_template_areas": null,
            "grid_template_columns": null,
            "grid_template_rows": null,
            "height": null,
            "justify_content": null,
            "justify_items": null,
            "left": null,
            "margin": null,
            "max_height": null,
            "max_width": null,
            "min_height": null,
            "min_width": null,
            "object_fit": null,
            "object_position": null,
            "order": null,
            "overflow": null,
            "overflow_x": null,
            "overflow_y": null,
            "padding": null,
            "right": null,
            "top": null,
            "visibility": "hidden",
            "width": null
          }
        },
        "ed66b402fa1b465fa555bc47dd869fae": {
          "model_module": "@jupyter-widgets/base",
          "model_name": "LayoutModel",
          "model_module_version": "1.2.0",
          "state": {
            "_model_module": "@jupyter-widgets/base",
            "_model_module_version": "1.2.0",
            "_model_name": "LayoutModel",
            "_view_count": null,
            "_view_module": "@jupyter-widgets/base",
            "_view_module_version": "1.2.0",
            "_view_name": "LayoutView",
            "align_content": null,
            "align_items": null,
            "align_self": null,
            "border": null,
            "bottom": null,
            "display": null,
            "flex": null,
            "flex_flow": null,
            "grid_area": null,
            "grid_auto_columns": null,
            "grid_auto_flow": null,
            "grid_auto_rows": null,
            "grid_column": null,
            "grid_gap": null,
            "grid_row": null,
            "grid_template_areas": null,
            "grid_template_columns": null,
            "grid_template_rows": null,
            "height": null,
            "justify_content": null,
            "justify_items": null,
            "left": null,
            "margin": null,
            "max_height": null,
            "max_width": null,
            "min_height": null,
            "min_width": null,
            "object_fit": null,
            "object_position": null,
            "order": null,
            "overflow": null,
            "overflow_x": null,
            "overflow_y": null,
            "padding": null,
            "right": null,
            "top": null,
            "visibility": null,
            "width": null
          }
        },
        "db3cf0fa9e0546cc95c9d2b7d2ec2d3e": {
          "model_module": "@jupyter-widgets/controls",
          "model_name": "DescriptionStyleModel",
          "model_module_version": "1.5.0",
          "state": {
            "_model_module": "@jupyter-widgets/controls",
            "_model_module_version": "1.5.0",
            "_model_name": "DescriptionStyleModel",
            "_view_count": null,
            "_view_module": "@jupyter-widgets/base",
            "_view_module_version": "1.2.0",
            "_view_name": "StyleView",
            "description_width": ""
          }
        },
        "87a63f1b0efb45ee8b7ef09271803e11": {
          "model_module": "@jupyter-widgets/base",
          "model_name": "LayoutModel",
          "model_module_version": "1.2.0",
          "state": {
            "_model_module": "@jupyter-widgets/base",
            "_model_module_version": "1.2.0",
            "_model_name": "LayoutModel",
            "_view_count": null,
            "_view_module": "@jupyter-widgets/base",
            "_view_module_version": "1.2.0",
            "_view_name": "LayoutView",
            "align_content": null,
            "align_items": null,
            "align_self": null,
            "border": null,
            "bottom": null,
            "display": null,
            "flex": null,
            "flex_flow": null,
            "grid_area": null,
            "grid_auto_columns": null,
            "grid_auto_flow": null,
            "grid_auto_rows": null,
            "grid_column": null,
            "grid_gap": null,
            "grid_row": null,
            "grid_template_areas": null,
            "grid_template_columns": null,
            "grid_template_rows": null,
            "height": null,
            "justify_content": null,
            "justify_items": null,
            "left": null,
            "margin": null,
            "max_height": null,
            "max_width": null,
            "min_height": null,
            "min_width": null,
            "object_fit": null,
            "object_position": null,
            "order": null,
            "overflow": null,
            "overflow_x": null,
            "overflow_y": null,
            "padding": null,
            "right": null,
            "top": null,
            "visibility": null,
            "width": null
          }
        },
        "74890ab3292f423fb8890d81dbc693a1": {
          "model_module": "@jupyter-widgets/controls",
          "model_name": "ProgressStyleModel",
          "model_module_version": "1.5.0",
          "state": {
            "_model_module": "@jupyter-widgets/controls",
            "_model_module_version": "1.5.0",
            "_model_name": "ProgressStyleModel",
            "_view_count": null,
            "_view_module": "@jupyter-widgets/base",
            "_view_module_version": "1.2.0",
            "_view_name": "StyleView",
            "bar_color": null,
            "description_width": ""
          }
        },
        "1bf2498ecb8d442fb96cc8239d085e6b": {
          "model_module": "@jupyter-widgets/base",
          "model_name": "LayoutModel",
          "model_module_version": "1.2.0",
          "state": {
            "_model_module": "@jupyter-widgets/base",
            "_model_module_version": "1.2.0",
            "_model_name": "LayoutModel",
            "_view_count": null,
            "_view_module": "@jupyter-widgets/base",
            "_view_module_version": "1.2.0",
            "_view_name": "LayoutView",
            "align_content": null,
            "align_items": null,
            "align_self": null,
            "border": null,
            "bottom": null,
            "display": null,
            "flex": null,
            "flex_flow": null,
            "grid_area": null,
            "grid_auto_columns": null,
            "grid_auto_flow": null,
            "grid_auto_rows": null,
            "grid_column": null,
            "grid_gap": null,
            "grid_row": null,
            "grid_template_areas": null,
            "grid_template_columns": null,
            "grid_template_rows": null,
            "height": null,
            "justify_content": null,
            "justify_items": null,
            "left": null,
            "margin": null,
            "max_height": null,
            "max_width": null,
            "min_height": null,
            "min_width": null,
            "object_fit": null,
            "object_position": null,
            "order": null,
            "overflow": null,
            "overflow_x": null,
            "overflow_y": null,
            "padding": null,
            "right": null,
            "top": null,
            "visibility": null,
            "width": null
          }
        },
        "6565abe96a7e4cb7bf941535e1e1d430": {
          "model_module": "@jupyter-widgets/controls",
          "model_name": "DescriptionStyleModel",
          "model_module_version": "1.5.0",
          "state": {
            "_model_module": "@jupyter-widgets/controls",
            "_model_module_version": "1.5.0",
            "_model_name": "DescriptionStyleModel",
            "_view_count": null,
            "_view_module": "@jupyter-widgets/base",
            "_view_module_version": "1.2.0",
            "_view_name": "StyleView",
            "description_width": ""
          }
        },
        "ab587b200e34460b93687336cf641039": {
          "model_module": "@jupyter-widgets/controls",
          "model_name": "HBoxModel",
          "model_module_version": "1.5.0",
          "state": {
            "_dom_classes": [],
            "_model_module": "@jupyter-widgets/controls",
            "_model_module_version": "1.5.0",
            "_model_name": "HBoxModel",
            "_view_count": null,
            "_view_module": "@jupyter-widgets/controls",
            "_view_module_version": "1.5.0",
            "_view_name": "HBoxView",
            "box_style": "",
            "children": [
              "IPY_MODEL_241630b25e134af6b7ea7ed1a08fdaeb",
              "IPY_MODEL_07684427c62040b28765fbd4afb09418",
              "IPY_MODEL_c14d95342c4c4a07b0695735661eca1a"
            ],
            "layout": "IPY_MODEL_9a43dd9b816d4c5cb38ad491bf26051a"
          }
        },
        "241630b25e134af6b7ea7ed1a08fdaeb": {
          "model_module": "@jupyter-widgets/controls",
          "model_name": "HTMLModel",
          "model_module_version": "1.5.0",
          "state": {
            "_dom_classes": [],
            "_model_module": "@jupyter-widgets/controls",
            "_model_module_version": "1.5.0",
            "_model_name": "HTMLModel",
            "_view_count": null,
            "_view_module": "@jupyter-widgets/controls",
            "_view_module_version": "1.5.0",
            "_view_name": "HTMLView",
            "description": "",
            "description_tooltip": null,
            "layout": "IPY_MODEL_b40cd97ec4f14d73b429395ef5216014",
            "placeholder": "​",
            "style": "IPY_MODEL_12f0b98a1d9e4bb6adbfaae0164f0c25",
            "value": "Generating train examples...:  95%"
          }
        },
        "07684427c62040b28765fbd4afb09418": {
          "model_module": "@jupyter-widgets/controls",
          "model_name": "FloatProgressModel",
          "model_module_version": "1.5.0",
          "state": {
            "_dom_classes": [],
            "_model_module": "@jupyter-widgets/controls",
            "_model_module_version": "1.5.0",
            "_model_name": "FloatProgressModel",
            "_view_count": null,
            "_view_module": "@jupyter-widgets/controls",
            "_view_module_version": "1.5.0",
            "_view_name": "ProgressView",
            "bar_style": "",
            "description": "",
            "description_tooltip": null,
            "layout": "IPY_MODEL_aca265aa1ad34eb1b6c0391d7e3ea3f7",
            "max": 12000,
            "min": 0,
            "orientation": "horizontal",
            "style": "IPY_MODEL_a0ecc6dff57344359567a88e4e7d6663",
            "value": 12000
          }
        },
        "c14d95342c4c4a07b0695735661eca1a": {
          "model_module": "@jupyter-widgets/controls",
          "model_name": "HTMLModel",
          "model_module_version": "1.5.0",
          "state": {
            "_dom_classes": [],
            "_model_module": "@jupyter-widgets/controls",
            "_model_module_version": "1.5.0",
            "_model_name": "HTMLModel",
            "_view_count": null,
            "_view_module": "@jupyter-widgets/controls",
            "_view_module_version": "1.5.0",
            "_view_name": "HTMLView",
            "description": "",
            "description_tooltip": null,
            "layout": "IPY_MODEL_e9d9d04970654e68ba29ba9ba8a82845",
            "placeholder": "​",
            "style": "IPY_MODEL_c0fc08cae12040c5a5d61912e2868f2b",
            "value": " 11432/12000 [00:18&lt;00:00, 568.38 examples/s]"
          }
        },
        "9a43dd9b816d4c5cb38ad491bf26051a": {
          "model_module": "@jupyter-widgets/base",
          "model_name": "LayoutModel",
          "model_module_version": "1.2.0",
          "state": {
            "_model_module": "@jupyter-widgets/base",
            "_model_module_version": "1.2.0",
            "_model_name": "LayoutModel",
            "_view_count": null,
            "_view_module": "@jupyter-widgets/base",
            "_view_module_version": "1.2.0",
            "_view_name": "LayoutView",
            "align_content": null,
            "align_items": null,
            "align_self": null,
            "border": null,
            "bottom": null,
            "display": null,
            "flex": null,
            "flex_flow": null,
            "grid_area": null,
            "grid_auto_columns": null,
            "grid_auto_flow": null,
            "grid_auto_rows": null,
            "grid_column": null,
            "grid_gap": null,
            "grid_row": null,
            "grid_template_areas": null,
            "grid_template_columns": null,
            "grid_template_rows": null,
            "height": null,
            "justify_content": null,
            "justify_items": null,
            "left": null,
            "margin": null,
            "max_height": null,
            "max_width": null,
            "min_height": null,
            "min_width": null,
            "object_fit": null,
            "object_position": null,
            "order": null,
            "overflow": null,
            "overflow_x": null,
            "overflow_y": null,
            "padding": null,
            "right": null,
            "top": null,
            "visibility": "hidden",
            "width": null
          }
        },
        "b40cd97ec4f14d73b429395ef5216014": {
          "model_module": "@jupyter-widgets/base",
          "model_name": "LayoutModel",
          "model_module_version": "1.2.0",
          "state": {
            "_model_module": "@jupyter-widgets/base",
            "_model_module_version": "1.2.0",
            "_model_name": "LayoutModel",
            "_view_count": null,
            "_view_module": "@jupyter-widgets/base",
            "_view_module_version": "1.2.0",
            "_view_name": "LayoutView",
            "align_content": null,
            "align_items": null,
            "align_self": null,
            "border": null,
            "bottom": null,
            "display": null,
            "flex": null,
            "flex_flow": null,
            "grid_area": null,
            "grid_auto_columns": null,
            "grid_auto_flow": null,
            "grid_auto_rows": null,
            "grid_column": null,
            "grid_gap": null,
            "grid_row": null,
            "grid_template_areas": null,
            "grid_template_columns": null,
            "grid_template_rows": null,
            "height": null,
            "justify_content": null,
            "justify_items": null,
            "left": null,
            "margin": null,
            "max_height": null,
            "max_width": null,
            "min_height": null,
            "min_width": null,
            "object_fit": null,
            "object_position": null,
            "order": null,
            "overflow": null,
            "overflow_x": null,
            "overflow_y": null,
            "padding": null,
            "right": null,
            "top": null,
            "visibility": null,
            "width": null
          }
        },
        "12f0b98a1d9e4bb6adbfaae0164f0c25": {
          "model_module": "@jupyter-widgets/controls",
          "model_name": "DescriptionStyleModel",
          "model_module_version": "1.5.0",
          "state": {
            "_model_module": "@jupyter-widgets/controls",
            "_model_module_version": "1.5.0",
            "_model_name": "DescriptionStyleModel",
            "_view_count": null,
            "_view_module": "@jupyter-widgets/base",
            "_view_module_version": "1.2.0",
            "_view_name": "StyleView",
            "description_width": ""
          }
        },
        "aca265aa1ad34eb1b6c0391d7e3ea3f7": {
          "model_module": "@jupyter-widgets/base",
          "model_name": "LayoutModel",
          "model_module_version": "1.2.0",
          "state": {
            "_model_module": "@jupyter-widgets/base",
            "_model_module_version": "1.2.0",
            "_model_name": "LayoutModel",
            "_view_count": null,
            "_view_module": "@jupyter-widgets/base",
            "_view_module_version": "1.2.0",
            "_view_name": "LayoutView",
            "align_content": null,
            "align_items": null,
            "align_self": null,
            "border": null,
            "bottom": null,
            "display": null,
            "flex": null,
            "flex_flow": null,
            "grid_area": null,
            "grid_auto_columns": null,
            "grid_auto_flow": null,
            "grid_auto_rows": null,
            "grid_column": null,
            "grid_gap": null,
            "grid_row": null,
            "grid_template_areas": null,
            "grid_template_columns": null,
            "grid_template_rows": null,
            "height": null,
            "justify_content": null,
            "justify_items": null,
            "left": null,
            "margin": null,
            "max_height": null,
            "max_width": null,
            "min_height": null,
            "min_width": null,
            "object_fit": null,
            "object_position": null,
            "order": null,
            "overflow": null,
            "overflow_x": null,
            "overflow_y": null,
            "padding": null,
            "right": null,
            "top": null,
            "visibility": null,
            "width": null
          }
        },
        "a0ecc6dff57344359567a88e4e7d6663": {
          "model_module": "@jupyter-widgets/controls",
          "model_name": "ProgressStyleModel",
          "model_module_version": "1.5.0",
          "state": {
            "_model_module": "@jupyter-widgets/controls",
            "_model_module_version": "1.5.0",
            "_model_name": "ProgressStyleModel",
            "_view_count": null,
            "_view_module": "@jupyter-widgets/base",
            "_view_module_version": "1.2.0",
            "_view_name": "StyleView",
            "bar_color": null,
            "description_width": ""
          }
        },
        "e9d9d04970654e68ba29ba9ba8a82845": {
          "model_module": "@jupyter-widgets/base",
          "model_name": "LayoutModel",
          "model_module_version": "1.2.0",
          "state": {
            "_model_module": "@jupyter-widgets/base",
            "_model_module_version": "1.2.0",
            "_model_name": "LayoutModel",
            "_view_count": null,
            "_view_module": "@jupyter-widgets/base",
            "_view_module_version": "1.2.0",
            "_view_name": "LayoutView",
            "align_content": null,
            "align_items": null,
            "align_self": null,
            "border": null,
            "bottom": null,
            "display": null,
            "flex": null,
            "flex_flow": null,
            "grid_area": null,
            "grid_auto_columns": null,
            "grid_auto_flow": null,
            "grid_auto_rows": null,
            "grid_column": null,
            "grid_gap": null,
            "grid_row": null,
            "grid_template_areas": null,
            "grid_template_columns": null,
            "grid_template_rows": null,
            "height": null,
            "justify_content": null,
            "justify_items": null,
            "left": null,
            "margin": null,
            "max_height": null,
            "max_width": null,
            "min_height": null,
            "min_width": null,
            "object_fit": null,
            "object_position": null,
            "order": null,
            "overflow": null,
            "overflow_x": null,
            "overflow_y": null,
            "padding": null,
            "right": null,
            "top": null,
            "visibility": null,
            "width": null
          }
        },
        "c0fc08cae12040c5a5d61912e2868f2b": {
          "model_module": "@jupyter-widgets/controls",
          "model_name": "DescriptionStyleModel",
          "model_module_version": "1.5.0",
          "state": {
            "_model_module": "@jupyter-widgets/controls",
            "_model_module_version": "1.5.0",
            "_model_name": "DescriptionStyleModel",
            "_view_count": null,
            "_view_module": "@jupyter-widgets/base",
            "_view_module_version": "1.2.0",
            "_view_name": "StyleView",
            "description_width": ""
          }
        },
        "34d50857771e414398ce37d9b5ec785b": {
          "model_module": "@jupyter-widgets/controls",
          "model_name": "HBoxModel",
          "model_module_version": "1.5.0",
          "state": {
            "_dom_classes": [],
            "_model_module": "@jupyter-widgets/controls",
            "_model_module_version": "1.5.0",
            "_model_name": "HBoxModel",
            "_view_count": null,
            "_view_module": "@jupyter-widgets/controls",
            "_view_module_version": "1.5.0",
            "_view_name": "HBoxView",
            "box_style": "",
            "children": [
              "IPY_MODEL_d658693a96234622b017bf4fdfcff0f6",
              "IPY_MODEL_4f612bcc7f6844c3a6f9f5af3b42751d",
              "IPY_MODEL_315fc5aff08e4e5a9976608cc6b82f50"
            ],
            "layout": "IPY_MODEL_c3bba9a7c75045c080f501babdd1802e"
          }
        },
        "d658693a96234622b017bf4fdfcff0f6": {
          "model_module": "@jupyter-widgets/controls",
          "model_name": "HTMLModel",
          "model_module_version": "1.5.0",
          "state": {
            "_dom_classes": [],
            "_model_module": "@jupyter-widgets/controls",
            "_model_module_version": "1.5.0",
            "_model_name": "HTMLModel",
            "_view_count": null,
            "_view_module": "@jupyter-widgets/controls",
            "_view_module_version": "1.5.0",
            "_view_name": "HTMLView",
            "description": "",
            "description_tooltip": null,
            "layout": "IPY_MODEL_0c137ec518604e02ba0890bfa866f713",
            "placeholder": "​",
            "style": "IPY_MODEL_45b63fe2f1eb4bc9b286d98aaf46f8bd",
            "value": "Shuffling /root/tensorflow_datasets/stanford_dogs/0.2.0.incomplete99T6XS/stanford_dogs-train.tfrecord*...:  99%"
          }
        },
        "4f612bcc7f6844c3a6f9f5af3b42751d": {
          "model_module": "@jupyter-widgets/controls",
          "model_name": "FloatProgressModel",
          "model_module_version": "1.5.0",
          "state": {
            "_dom_classes": [],
            "_model_module": "@jupyter-widgets/controls",
            "_model_module_version": "1.5.0",
            "_model_name": "FloatProgressModel",
            "_view_count": null,
            "_view_module": "@jupyter-widgets/controls",
            "_view_module_version": "1.5.0",
            "_view_name": "ProgressView",
            "bar_style": "",
            "description": "",
            "description_tooltip": null,
            "layout": "IPY_MODEL_c613d9d1c44e45b3b7e4756f0c163036",
            "max": 12000,
            "min": 0,
            "orientation": "horizontal",
            "style": "IPY_MODEL_3ad3a4e145714af2a0ae9c5fd9d4f131",
            "value": 12000
          }
        },
        "315fc5aff08e4e5a9976608cc6b82f50": {
          "model_module": "@jupyter-widgets/controls",
          "model_name": "HTMLModel",
          "model_module_version": "1.5.0",
          "state": {
            "_dom_classes": [],
            "_model_module": "@jupyter-widgets/controls",
            "_model_module_version": "1.5.0",
            "_model_name": "HTMLModel",
            "_view_count": null,
            "_view_module": "@jupyter-widgets/controls",
            "_view_module_version": "1.5.0",
            "_view_name": "HTMLView",
            "description": "",
            "description_tooltip": null,
            "layout": "IPY_MODEL_45b1247869fe4fa6968e486660315fd2",
            "placeholder": "​",
            "style": "IPY_MODEL_f12723ab8ef84db6b2525cf7d1a27b52",
            "value": " 11931/12000 [00:01&lt;00:00, 8764.34 examples/s]"
          }
        },
        "c3bba9a7c75045c080f501babdd1802e": {
          "model_module": "@jupyter-widgets/base",
          "model_name": "LayoutModel",
          "model_module_version": "1.2.0",
          "state": {
            "_model_module": "@jupyter-widgets/base",
            "_model_module_version": "1.2.0",
            "_model_name": "LayoutModel",
            "_view_count": null,
            "_view_module": "@jupyter-widgets/base",
            "_view_module_version": "1.2.0",
            "_view_name": "LayoutView",
            "align_content": null,
            "align_items": null,
            "align_self": null,
            "border": null,
            "bottom": null,
            "display": null,
            "flex": null,
            "flex_flow": null,
            "grid_area": null,
            "grid_auto_columns": null,
            "grid_auto_flow": null,
            "grid_auto_rows": null,
            "grid_column": null,
            "grid_gap": null,
            "grid_row": null,
            "grid_template_areas": null,
            "grid_template_columns": null,
            "grid_template_rows": null,
            "height": null,
            "justify_content": null,
            "justify_items": null,
            "left": null,
            "margin": null,
            "max_height": null,
            "max_width": null,
            "min_height": null,
            "min_width": null,
            "object_fit": null,
            "object_position": null,
            "order": null,
            "overflow": null,
            "overflow_x": null,
            "overflow_y": null,
            "padding": null,
            "right": null,
            "top": null,
            "visibility": "hidden",
            "width": null
          }
        },
        "0c137ec518604e02ba0890bfa866f713": {
          "model_module": "@jupyter-widgets/base",
          "model_name": "LayoutModel",
          "model_module_version": "1.2.0",
          "state": {
            "_model_module": "@jupyter-widgets/base",
            "_model_module_version": "1.2.0",
            "_model_name": "LayoutModel",
            "_view_count": null,
            "_view_module": "@jupyter-widgets/base",
            "_view_module_version": "1.2.0",
            "_view_name": "LayoutView",
            "align_content": null,
            "align_items": null,
            "align_self": null,
            "border": null,
            "bottom": null,
            "display": null,
            "flex": null,
            "flex_flow": null,
            "grid_area": null,
            "grid_auto_columns": null,
            "grid_auto_flow": null,
            "grid_auto_rows": null,
            "grid_column": null,
            "grid_gap": null,
            "grid_row": null,
            "grid_template_areas": null,
            "grid_template_columns": null,
            "grid_template_rows": null,
            "height": null,
            "justify_content": null,
            "justify_items": null,
            "left": null,
            "margin": null,
            "max_height": null,
            "max_width": null,
            "min_height": null,
            "min_width": null,
            "object_fit": null,
            "object_position": null,
            "order": null,
            "overflow": null,
            "overflow_x": null,
            "overflow_y": null,
            "padding": null,
            "right": null,
            "top": null,
            "visibility": null,
            "width": null
          }
        },
        "45b63fe2f1eb4bc9b286d98aaf46f8bd": {
          "model_module": "@jupyter-widgets/controls",
          "model_name": "DescriptionStyleModel",
          "model_module_version": "1.5.0",
          "state": {
            "_model_module": "@jupyter-widgets/controls",
            "_model_module_version": "1.5.0",
            "_model_name": "DescriptionStyleModel",
            "_view_count": null,
            "_view_module": "@jupyter-widgets/base",
            "_view_module_version": "1.2.0",
            "_view_name": "StyleView",
            "description_width": ""
          }
        },
        "c613d9d1c44e45b3b7e4756f0c163036": {
          "model_module": "@jupyter-widgets/base",
          "model_name": "LayoutModel",
          "model_module_version": "1.2.0",
          "state": {
            "_model_module": "@jupyter-widgets/base",
            "_model_module_version": "1.2.0",
            "_model_name": "LayoutModel",
            "_view_count": null,
            "_view_module": "@jupyter-widgets/base",
            "_view_module_version": "1.2.0",
            "_view_name": "LayoutView",
            "align_content": null,
            "align_items": null,
            "align_self": null,
            "border": null,
            "bottom": null,
            "display": null,
            "flex": null,
            "flex_flow": null,
            "grid_area": null,
            "grid_auto_columns": null,
            "grid_auto_flow": null,
            "grid_auto_rows": null,
            "grid_column": null,
            "grid_gap": null,
            "grid_row": null,
            "grid_template_areas": null,
            "grid_template_columns": null,
            "grid_template_rows": null,
            "height": null,
            "justify_content": null,
            "justify_items": null,
            "left": null,
            "margin": null,
            "max_height": null,
            "max_width": null,
            "min_height": null,
            "min_width": null,
            "object_fit": null,
            "object_position": null,
            "order": null,
            "overflow": null,
            "overflow_x": null,
            "overflow_y": null,
            "padding": null,
            "right": null,
            "top": null,
            "visibility": null,
            "width": null
          }
        },
        "3ad3a4e145714af2a0ae9c5fd9d4f131": {
          "model_module": "@jupyter-widgets/controls",
          "model_name": "ProgressStyleModel",
          "model_module_version": "1.5.0",
          "state": {
            "_model_module": "@jupyter-widgets/controls",
            "_model_module_version": "1.5.0",
            "_model_name": "ProgressStyleModel",
            "_view_count": null,
            "_view_module": "@jupyter-widgets/base",
            "_view_module_version": "1.2.0",
            "_view_name": "StyleView",
            "bar_color": null,
            "description_width": ""
          }
        },
        "45b1247869fe4fa6968e486660315fd2": {
          "model_module": "@jupyter-widgets/base",
          "model_name": "LayoutModel",
          "model_module_version": "1.2.0",
          "state": {
            "_model_module": "@jupyter-widgets/base",
            "_model_module_version": "1.2.0",
            "_model_name": "LayoutModel",
            "_view_count": null,
            "_view_module": "@jupyter-widgets/base",
            "_view_module_version": "1.2.0",
            "_view_name": "LayoutView",
            "align_content": null,
            "align_items": null,
            "align_self": null,
            "border": null,
            "bottom": null,
            "display": null,
            "flex": null,
            "flex_flow": null,
            "grid_area": null,
            "grid_auto_columns": null,
            "grid_auto_flow": null,
            "grid_auto_rows": null,
            "grid_column": null,
            "grid_gap": null,
            "grid_row": null,
            "grid_template_areas": null,
            "grid_template_columns": null,
            "grid_template_rows": null,
            "height": null,
            "justify_content": null,
            "justify_items": null,
            "left": null,
            "margin": null,
            "max_height": null,
            "max_width": null,
            "min_height": null,
            "min_width": null,
            "object_fit": null,
            "object_position": null,
            "order": null,
            "overflow": null,
            "overflow_x": null,
            "overflow_y": null,
            "padding": null,
            "right": null,
            "top": null,
            "visibility": null,
            "width": null
          }
        },
        "f12723ab8ef84db6b2525cf7d1a27b52": {
          "model_module": "@jupyter-widgets/controls",
          "model_name": "DescriptionStyleModel",
          "model_module_version": "1.5.0",
          "state": {
            "_model_module": "@jupyter-widgets/controls",
            "_model_module_version": "1.5.0",
            "_model_name": "DescriptionStyleModel",
            "_view_count": null,
            "_view_module": "@jupyter-widgets/base",
            "_view_module_version": "1.2.0",
            "_view_name": "StyleView",
            "description_width": ""
          }
        },
        "5ebc466ea6ac400e905f9305d855c64f": {
          "model_module": "@jupyter-widgets/controls",
          "model_name": "HBoxModel",
          "model_module_version": "1.5.0",
          "state": {
            "_dom_classes": [],
            "_model_module": "@jupyter-widgets/controls",
            "_model_module_version": "1.5.0",
            "_model_name": "HBoxModel",
            "_view_count": null,
            "_view_module": "@jupyter-widgets/controls",
            "_view_module_version": "1.5.0",
            "_view_name": "HBoxView",
            "box_style": "",
            "children": [
              "IPY_MODEL_09b964059ae841c2b3655fb7acd53081",
              "IPY_MODEL_08ba2c1142a2455ba10d79128feb3537",
              "IPY_MODEL_e79f841dd4204164b9dd48abdd638238"
            ],
            "layout": "IPY_MODEL_b384da56fd3046948a519dd57d7f8454"
          }
        },
        "09b964059ae841c2b3655fb7acd53081": {
          "model_module": "@jupyter-widgets/controls",
          "model_name": "HTMLModel",
          "model_module_version": "1.5.0",
          "state": {
            "_dom_classes": [],
            "_model_module": "@jupyter-widgets/controls",
            "_model_module_version": "1.5.0",
            "_model_name": "HTMLModel",
            "_view_count": null,
            "_view_module": "@jupyter-widgets/controls",
            "_view_module_version": "1.5.0",
            "_view_name": "HTMLView",
            "description": "",
            "description_tooltip": null,
            "layout": "IPY_MODEL_2c25e78cd9124d7da3dbd59e3f1cad6c",
            "placeholder": "​",
            "style": "IPY_MODEL_3f4f4f4401c94faa83444c14cd71fd3c",
            "value": "Generating test examples...:  99%"
          }
        },
        "08ba2c1142a2455ba10d79128feb3537": {
          "model_module": "@jupyter-widgets/controls",
          "model_name": "FloatProgressModel",
          "model_module_version": "1.5.0",
          "state": {
            "_dom_classes": [],
            "_model_module": "@jupyter-widgets/controls",
            "_model_module_version": "1.5.0",
            "_model_name": "FloatProgressModel",
            "_view_count": null,
            "_view_module": "@jupyter-widgets/controls",
            "_view_module_version": "1.5.0",
            "_view_name": "ProgressView",
            "bar_style": "",
            "description": "",
            "description_tooltip": null,
            "layout": "IPY_MODEL_a0249f9cc1714aefbdffbebc23edf2cb",
            "max": 8580,
            "min": 0,
            "orientation": "horizontal",
            "style": "IPY_MODEL_5d3d103f7e484119b3bab9587935b1f2",
            "value": 8580
          }
        },
        "e79f841dd4204164b9dd48abdd638238": {
          "model_module": "@jupyter-widgets/controls",
          "model_name": "HTMLModel",
          "model_module_version": "1.5.0",
          "state": {
            "_dom_classes": [],
            "_model_module": "@jupyter-widgets/controls",
            "_model_module_version": "1.5.0",
            "_model_name": "HTMLModel",
            "_view_count": null,
            "_view_module": "@jupyter-widgets/controls",
            "_view_module_version": "1.5.0",
            "_view_name": "HTMLView",
            "description": "",
            "description_tooltip": null,
            "layout": "IPY_MODEL_f394dfd56df247f6abd0570a1286bc7e",
            "placeholder": "​",
            "style": "IPY_MODEL_4d0a75458fa246929b57a98510482042",
            "value": " 8490/8580 [00:14&lt;00:00, 565.72 examples/s]"
          }
        },
        "b384da56fd3046948a519dd57d7f8454": {
          "model_module": "@jupyter-widgets/base",
          "model_name": "LayoutModel",
          "model_module_version": "1.2.0",
          "state": {
            "_model_module": "@jupyter-widgets/base",
            "_model_module_version": "1.2.0",
            "_model_name": "LayoutModel",
            "_view_count": null,
            "_view_module": "@jupyter-widgets/base",
            "_view_module_version": "1.2.0",
            "_view_name": "LayoutView",
            "align_content": null,
            "align_items": null,
            "align_self": null,
            "border": null,
            "bottom": null,
            "display": null,
            "flex": null,
            "flex_flow": null,
            "grid_area": null,
            "grid_auto_columns": null,
            "grid_auto_flow": null,
            "grid_auto_rows": null,
            "grid_column": null,
            "grid_gap": null,
            "grid_row": null,
            "grid_template_areas": null,
            "grid_template_columns": null,
            "grid_template_rows": null,
            "height": null,
            "justify_content": null,
            "justify_items": null,
            "left": null,
            "margin": null,
            "max_height": null,
            "max_width": null,
            "min_height": null,
            "min_width": null,
            "object_fit": null,
            "object_position": null,
            "order": null,
            "overflow": null,
            "overflow_x": null,
            "overflow_y": null,
            "padding": null,
            "right": null,
            "top": null,
            "visibility": "hidden",
            "width": null
          }
        },
        "2c25e78cd9124d7da3dbd59e3f1cad6c": {
          "model_module": "@jupyter-widgets/base",
          "model_name": "LayoutModel",
          "model_module_version": "1.2.0",
          "state": {
            "_model_module": "@jupyter-widgets/base",
            "_model_module_version": "1.2.0",
            "_model_name": "LayoutModel",
            "_view_count": null,
            "_view_module": "@jupyter-widgets/base",
            "_view_module_version": "1.2.0",
            "_view_name": "LayoutView",
            "align_content": null,
            "align_items": null,
            "align_self": null,
            "border": null,
            "bottom": null,
            "display": null,
            "flex": null,
            "flex_flow": null,
            "grid_area": null,
            "grid_auto_columns": null,
            "grid_auto_flow": null,
            "grid_auto_rows": null,
            "grid_column": null,
            "grid_gap": null,
            "grid_row": null,
            "grid_template_areas": null,
            "grid_template_columns": null,
            "grid_template_rows": null,
            "height": null,
            "justify_content": null,
            "justify_items": null,
            "left": null,
            "margin": null,
            "max_height": null,
            "max_width": null,
            "min_height": null,
            "min_width": null,
            "object_fit": null,
            "object_position": null,
            "order": null,
            "overflow": null,
            "overflow_x": null,
            "overflow_y": null,
            "padding": null,
            "right": null,
            "top": null,
            "visibility": null,
            "width": null
          }
        },
        "3f4f4f4401c94faa83444c14cd71fd3c": {
          "model_module": "@jupyter-widgets/controls",
          "model_name": "DescriptionStyleModel",
          "model_module_version": "1.5.0",
          "state": {
            "_model_module": "@jupyter-widgets/controls",
            "_model_module_version": "1.5.0",
            "_model_name": "DescriptionStyleModel",
            "_view_count": null,
            "_view_module": "@jupyter-widgets/base",
            "_view_module_version": "1.2.0",
            "_view_name": "StyleView",
            "description_width": ""
          }
        },
        "a0249f9cc1714aefbdffbebc23edf2cb": {
          "model_module": "@jupyter-widgets/base",
          "model_name": "LayoutModel",
          "model_module_version": "1.2.0",
          "state": {
            "_model_module": "@jupyter-widgets/base",
            "_model_module_version": "1.2.0",
            "_model_name": "LayoutModel",
            "_view_count": null,
            "_view_module": "@jupyter-widgets/base",
            "_view_module_version": "1.2.0",
            "_view_name": "LayoutView",
            "align_content": null,
            "align_items": null,
            "align_self": null,
            "border": null,
            "bottom": null,
            "display": null,
            "flex": null,
            "flex_flow": null,
            "grid_area": null,
            "grid_auto_columns": null,
            "grid_auto_flow": null,
            "grid_auto_rows": null,
            "grid_column": null,
            "grid_gap": null,
            "grid_row": null,
            "grid_template_areas": null,
            "grid_template_columns": null,
            "grid_template_rows": null,
            "height": null,
            "justify_content": null,
            "justify_items": null,
            "left": null,
            "margin": null,
            "max_height": null,
            "max_width": null,
            "min_height": null,
            "min_width": null,
            "object_fit": null,
            "object_position": null,
            "order": null,
            "overflow": null,
            "overflow_x": null,
            "overflow_y": null,
            "padding": null,
            "right": null,
            "top": null,
            "visibility": null,
            "width": null
          }
        },
        "5d3d103f7e484119b3bab9587935b1f2": {
          "model_module": "@jupyter-widgets/controls",
          "model_name": "ProgressStyleModel",
          "model_module_version": "1.5.0",
          "state": {
            "_model_module": "@jupyter-widgets/controls",
            "_model_module_version": "1.5.0",
            "_model_name": "ProgressStyleModel",
            "_view_count": null,
            "_view_module": "@jupyter-widgets/base",
            "_view_module_version": "1.2.0",
            "_view_name": "StyleView",
            "bar_color": null,
            "description_width": ""
          }
        },
        "f394dfd56df247f6abd0570a1286bc7e": {
          "model_module": "@jupyter-widgets/base",
          "model_name": "LayoutModel",
          "model_module_version": "1.2.0",
          "state": {
            "_model_module": "@jupyter-widgets/base",
            "_model_module_version": "1.2.0",
            "_model_name": "LayoutModel",
            "_view_count": null,
            "_view_module": "@jupyter-widgets/base",
            "_view_module_version": "1.2.0",
            "_view_name": "LayoutView",
            "align_content": null,
            "align_items": null,
            "align_self": null,
            "border": null,
            "bottom": null,
            "display": null,
            "flex": null,
            "flex_flow": null,
            "grid_area": null,
            "grid_auto_columns": null,
            "grid_auto_flow": null,
            "grid_auto_rows": null,
            "grid_column": null,
            "grid_gap": null,
            "grid_row": null,
            "grid_template_areas": null,
            "grid_template_columns": null,
            "grid_template_rows": null,
            "height": null,
            "justify_content": null,
            "justify_items": null,
            "left": null,
            "margin": null,
            "max_height": null,
            "max_width": null,
            "min_height": null,
            "min_width": null,
            "object_fit": null,
            "object_position": null,
            "order": null,
            "overflow": null,
            "overflow_x": null,
            "overflow_y": null,
            "padding": null,
            "right": null,
            "top": null,
            "visibility": null,
            "width": null
          }
        },
        "4d0a75458fa246929b57a98510482042": {
          "model_module": "@jupyter-widgets/controls",
          "model_name": "DescriptionStyleModel",
          "model_module_version": "1.5.0",
          "state": {
            "_model_module": "@jupyter-widgets/controls",
            "_model_module_version": "1.5.0",
            "_model_name": "DescriptionStyleModel",
            "_view_count": null,
            "_view_module": "@jupyter-widgets/base",
            "_view_module_version": "1.2.0",
            "_view_name": "StyleView",
            "description_width": ""
          }
        },
        "9ad73a583eb244ea856a9346dadd11e4": {
          "model_module": "@jupyter-widgets/controls",
          "model_name": "HBoxModel",
          "model_module_version": "1.5.0",
          "state": {
            "_dom_classes": [],
            "_model_module": "@jupyter-widgets/controls",
            "_model_module_version": "1.5.0",
            "_model_name": "HBoxModel",
            "_view_count": null,
            "_view_module": "@jupyter-widgets/controls",
            "_view_module_version": "1.5.0",
            "_view_name": "HBoxView",
            "box_style": "",
            "children": [
              "IPY_MODEL_df1bd8b950574c2783dee0946b3141e1",
              "IPY_MODEL_3c05c321ebeb484097af395185e07d66",
              "IPY_MODEL_8fb0ffb384d44c7db7ac333b34ac279f"
            ],
            "layout": "IPY_MODEL_0e3398ec1f294d41bd8ab4c119ddfa45"
          }
        },
        "df1bd8b950574c2783dee0946b3141e1": {
          "model_module": "@jupyter-widgets/controls",
          "model_name": "HTMLModel",
          "model_module_version": "1.5.0",
          "state": {
            "_dom_classes": [],
            "_model_module": "@jupyter-widgets/controls",
            "_model_module_version": "1.5.0",
            "_model_name": "HTMLModel",
            "_view_count": null,
            "_view_module": "@jupyter-widgets/controls",
            "_view_module_version": "1.5.0",
            "_view_name": "HTMLView",
            "description": "",
            "description_tooltip": null,
            "layout": "IPY_MODEL_9d5c3351a19a47c682d3fafc8d3d32ca",
            "placeholder": "​",
            "style": "IPY_MODEL_fca91bed04974dc7b723ceb82a40b479",
            "value": "Shuffling /root/tensorflow_datasets/stanford_dogs/0.2.0.incomplete99T6XS/stanford_dogs-test.tfrecord*...:  99%"
          }
        },
        "3c05c321ebeb484097af395185e07d66": {
          "model_module": "@jupyter-widgets/controls",
          "model_name": "FloatProgressModel",
          "model_module_version": "1.5.0",
          "state": {
            "_dom_classes": [],
            "_model_module": "@jupyter-widgets/controls",
            "_model_module_version": "1.5.0",
            "_model_name": "FloatProgressModel",
            "_view_count": null,
            "_view_module": "@jupyter-widgets/controls",
            "_view_module_version": "1.5.0",
            "_view_name": "ProgressView",
            "bar_style": "",
            "description": "",
            "description_tooltip": null,
            "layout": "IPY_MODEL_59b369ef803148e7b21709cede5b919e",
            "max": 8580,
            "min": 0,
            "orientation": "horizontal",
            "style": "IPY_MODEL_dfec256c12b34ad589dfd9ea1b5042be",
            "value": 8580
          }
        },
        "8fb0ffb384d44c7db7ac333b34ac279f": {
          "model_module": "@jupyter-widgets/controls",
          "model_name": "HTMLModel",
          "model_module_version": "1.5.0",
          "state": {
            "_dom_classes": [],
            "_model_module": "@jupyter-widgets/controls",
            "_model_module_version": "1.5.0",
            "_model_name": "HTMLModel",
            "_view_count": null,
            "_view_module": "@jupyter-widgets/controls",
            "_view_module_version": "1.5.0",
            "_view_name": "HTMLView",
            "description": "",
            "description_tooltip": null,
            "layout": "IPY_MODEL_d30f80e617364d1ab43b541f57f43cf8",
            "placeholder": "​",
            "style": "IPY_MODEL_7f4d9e02d8604175843512ec7f986ad8",
            "value": " 8501/8580 [00:00&lt;00:00, 9719.78 examples/s]"
          }
        },
        "0e3398ec1f294d41bd8ab4c119ddfa45": {
          "model_module": "@jupyter-widgets/base",
          "model_name": "LayoutModel",
          "model_module_version": "1.2.0",
          "state": {
            "_model_module": "@jupyter-widgets/base",
            "_model_module_version": "1.2.0",
            "_model_name": "LayoutModel",
            "_view_count": null,
            "_view_module": "@jupyter-widgets/base",
            "_view_module_version": "1.2.0",
            "_view_name": "LayoutView",
            "align_content": null,
            "align_items": null,
            "align_self": null,
            "border": null,
            "bottom": null,
            "display": null,
            "flex": null,
            "flex_flow": null,
            "grid_area": null,
            "grid_auto_columns": null,
            "grid_auto_flow": null,
            "grid_auto_rows": null,
            "grid_column": null,
            "grid_gap": null,
            "grid_row": null,
            "grid_template_areas": null,
            "grid_template_columns": null,
            "grid_template_rows": null,
            "height": null,
            "justify_content": null,
            "justify_items": null,
            "left": null,
            "margin": null,
            "max_height": null,
            "max_width": null,
            "min_height": null,
            "min_width": null,
            "object_fit": null,
            "object_position": null,
            "order": null,
            "overflow": null,
            "overflow_x": null,
            "overflow_y": null,
            "padding": null,
            "right": null,
            "top": null,
            "visibility": "hidden",
            "width": null
          }
        },
        "9d5c3351a19a47c682d3fafc8d3d32ca": {
          "model_module": "@jupyter-widgets/base",
          "model_name": "LayoutModel",
          "model_module_version": "1.2.0",
          "state": {
            "_model_module": "@jupyter-widgets/base",
            "_model_module_version": "1.2.0",
            "_model_name": "LayoutModel",
            "_view_count": null,
            "_view_module": "@jupyter-widgets/base",
            "_view_module_version": "1.2.0",
            "_view_name": "LayoutView",
            "align_content": null,
            "align_items": null,
            "align_self": null,
            "border": null,
            "bottom": null,
            "display": null,
            "flex": null,
            "flex_flow": null,
            "grid_area": null,
            "grid_auto_columns": null,
            "grid_auto_flow": null,
            "grid_auto_rows": null,
            "grid_column": null,
            "grid_gap": null,
            "grid_row": null,
            "grid_template_areas": null,
            "grid_template_columns": null,
            "grid_template_rows": null,
            "height": null,
            "justify_content": null,
            "justify_items": null,
            "left": null,
            "margin": null,
            "max_height": null,
            "max_width": null,
            "min_height": null,
            "min_width": null,
            "object_fit": null,
            "object_position": null,
            "order": null,
            "overflow": null,
            "overflow_x": null,
            "overflow_y": null,
            "padding": null,
            "right": null,
            "top": null,
            "visibility": null,
            "width": null
          }
        },
        "fca91bed04974dc7b723ceb82a40b479": {
          "model_module": "@jupyter-widgets/controls",
          "model_name": "DescriptionStyleModel",
          "model_module_version": "1.5.0",
          "state": {
            "_model_module": "@jupyter-widgets/controls",
            "_model_module_version": "1.5.0",
            "_model_name": "DescriptionStyleModel",
            "_view_count": null,
            "_view_module": "@jupyter-widgets/base",
            "_view_module_version": "1.2.0",
            "_view_name": "StyleView",
            "description_width": ""
          }
        },
        "59b369ef803148e7b21709cede5b919e": {
          "model_module": "@jupyter-widgets/base",
          "model_name": "LayoutModel",
          "model_module_version": "1.2.0",
          "state": {
            "_model_module": "@jupyter-widgets/base",
            "_model_module_version": "1.2.0",
            "_model_name": "LayoutModel",
            "_view_count": null,
            "_view_module": "@jupyter-widgets/base",
            "_view_module_version": "1.2.0",
            "_view_name": "LayoutView",
            "align_content": null,
            "align_items": null,
            "align_self": null,
            "border": null,
            "bottom": null,
            "display": null,
            "flex": null,
            "flex_flow": null,
            "grid_area": null,
            "grid_auto_columns": null,
            "grid_auto_flow": null,
            "grid_auto_rows": null,
            "grid_column": null,
            "grid_gap": null,
            "grid_row": null,
            "grid_template_areas": null,
            "grid_template_columns": null,
            "grid_template_rows": null,
            "height": null,
            "justify_content": null,
            "justify_items": null,
            "left": null,
            "margin": null,
            "max_height": null,
            "max_width": null,
            "min_height": null,
            "min_width": null,
            "object_fit": null,
            "object_position": null,
            "order": null,
            "overflow": null,
            "overflow_x": null,
            "overflow_y": null,
            "padding": null,
            "right": null,
            "top": null,
            "visibility": null,
            "width": null
          }
        },
        "dfec256c12b34ad589dfd9ea1b5042be": {
          "model_module": "@jupyter-widgets/controls",
          "model_name": "ProgressStyleModel",
          "model_module_version": "1.5.0",
          "state": {
            "_model_module": "@jupyter-widgets/controls",
            "_model_module_version": "1.5.0",
            "_model_name": "ProgressStyleModel",
            "_view_count": null,
            "_view_module": "@jupyter-widgets/base",
            "_view_module_version": "1.2.0",
            "_view_name": "StyleView",
            "bar_color": null,
            "description_width": ""
          }
        },
        "d30f80e617364d1ab43b541f57f43cf8": {
          "model_module": "@jupyter-widgets/base",
          "model_name": "LayoutModel",
          "model_module_version": "1.2.0",
          "state": {
            "_model_module": "@jupyter-widgets/base",
            "_model_module_version": "1.2.0",
            "_model_name": "LayoutModel",
            "_view_count": null,
            "_view_module": "@jupyter-widgets/base",
            "_view_module_version": "1.2.0",
            "_view_name": "LayoutView",
            "align_content": null,
            "align_items": null,
            "align_self": null,
            "border": null,
            "bottom": null,
            "display": null,
            "flex": null,
            "flex_flow": null,
            "grid_area": null,
            "grid_auto_columns": null,
            "grid_auto_flow": null,
            "grid_auto_rows": null,
            "grid_column": null,
            "grid_gap": null,
            "grid_row": null,
            "grid_template_areas": null,
            "grid_template_columns": null,
            "grid_template_rows": null,
            "height": null,
            "justify_content": null,
            "justify_items": null,
            "left": null,
            "margin": null,
            "max_height": null,
            "max_width": null,
            "min_height": null,
            "min_width": null,
            "object_fit": null,
            "object_position": null,
            "order": null,
            "overflow": null,
            "overflow_x": null,
            "overflow_y": null,
            "padding": null,
            "right": null,
            "top": null,
            "visibility": null,
            "width": null
          }
        },
        "7f4d9e02d8604175843512ec7f986ad8": {
          "model_module": "@jupyter-widgets/controls",
          "model_name": "DescriptionStyleModel",
          "model_module_version": "1.5.0",
          "state": {
            "_model_module": "@jupyter-widgets/controls",
            "_model_module_version": "1.5.0",
            "_model_name": "DescriptionStyleModel",
            "_view_count": null,
            "_view_module": "@jupyter-widgets/base",
            "_view_module_version": "1.2.0",
            "_view_name": "StyleView",
            "description_width": ""
          }
        }
      }
    }
  },
  "nbformat": 4,
  "nbformat_minor": 0
}